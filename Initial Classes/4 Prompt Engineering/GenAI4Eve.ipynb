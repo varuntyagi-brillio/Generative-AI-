{
  "nbformat": 4,
  "nbformat_minor": 0,
  "metadata": {
    "colab": {
      "provenance": []
    },
    "kernelspec": {
      "name": "python3",
      "display_name": "Python 3"
    },
    "language_info": {
      "name": "python"
    }
  },
  "cells": [
    {
      "cell_type": "code",
      "execution_count": null,
      "metadata": {
        "id": "WCSluQM2XfnK"
      },
      "outputs": [],
      "source": [
        "# will start at 7 40 pm"
      ]
    },
    {
      "cell_type": "code",
      "source": [
        "!pip install openai"
      ],
      "metadata": {
        "colab": {
          "base_uri": "https://localhost:8080/"
        },
        "id": "cD0W7JfEcWEi",
        "outputId": "a8cd9053-bdd7-4a02-c9b0-dfb2fdfc5bc8"
      },
      "execution_count": null,
      "outputs": [
        {
          "output_type": "stream",
          "name": "stdout",
          "text": [
            "Collecting openai\n",
            "  Downloading openai-1.35.3-py3-none-any.whl (327 kB)\n",
            "\u001b[2K     \u001b[90m━━━━━━━━━━━━━━━━━━━━━━━━━━━━━━━━━━━━━━━━\u001b[0m \u001b[32m327.4/327.4 kB\u001b[0m \u001b[31m4.9 MB/s\u001b[0m eta \u001b[36m0:00:00\u001b[0m\n",
            "\u001b[?25hRequirement already satisfied: anyio<5,>=3.5.0 in /usr/local/lib/python3.10/dist-packages (from openai) (3.7.1)\n",
            "Requirement already satisfied: distro<2,>=1.7.0 in /usr/lib/python3/dist-packages (from openai) (1.7.0)\n",
            "Collecting httpx<1,>=0.23.0 (from openai)\n",
            "  Downloading httpx-0.27.0-py3-none-any.whl (75 kB)\n",
            "\u001b[2K     \u001b[90m━━━━━━━━━━━━━━━━━━━━━━━━━━━━━━━━━━━━━━━━\u001b[0m \u001b[32m75.6/75.6 kB\u001b[0m \u001b[31m10.4 MB/s\u001b[0m eta \u001b[36m0:00:00\u001b[0m\n",
            "\u001b[?25hRequirement already satisfied: pydantic<3,>=1.9.0 in /usr/local/lib/python3.10/dist-packages (from openai) (2.7.4)\n",
            "Requirement already satisfied: sniffio in /usr/local/lib/python3.10/dist-packages (from openai) (1.3.1)\n",
            "Requirement already satisfied: tqdm>4 in /usr/local/lib/python3.10/dist-packages (from openai) (4.66.4)\n",
            "Requirement already satisfied: typing-extensions<5,>=4.7 in /usr/local/lib/python3.10/dist-packages (from openai) (4.12.2)\n",
            "Requirement already satisfied: idna>=2.8 in /usr/local/lib/python3.10/dist-packages (from anyio<5,>=3.5.0->openai) (3.7)\n",
            "Requirement already satisfied: exceptiongroup in /usr/local/lib/python3.10/dist-packages (from anyio<5,>=3.5.0->openai) (1.2.1)\n",
            "Requirement already satisfied: certifi in /usr/local/lib/python3.10/dist-packages (from httpx<1,>=0.23.0->openai) (2024.6.2)\n",
            "Collecting httpcore==1.* (from httpx<1,>=0.23.0->openai)\n",
            "  Downloading httpcore-1.0.5-py3-none-any.whl (77 kB)\n",
            "\u001b[2K     \u001b[90m━━━━━━━━━━━━━━━━━━━━━━━━━━━━━━━━━━━━━━━━\u001b[0m \u001b[32m77.9/77.9 kB\u001b[0m \u001b[31m10.7 MB/s\u001b[0m eta \u001b[36m0:00:00\u001b[0m\n",
            "\u001b[?25hCollecting h11<0.15,>=0.13 (from httpcore==1.*->httpx<1,>=0.23.0->openai)\n",
            "  Downloading h11-0.14.0-py3-none-any.whl (58 kB)\n",
            "\u001b[2K     \u001b[90m━━━━━━━━━━━━━━━━━━━━━━━━━━━━━━━━━━━━━━━━\u001b[0m \u001b[32m58.3/58.3 kB\u001b[0m \u001b[31m8.0 MB/s\u001b[0m eta \u001b[36m0:00:00\u001b[0m\n",
            "\u001b[?25hRequirement already satisfied: annotated-types>=0.4.0 in /usr/local/lib/python3.10/dist-packages (from pydantic<3,>=1.9.0->openai) (0.7.0)\n",
            "Requirement already satisfied: pydantic-core==2.18.4 in /usr/local/lib/python3.10/dist-packages (from pydantic<3,>=1.9.0->openai) (2.18.4)\n",
            "Installing collected packages: h11, httpcore, httpx, openai\n",
            "Successfully installed h11-0.14.0 httpcore-1.0.5 httpx-0.27.0 openai-1.35.3\n"
          ]
        }
      ]
    },
    {
      "cell_type": "code",
      "source": [
        "from google.colab import drive\n",
        "drive.mount('/content/drive', force_remount= True)"
      ],
      "metadata": {
        "colab": {
          "base_uri": "https://localhost:8080/"
        },
        "id": "boUcgnkBcY7Z",
        "outputId": "57933771-61b6-44b6-92cc-a43f15ffc7e4"
      },
      "execution_count": null,
      "outputs": [
        {
          "output_type": "stream",
          "name": "stdout",
          "text": [
            "Mounted at /content/drive\n"
          ]
        }
      ]
    },
    {
      "cell_type": "code",
      "source": [
        "filepath = '/content/drive/MyDrive/GenAI/'"
      ],
      "metadata": {
        "id": "XyioW51Kccga"
      },
      "execution_count": null,
      "outputs": []
    },
    {
      "cell_type": "code",
      "source": [
        "!ls '/content/drive/MyDrive/GenAI'"
      ],
      "metadata": {
        "colab": {
          "base_uri": "https://localhost:8080/"
        },
        "id": "VcUK2by8cozC",
        "outputId": "d661664c-b074-4bbb-d9d4-91f825c9a462"
      },
      "execution_count": null,
      "outputs": [
        {
          "output_type": "stream",
          "name": "stdout",
          "text": [
            " AI_tutor_system_message_1.txt\t        laptop_descriptions.csv\t\t       tata_transcript.txt\n",
            " AsianPaints.txt\t\t       'Q1FY24 Earnings Call Transcript.pdf'\n",
            " earnings-call-transcript-q4-fy23.pdf   tata_motors_transcript_sample.txt\n"
          ]
        }
      ]
    },
    {
      "cell_type": "code",
      "source": [
        "import openai"
      ],
      "metadata": {
        "id": "frVYjrdgcqQk"
      },
      "execution_count": null,
      "outputs": []
    },
    {
      "cell_type": "code",
      "source": [
        "messages=[\n",
        "    {\"role\": \"system\", \"content\": \"You are a helpful assistant.\"},\n",
        "    {\"role\": \"user\", \"content\": \"Who won IPL 2020\"}\n",
        "    ]\n",
        "\n",
        "# Make a chat completion API call using the GPT-3.5-turbo model\n",
        "chat_response = openai.chat.completions.create(\n",
        "  model=\"gpt-3.5-turbo-16k\",\n",
        "  messages=messages\n",
        ")\n",
        "\n",
        "# Print chat response as needed\n",
        "chat_response"
      ],
      "metadata": {
        "colab": {
          "base_uri": "https://localhost:8080/"
        },
        "id": "EL1rIfoAcyq5",
        "outputId": "51e42666-3652-4a69-ea34-504178b5f049"
      },
      "execution_count": null,
      "outputs": [
        {
          "output_type": "execute_result",
          "data": {
            "text/plain": [
              "ChatCompletion(id='chatcmpl-9dIJJIFoaQtU2dnCR8DAgtPrZJEQR', choices=[Choice(finish_reason='stop', index=0, logprobs=None, message=ChatCompletionMessage(content='Mumbai Indians won the Indian Premier League (IPL) 2020.', role='assistant', function_call=None, tool_calls=None))], created=1719152205, model='gpt-3.5-turbo-16k-0613', object='chat.completion', service_tier=None, system_fingerprint=None, usage=CompletionUsage(completion_tokens=16, prompt_tokens=23, total_tokens=39))"
            ]
          },
          "metadata": {},
          "execution_count": 7
        }
      ]
    },
    {
      "cell_type": "code",
      "source": [
        "import pandas as pd\n",
        "import numpy as np\n",
        "df = pd.read_csv('laptop_descriptions.csv')\n",
        "df.head()"
      ],
      "metadata": {
        "colab": {
          "base_uri": "https://localhost:8080/",
          "height": 206
        },
        "id": "uiuNm5rAdNlw",
        "outputId": "80418391-23f1-4c76-8880-9eed96ed0223"
      },
      "execution_count": null,
      "outputs": [
        {
          "output_type": "execute_result",
          "data": {
            "text/plain": [
              "                                  laptop_description\n",
              "0  The Dell Inspiron is a versatile laptop that c...\n",
              "1  The MSI GL65 is a high-performance laptop desi...\n",
              "2  The HP EliteBook is a premium laptop designed ...\n",
              "3  The Lenovo IdeaPad is a versatile laptop that ...\n",
              "4  The ASUS ZenBook Pro is a high-end laptop that..."
            ],
            "text/html": [
              "\n",
              "  <div id=\"df-812c9645-6f97-43f3-8607-c760ffd237b7\" class=\"colab-df-container\">\n",
              "    <div>\n",
              "<style scoped>\n",
              "    .dataframe tbody tr th:only-of-type {\n",
              "        vertical-align: middle;\n",
              "    }\n",
              "\n",
              "    .dataframe tbody tr th {\n",
              "        vertical-align: top;\n",
              "    }\n",
              "\n",
              "    .dataframe thead th {\n",
              "        text-align: right;\n",
              "    }\n",
              "</style>\n",
              "<table border=\"1\" class=\"dataframe\">\n",
              "  <thead>\n",
              "    <tr style=\"text-align: right;\">\n",
              "      <th></th>\n",
              "      <th>laptop_description</th>\n",
              "    </tr>\n",
              "  </thead>\n",
              "  <tbody>\n",
              "    <tr>\n",
              "      <th>0</th>\n",
              "      <td>The Dell Inspiron is a versatile laptop that c...</td>\n",
              "    </tr>\n",
              "    <tr>\n",
              "      <th>1</th>\n",
              "      <td>The MSI GL65 is a high-performance laptop desi...</td>\n",
              "    </tr>\n",
              "    <tr>\n",
              "      <th>2</th>\n",
              "      <td>The HP EliteBook is a premium laptop designed ...</td>\n",
              "    </tr>\n",
              "    <tr>\n",
              "      <th>3</th>\n",
              "      <td>The Lenovo IdeaPad is a versatile laptop that ...</td>\n",
              "    </tr>\n",
              "    <tr>\n",
              "      <th>4</th>\n",
              "      <td>The ASUS ZenBook Pro is a high-end laptop that...</td>\n",
              "    </tr>\n",
              "  </tbody>\n",
              "</table>\n",
              "</div>\n",
              "    <div class=\"colab-df-buttons\">\n",
              "\n",
              "  <div class=\"colab-df-container\">\n",
              "    <button class=\"colab-df-convert\" onclick=\"convertToInteractive('df-812c9645-6f97-43f3-8607-c760ffd237b7')\"\n",
              "            title=\"Convert this dataframe to an interactive table.\"\n",
              "            style=\"display:none;\">\n",
              "\n",
              "  <svg xmlns=\"http://www.w3.org/2000/svg\" height=\"24px\" viewBox=\"0 -960 960 960\">\n",
              "    <path d=\"M120-120v-720h720v720H120Zm60-500h600v-160H180v160Zm220 220h160v-160H400v160Zm0 220h160v-160H400v160ZM180-400h160v-160H180v160Zm440 0h160v-160H620v160ZM180-180h160v-160H180v160Zm440 0h160v-160H620v160Z\"/>\n",
              "  </svg>\n",
              "    </button>\n",
              "\n",
              "  <style>\n",
              "    .colab-df-container {\n",
              "      display:flex;\n",
              "      gap: 12px;\n",
              "    }\n",
              "\n",
              "    .colab-df-convert {\n",
              "      background-color: #E8F0FE;\n",
              "      border: none;\n",
              "      border-radius: 50%;\n",
              "      cursor: pointer;\n",
              "      display: none;\n",
              "      fill: #1967D2;\n",
              "      height: 32px;\n",
              "      padding: 0 0 0 0;\n",
              "      width: 32px;\n",
              "    }\n",
              "\n",
              "    .colab-df-convert:hover {\n",
              "      background-color: #E2EBFA;\n",
              "      box-shadow: 0px 1px 2px rgba(60, 64, 67, 0.3), 0px 1px 3px 1px rgba(60, 64, 67, 0.15);\n",
              "      fill: #174EA6;\n",
              "    }\n",
              "\n",
              "    .colab-df-buttons div {\n",
              "      margin-bottom: 4px;\n",
              "    }\n",
              "\n",
              "    [theme=dark] .colab-df-convert {\n",
              "      background-color: #3B4455;\n",
              "      fill: #D2E3FC;\n",
              "    }\n",
              "\n",
              "    [theme=dark] .colab-df-convert:hover {\n",
              "      background-color: #434B5C;\n",
              "      box-shadow: 0px 1px 3px 1px rgba(0, 0, 0, 0.15);\n",
              "      filter: drop-shadow(0px 1px 2px rgba(0, 0, 0, 0.3));\n",
              "      fill: #FFFFFF;\n",
              "    }\n",
              "  </style>\n",
              "\n",
              "    <script>\n",
              "      const buttonEl =\n",
              "        document.querySelector('#df-812c9645-6f97-43f3-8607-c760ffd237b7 button.colab-df-convert');\n",
              "      buttonEl.style.display =\n",
              "        google.colab.kernel.accessAllowed ? 'block' : 'none';\n",
              "\n",
              "      async function convertToInteractive(key) {\n",
              "        const element = document.querySelector('#df-812c9645-6f97-43f3-8607-c760ffd237b7');\n",
              "        const dataTable =\n",
              "          await google.colab.kernel.invokeFunction('convertToInteractive',\n",
              "                                                    [key], {});\n",
              "        if (!dataTable) return;\n",
              "\n",
              "        const docLinkHtml = 'Like what you see? Visit the ' +\n",
              "          '<a target=\"_blank\" href=https://colab.research.google.com/notebooks/data_table.ipynb>data table notebook</a>'\n",
              "          + ' to learn more about interactive tables.';\n",
              "        element.innerHTML = '';\n",
              "        dataTable['output_type'] = 'display_data';\n",
              "        await google.colab.output.renderOutput(dataTable, element);\n",
              "        const docLink = document.createElement('div');\n",
              "        docLink.innerHTML = docLinkHtml;\n",
              "        element.appendChild(docLink);\n",
              "      }\n",
              "    </script>\n",
              "  </div>\n",
              "\n",
              "\n",
              "<div id=\"df-ca45100c-6488-475a-bcce-50d799dc9d0e\">\n",
              "  <button class=\"colab-df-quickchart\" onclick=\"quickchart('df-ca45100c-6488-475a-bcce-50d799dc9d0e')\"\n",
              "            title=\"Suggest charts\"\n",
              "            style=\"display:none;\">\n",
              "\n",
              "<svg xmlns=\"http://www.w3.org/2000/svg\" height=\"24px\"viewBox=\"0 0 24 24\"\n",
              "     width=\"24px\">\n",
              "    <g>\n",
              "        <path d=\"M19 3H5c-1.1 0-2 .9-2 2v14c0 1.1.9 2 2 2h14c1.1 0 2-.9 2-2V5c0-1.1-.9-2-2-2zM9 17H7v-7h2v7zm4 0h-2V7h2v10zm4 0h-2v-4h2v4z\"/>\n",
              "    </g>\n",
              "</svg>\n",
              "  </button>\n",
              "\n",
              "<style>\n",
              "  .colab-df-quickchart {\n",
              "      --bg-color: #E8F0FE;\n",
              "      --fill-color: #1967D2;\n",
              "      --hover-bg-color: #E2EBFA;\n",
              "      --hover-fill-color: #174EA6;\n",
              "      --disabled-fill-color: #AAA;\n",
              "      --disabled-bg-color: #DDD;\n",
              "  }\n",
              "\n",
              "  [theme=dark] .colab-df-quickchart {\n",
              "      --bg-color: #3B4455;\n",
              "      --fill-color: #D2E3FC;\n",
              "      --hover-bg-color: #434B5C;\n",
              "      --hover-fill-color: #FFFFFF;\n",
              "      --disabled-bg-color: #3B4455;\n",
              "      --disabled-fill-color: #666;\n",
              "  }\n",
              "\n",
              "  .colab-df-quickchart {\n",
              "    background-color: var(--bg-color);\n",
              "    border: none;\n",
              "    border-radius: 50%;\n",
              "    cursor: pointer;\n",
              "    display: none;\n",
              "    fill: var(--fill-color);\n",
              "    height: 32px;\n",
              "    padding: 0;\n",
              "    width: 32px;\n",
              "  }\n",
              "\n",
              "  .colab-df-quickchart:hover {\n",
              "    background-color: var(--hover-bg-color);\n",
              "    box-shadow: 0 1px 2px rgba(60, 64, 67, 0.3), 0 1px 3px 1px rgba(60, 64, 67, 0.15);\n",
              "    fill: var(--button-hover-fill-color);\n",
              "  }\n",
              "\n",
              "  .colab-df-quickchart-complete:disabled,\n",
              "  .colab-df-quickchart-complete:disabled:hover {\n",
              "    background-color: var(--disabled-bg-color);\n",
              "    fill: var(--disabled-fill-color);\n",
              "    box-shadow: none;\n",
              "  }\n",
              "\n",
              "  .colab-df-spinner {\n",
              "    border: 2px solid var(--fill-color);\n",
              "    border-color: transparent;\n",
              "    border-bottom-color: var(--fill-color);\n",
              "    animation:\n",
              "      spin 1s steps(1) infinite;\n",
              "  }\n",
              "\n",
              "  @keyframes spin {\n",
              "    0% {\n",
              "      border-color: transparent;\n",
              "      border-bottom-color: var(--fill-color);\n",
              "      border-left-color: var(--fill-color);\n",
              "    }\n",
              "    20% {\n",
              "      border-color: transparent;\n",
              "      border-left-color: var(--fill-color);\n",
              "      border-top-color: var(--fill-color);\n",
              "    }\n",
              "    30% {\n",
              "      border-color: transparent;\n",
              "      border-left-color: var(--fill-color);\n",
              "      border-top-color: var(--fill-color);\n",
              "      border-right-color: var(--fill-color);\n",
              "    }\n",
              "    40% {\n",
              "      border-color: transparent;\n",
              "      border-right-color: var(--fill-color);\n",
              "      border-top-color: var(--fill-color);\n",
              "    }\n",
              "    60% {\n",
              "      border-color: transparent;\n",
              "      border-right-color: var(--fill-color);\n",
              "    }\n",
              "    80% {\n",
              "      border-color: transparent;\n",
              "      border-right-color: var(--fill-color);\n",
              "      border-bottom-color: var(--fill-color);\n",
              "    }\n",
              "    90% {\n",
              "      border-color: transparent;\n",
              "      border-bottom-color: var(--fill-color);\n",
              "    }\n",
              "  }\n",
              "</style>\n",
              "\n",
              "  <script>\n",
              "    async function quickchart(key) {\n",
              "      const quickchartButtonEl =\n",
              "        document.querySelector('#' + key + ' button');\n",
              "      quickchartButtonEl.disabled = true;  // To prevent multiple clicks.\n",
              "      quickchartButtonEl.classList.add('colab-df-spinner');\n",
              "      try {\n",
              "        const charts = await google.colab.kernel.invokeFunction(\n",
              "            'suggestCharts', [key], {});\n",
              "      } catch (error) {\n",
              "        console.error('Error during call to suggestCharts:', error);\n",
              "      }\n",
              "      quickchartButtonEl.classList.remove('colab-df-spinner');\n",
              "      quickchartButtonEl.classList.add('colab-df-quickchart-complete');\n",
              "    }\n",
              "    (() => {\n",
              "      let quickchartButtonEl =\n",
              "        document.querySelector('#df-ca45100c-6488-475a-bcce-50d799dc9d0e button');\n",
              "      quickchartButtonEl.style.display =\n",
              "        google.colab.kernel.accessAllowed ? 'block' : 'none';\n",
              "    })();\n",
              "  </script>\n",
              "</div>\n",
              "\n",
              "    </div>\n",
              "  </div>\n"
            ],
            "application/vnd.google.colaboratory.intrinsic+json": {
              "type": "dataframe",
              "variable_name": "df",
              "summary": "{\n  \"name\": \"df\",\n  \"rows\": 20,\n  \"fields\": [\n    {\n      \"column\": \"laptop_description\",\n      \"properties\": {\n        \"dtype\": \"string\",\n        \"num_unique_values\": 20,\n        \"samples\": [\n          \"The Dell Inspiron is a versatile laptop that combines powerful performance and affordability. It features an Intel Core i5 processor clocked at 2.4 GHz, ensuring smooth multitasking and efficient computing. With 8GB of RAM and an SSD, it offers quick data access and ample storage capacity. The laptop sports a vibrant 15.6\\\" LCD display with a resolution of 1920x1080, delivering crisp visuals and immersive viewing experience. Weighing just 2.5 kg, it is highly portable, making it ideal for on-the-go usage. Additionally, it boasts an Intel UHD GPU for decent graphical performance and a backlit keyboard for enhanced typing convenience. With a one-year warranty and a battery life of up to 6 hours, the Dell Inspiron is a reliable companion for work or entertainment. All these features are packed at an affordable price of 35,000, making it an excellent choice for budget-conscious users.\",\n          \"The HP ENVY x360 is a versatile 2-in-1 convertible laptop that combines performance and flexibility. It features an Intel Core i7 processor running at 2.8 GHz, providing powerful processing capabilities for multitasking and productivity. With 16GB of RAM and an SSD, it offers fast and efficient performance along with ample storage space. The laptop features a 15.6\\\" IPS display with a resolution of 1920x1080, delivering vibrant visuals and wide viewing angles. It comes with Intel Iris Xe integrated graphics for smooth graphics performance. Weighing 2.05 kg, it offers a good balance between portability and functionality. The laptop features a convertible design, allowing you to switch between laptop and tablet modes for enhanced versatility. With a one-year warranty and a battery life of up to 7 hours, the HP ENVY x360 offers reliability and endurance for everyday use. Priced at 80,000, it provides a versatile computing experience at an affordable price point.\",\n          \"The ASUS ZenBook 13 is a lightweight and powerful laptop that offers a premium computing experience. It is equipped with an Intel Core i7 processor running at 2.8 GHz, providing strong processing power for multitasking and productivity. With 16GB of RAM and an SSD, it offers fast and responsive performance along with ample storage capacity. The laptop features a 13.3\\\" NanoEdge display with a resolution of 1920x1080, delivering crisp visuals and immersive viewing. It comes with Intel Iris Xe integrated graphics for smooth graphics performance. Weighing just 1.11 kg, it is incredibly lightweight and highly portable. The laptop features military-grade durability, ensuring durability and reliability. With a two-year warranty and an impressive battery life of up to 11 hours, the ASUS ZenBook 13 offers long-lasting performance and endurance. Priced at 95,000, it provides a premium experience for users seeking a powerful and lightweight laptop.\"\n        ],\n        \"semantic_type\": \"\",\n        \"description\": \"\"\n      }\n    }\n  ]\n}"
            }
          },
          "metadata": {},
          "execution_count": 8
        }
      ]
    },
    {
      "cell_type": "code",
      "source": [
        "def get_chat_response_mcq1(user_request):\n",
        "\n",
        "  '''\n",
        "  This function ONLY takes `user_request` as the input argument.\n",
        "  As you can see, the System Prompt is given inside the function itself so we don't require to give it as an input argument\n",
        "  '''\n",
        "  MODEL = 'gpt-3.5-turbo-16k'# Define GPT model\n",
        "\n",
        "  SYSTEM_MESSAGE = '''You are a shopping assistant. The user will give you laptop description and some categories and their details. You have to find out which of the categories does the laptop fit best according to description. Remember to only give one word output, the category name, from the list of categories only, which resembles most closely.''' # Default System Message\n",
        "\n",
        "  try:\n",
        "\n",
        "    messages = [\n",
        "        {\"role\": 'system', \"content\": SYSTEM_MESSAGE},\n",
        "        {\"role\": 'user', \"content\": user_request}\n",
        "    ] # Define the list of messages\n",
        "\n",
        "    response = openai.chat.completions.create(\n",
        "        model = MODEL,\n",
        "        messages = messages\n",
        "    )\n",
        "        # Get the ChatCompletion Response from the GPT-3.5 model\n",
        "\n",
        "    # Parse the response_content from the message\n",
        "    response_content = response.choices[0].message.content\n",
        "\n",
        "    return response_content\n",
        "\n",
        "  # Raise exception error\n",
        "  except Exception as e:\n",
        "    print(f\"An error occurred: {e}\")\n",
        "    return None"
      ],
      "metadata": {
        "id": "dXvw3ebWdUMg"
      },
      "execution_count": null,
      "outputs": []
    },
    {
      "cell_type": "code",
      "source": [
        "mcq1_prompt = '''\n",
        "From the description of a laptop (delimited by '###'), you have to identify what role does the laptop serve. Refer to the key value pairs of categories and category details below. Identify which of the following details does the product description fits best and assign that category to that latpop. \\n\n",
        "Categories:\n",
        "[\n",
        "    'general': 'For general purpose use such as light web browsing, editing documents etc.'\n",
        "    'business': 'For business users, the focus is on portability, battery backup and general purpose use.'\n",
        "    'gamer': 'For gamers, the focus is primarily on high-performance, high-end graphics requirement, efficient processor etc.'\n",
        "    'programmer': 'For programmers, the focus is on performance, battery backup, high-end RAM etc.'\n",
        "    'multimedia': 'For multimedia use cases, the requirements are a good quality/ high resolution display, wide screens, good audio and video quality, battery backup, efficiency etc.' # Write the prompt here\n",
        "] \\n\n",
        "Laptop description: {description}\n",
        "'''"
      ],
      "metadata": {
        "id": "i4Mh87OLdiUR"
      },
      "execution_count": null,
      "outputs": []
    },
    {
      "cell_type": "code",
      "source": [
        "def tag_laptop():\n",
        "\n",
        "  laptop_df = df.copy()\n",
        "  laptop_dict = laptop_df.to_dict(orient ='records')\n",
        "\n",
        "\n",
        "  # Get the laptop_category for each laptop_decription df['Description'] by iterating over the dataframe with a for-loop\n",
        "\n",
        "  for i in range(len(laptop_dict)):\n",
        "    prompt = mcq1_prompt.format(description=laptop_dict[i]['laptop_description'])\n",
        "    laptop_category = get_chat_response_mcq1(prompt)\n",
        "    # Assign the laptop category to the column laptop_category\n",
        "    laptop_df.at[i,'Category'] = laptop_category\n",
        "\n",
        "  # return the DataFrame\n",
        "  return laptop_df"
      ],
      "metadata": {
        "id": "bNVVwc6Geckg"
      },
      "execution_count": null,
      "outputs": []
    },
    {
      "cell_type": "code",
      "source": [
        "a = df.copy()"
      ],
      "metadata": {
        "id": "SqHzC9KVekf_"
      },
      "execution_count": null,
      "outputs": []
    },
    {
      "cell_type": "code",
      "source": [
        "a.to_dict(orient='records')"
      ],
      "metadata": {
        "colab": {
          "base_uri": "https://localhost:8080/"
        },
        "id": "nvUq7UL1emMd",
        "outputId": "354181e3-cc69-4adf-f947-59b55e7f8eeb"
      },
      "execution_count": null,
      "outputs": [
        {
          "output_type": "execute_result",
          "data": {
            "text/plain": [
              "[{'laptop_description': 'The Dell Inspiron is a versatile laptop that combines powerful performance and affordability. It features an Intel Core i5 processor clocked at 2.4 GHz, ensuring smooth multitasking and efficient computing. With 8GB of RAM and an SSD, it offers quick data access and ample storage capacity. The laptop sports a vibrant 15.6\" LCD display with a resolution of 1920x1080, delivering crisp visuals and immersive viewing experience. Weighing just 2.5 kg, it is highly portable, making it ideal for on-the-go usage. Additionally, it boasts an Intel UHD GPU for decent graphical performance and a backlit keyboard for enhanced typing convenience. With a one-year warranty and a battery life of up to 6 hours, the Dell Inspiron is a reliable companion for work or entertainment. All these features are packed at an affordable price of 35,000, making it an excellent choice for budget-conscious users.'},\n",
              " {'laptop_description': 'The MSI GL65 is a high-performance laptop designed for gaming enthusiasts. Powered by an Intel Core i7 processor running at 2.6 GHz, it delivers exceptional processing power for smooth gaming and demanding tasks. With 16GB of RAM and a combination of HDD and SSD storage, it offers ample memory and fast data access. The laptop features a 15.6\" IPS display with a resolution of 1920x1080, ensuring vivid colors and wide viewing angles for an immersive gaming experience. Equipped with an NVIDIA GTX graphics card, it provides excellent visual performance and smooth gameplay. Weighing just 2.3 kg, it is a portable option for gamers on the move. The laptop also boasts an RGB keyboard, allowing customizable lighting effects for a personalized gaming setup. With a two-year warranty and a battery life of up to 4 hours, the MSI GL65 offers reliability and durability. Priced at 55,000, it offers excellent value for money for gamers seeking a powerful gaming laptop.'},\n",
              " {'laptop_description': 'The HP EliteBook is a premium laptop designed for professionals who value performance and security. It features an Intel Core i7 processor clocked at 2.8 GHz, providing exceptional speed and power for demanding tasks. With 16GB of RAM and an SSD, it offers fast and efficient multitasking and storage capabilities. The laptop sports a 14\" LED display with a resolution of 1920x1080, delivering sharp visuals and vibrant colors. It also comes with an Intel UHD GPU for decent graphical performance. Weighing just 1.5 kg, it is lightweight and highly portable. The laptop is equipped with a fingerprint sensor for secure and convenient login. With a three-year warranty and a battery life of up to 8 hours, it ensures long-lasting reliability. Priced at 90,000, the HP EliteBook provides top-notch features and durability for professional users.'},\n",
              " {'laptop_description': 'The Lenovo IdeaPad is a versatile laptop that balances performance and affordability. It features an Intel Core i3 processor running at 2.1 GHz, offering reliable computing power for everyday tasks. With 8GB of RAM and an HDD, it provides adequate memory and storage capacity. The laptop sports a 15.6\" TN display with a resolution of 1366x768, delivering decent visuals for multimedia consumption. It comes with an Intel UHD GPU for basic graphical performance. Weighing 2.2 kg, it is moderately portable. The laptop is equipped with Dolby Audio for immersive sound quality during media playback. With a one-year warranty and a battery life of up to 5 hours, the Lenovo IdeaPad ensures reliable performance. Priced at 25,000, it offers affordability for users on a budget.'},\n",
              " {'laptop_description': 'The ASUS ZenBook Pro is a high-end laptop that offers exceptional performance and a stunning display. It is powered by an Intel Core i9 processor clocked at 3.1 GHz, providing outstanding processing power for demanding tasks and gaming. With a massive 64GB of RAM and an SSD, it offers extensive memory and storage capabilities for multitasking and data-intensive applications. The laptop features a 15.6\" OLED display with a resolution of 3840x2160, delivering incredibly sharp visuals and vibrant colors. Equipped with an NVIDIA RTX graphics card, it offers top-notch graphical performance for gaming and content creation. Weighing just 1.8 kg, it is highly portable. The laptop features a NanoEdge display with thin bezels for an immersive viewing experience. With a two-year warranty and a battery life of up to 7 hours, the ASUS ZenBook Pro combines reliability and durability. Priced at 200,000, it caters to users seeking uncompromising performance and a premium display.'},\n",
              " {'laptop_description': 'The Acer Predator is a powerhouse laptop designed for gaming enthusiasts. It is equipped with an Intel Core i7 processor clocked at 2.8 GHz, providing exceptional processing power for seamless gaming and demanding tasks. With 16GB of RAM and an SSD, it offers fast and efficient multitasking and storage capabilities. The laptop features a large 17.3\" IPS display with a resolution of 1920x1080, delivering stunning visuals and wide viewing angles. It also comes with an NVIDIA GTX graphics card for impressive gaming performance. Weighing 3.2 kg, it is a bit on the heavier side but still offers portability. The laptop features dual cooling fans for effective heat dissipation during intense gaming sessions. With a one-year warranty and a battery life of up to 5 hours, the Acer Predator ensures reliability and endurance. Priced at 80,000, it provides excellent value for gamers seeking powerful gaming performance.'},\n",
              " {'laptop_description': 'The Microsoft Surface Laptop is a premium device that combines sleek design with excellent performance. It is powered by an Intel Core i5 processor running at 1.6 GHz, providing efficient computing power for productivity and multimedia tasks. With 8GB of RAM and an SSD, it offers fast and reliable performance along with ample storage capacity. The laptop features a 13.5\" PixelSense touchscreen display with a resolution of 2256x1504, delivering vibrant visuals and precise touch input. It comes with Intel Iris Plus integrated graphics for smooth graphics performance. Weighing just 1.3 kg, it is highly portable and suitable for on-the-go usage. The laptop features a touchscreen display, adding versatility to interaction and creativity. With a one-year warranty and an impressive battery life of up to 10 hours, the Microsoft Surface Laptop ensures reliability and all-day productivity. Priced at 90,000, it offers a premium experience for users seeking a stylish and high-performance laptop.'},\n",
              " {'laptop_description': 'The Lenovo ThinkPad is a powerful laptop designed for professional users. It is equipped with a Ryzen 7 processor from AMD clocked at 3.0 GHz, providing strong processing capabilities for demanding tasks. With 16GB of RAM and an SSD, it offers smooth multitasking and fast storage access. The laptop features a 14\" IPS display with a resolution of 2560x1440, delivering sharp visuals and accurate colors. It also comes with an NVIDIA GTX graphics card for enhanced graphical performance. Weighing just 1.6 kg, it is lightweight and highly portable. The laptop features a backlit keyboard for comfortable typing in low-light environments. With a three-year warranty and a battery life of up to 6 hours, the Lenovo ThinkPad offers reliability and durability. Priced at 60,000, it is an excellent choice for professionals seeking powerful performance and a versatile display.'},\n",
              " {'laptop_description': 'The HP Pavilion is a budget-friendly laptop that offers reliable performance for everyday computing tasks. It features an Intel Core i5 processor running at 2.3 GHz, providing decent processing power for productivity and entertainment. With 12GB of RAM and an HDD, it offers a balance between memory capacity and storage space. The laptop sports a 15.6\" LCD display with a resolution of 1366x768, offering satisfactory visuals for everyday use. It comes with Intel UHD integrated graphics for basic graphical performance. Weighing 2.1 kg, it strikes a balance between portability and a larger display. The laptop features B&O audio for an enhanced audio experience during multimedia playback. With a one-year warranty and a battery life of up to 4 hours, the HP Pavilion ensures reliable performance for day-to-day tasks. Priced at 30,000, it provides affordability for budget-conscious users seeking'},\n",
              " {'laptop_description': 'The ASUS ROG Strix G is a high-performance gaming laptop designed for gamers seeking power and style. It is equipped with an Intel Core i7 processor clocked at 2.9 GHz, providing exceptional processing power for smooth gaming and demanding tasks. With 16GB of RAM and an SSD, it offers fast and efficient multitasking and storage capabilities. The laptop features a large 17.3\" IPS display with a resolution of 1920x1080, delivering stunning visuals and wide viewing angles. It comes with an NVIDIA RTX graphics card for immersive gaming performance. Weighing 2.9 kg, it is slightly heavier but still offers portability. The laptop features an Aura Sync RGB keyboard, allowing customizable lighting effects for a personalized gaming setup. With a two-year warranty and a battery life of up to 5 hours, the ASUS ROG Strix G ensures reliability and endurance. Priced at 85,000, it offers excellent value for gamers seeking powerful gaming performance with stylish aesthetics.'},\n",
              " {'laptop_description': 'The Dell XPS 15 is a premium laptop that combines powerful performance with a stunning display. It is powered by an Intel Core i9 processor running at 2.8 GHz, offering exceptional processing power for demanding tasks and content creation. With 32GB of RAM and an SSD, it provides ample memory and fast storage access for multitasking and data-intensive applications. The laptop features a 15.6\" OLED display with a resolution of 3840x2160, delivering incredibly sharp visuals and vibrant colors. Equipped with an NVIDIA GTX graphics card, it offers excellent graphical performance for gaming and content creation. Weighing just 1.8 kg, it is highly portable. The laptop features an Adobe RGB color gamut, ensuring accurate and vibrant color reproduction for creative professionals. With a three-year warranty and a battery life of up to 8 hours, the Dell XPS 15 combines reliability and durability. Priced at 180,000, it caters to users seeking uncompromising performance and a premium display.'},\n",
              " {'laptop_description': 'The Lenovo ThinkPad X1 Carbon is a sleek and lightweight laptop designed for professionals on the go. It is equipped with an Intel Core i7 processor running at 2.6 GHz, providing strong processing capabilities for multitasking and productivity. With 16GB of RAM and an SSD, it offers fast and efficient performance along with ample storage capacity. The laptop features a 14\" IPS display with a resolution of 2560x1440, delivering sharp visuals and accurate colors. It comes with Intel UHD integrated graphics for decent graphical performance. Weighing just 1.13 kg, it is extremely lightweight and highly portable. The laptop features an IR camera for face unlock, providing convenient and secure login options. With a three-year warranty and an impressive battery life of up to 12 hours, the Lenovo ThinkPad X1 Carbon ensures reliability and long-lasting productivity. Priced at 130,000, it offers top-notch performance and portability for professionals.'},\n",
              " {'laptop_description': 'The Acer Swift 3 is a lightweight and affordable laptop that offers a balance of performance and portability. It features an AMD Ryzen 5 processor clocked at 2.3 GHz, providing reliable processing power for everyday tasks and multimedia consumption. With 8GB of RAM and an SSD, it offers smooth multitasking and fast storage access. The laptop features a 14\" IPS display with a resolution of 1920x1080, delivering crisp visuals and wide viewing angles. It comes with an AMD Radeon integrated graphics card for decent graphical performance. Weighing just 1.2 kg, it is incredibly lightweight and highly portable. The laptop features a fingerprint reader for secure and convenient login options. With a one-year warranty and a battery life of up to 9 hours, the Acer Swift 3 ensures reliability and endurance for everyday use. Priced at 50,000, it offers affordability and portability for users seeking a reliable laptop for their daily computing needs.'},\n",
              " {'laptop_description': 'The Apple MacBook Air is a sleek and lightweight laptop that offers excellent performance and a seamless user experience. It is powered by the Apple M1 chip clocked at 3.2 GHz, providing powerful and efficient processing capabilities. With 16GB of RAM and an SSD, it offers fast and smooth multitasking along with ample storage space. The laptop features a 13.3\" Retina display with a resolution of 2560x1600, delivering sharp and vibrant visuals. It is equipped with the Apple M1 integrated graphics, ensuring smooth graphics performance. Weighing just 1.29 kg, it is highly portable and suitable for on-the-go usage. The laptop features Touch ID, allowing secure and convenient login options. With a three-year warranty and an impressive battery life of up to 14 hours, the Apple MacBook Air ensures reliability and endurance. Priced at 100,000, it offers a premium experience for users seeking a powerful and lightweight laptop with seamless integration into the macOS ecosystem.'},\n",
              " {'laptop_description': 'The MSI Prestige 14 is a compact and stylish laptop designed for professionals and content creators. It features an Intel Core i5 processor running at 2.4 GHz, providing reliable performance for multitasking and creative work. With 16GB of RAM and an SSD, it offers fast and responsive performance along with ample storage capacity. The laptop features a 14\" IPS display with a resolution of 1920x1080, delivering accurate colors and wide viewing angles. It comes with an NVIDIA GTX graphics card for enhanced graphical performance. Weighing just 1.29 kg, it is highly portable and suitable for on-the-go productivity. The laptop features True Color Technology, ensuring color accuracy for content creation. With a two-year warranty and a battery life of up to 8 hours, the MSI Prestige 14 offers reliability and endurance for professional use. Priced at 70,000, it provides a balance of performance, portability, and affordability.'},\n",
              " {'laptop_description': 'The ASUS ZenBook 13 is a lightweight and powerful laptop that offers a premium computing experience. It is equipped with an Intel Core i7 processor running at 2.8 GHz, providing strong processing power for multitasking and productivity. With 16GB of RAM and an SSD, it offers fast and responsive performance along with ample storage capacity. The laptop features a 13.3\" NanoEdge display with a resolution of 1920x1080, delivering crisp visuals and immersive viewing. It comes with Intel Iris Xe integrated graphics for smooth graphics performance. Weighing just 1.11 kg, it is incredibly lightweight and highly portable. The laptop features military-grade durability, ensuring durability and reliability. With a two-year warranty and an impressive battery life of up to 11 hours, the ASUS ZenBook 13 offers long-lasting performance and endurance. Priced at 95,000, it provides a premium experience for users seeking a powerful and lightweight laptop.'},\n",
              " {'laptop_description': 'The Dell Precision 5550 is a high-performance laptop designed for professionals and creators who require powerful processing capabilities. It is equipped with an Intel Xeon processor running at 2.6 GHz, providing exceptional processing power for demanding tasks and content creation. With 32GB of RAM and an SSD, it offers seamless multitasking and ample storage capacity for large projects. The laptop features a 15.6\" OLED display with a resolution of 3840x2160, delivering stunning visuals and accurate color reproduction. It is equipped with an NVIDIA Quadro graphics card, ensuring smooth graphics performance for professional applications. Weighing 1.83 kg, it is lightweight and portable, making it suitable for professionals on the go. The laptop features Thunderbolt 3 connectivity, providing fast data transfer and versatile connectivity options. With a three-year warranty and a battery life of up to 6 hours, the Dell Precision 5550 offers reliability and durability for demanding professional use. Priced at 250,000, it caters to professionals who require uncompromising performance and top-notch display quality.'},\n",
              " {'laptop_description': 'The HP ENVY x360 is a versatile 2-in-1 convertible laptop that combines performance and flexibility. It features an Intel Core i7 processor running at 2.8 GHz, providing powerful processing capabilities for multitasking and productivity. With 16GB of RAM and an SSD, it offers fast and efficient performance along with ample storage space. The laptop features a 15.6\" IPS display with a resolution of 1920x1080, delivering vibrant visuals and wide viewing angles. It comes with Intel Iris Xe integrated graphics for smooth graphics performance. Weighing 2.05 kg, it offers a good balance between portability and functionality. The laptop features a convertible design, allowing you to switch between laptop and tablet modes for enhanced versatility. With a one-year warranty and a battery life of up to 7 hours, the HP ENVY x360 offers reliability and endurance for everyday use. Priced at 80,000, it provides a versatile computing experience at an affordable price point.'},\n",
              " {'laptop_description': 'The Razer Blade 15 is a high-performance gaming laptop that delivers exceptional power and visual excellence. It is powered by an Intel Core i7 processor running at 2.6 GHz, providing robust processing power for demanding gaming and content creation tasks. With 16GB of RAM and an SSD, it offers fast and responsive performance along with ample storage capacity. The laptop features a 15.6\" IPS display with a resolution of 1920x1080, delivering vibrant visuals and immersive gaming experiences. It comes with an NVIDIA RTX graphics card for outstanding graphical performance. Weighing 2.09 kg, it strikes a balance between portability and power. The laptop features a Chroma RGB keyboard, allowing customizable lighting effects for a personalized gaming setup. With a one-year warranty and a battery life of up to 6 hours, the Razer Blade 15 ensures reliability and endurance for gaming enthusiasts. Priced at 150,000, it offers a premium gaming experience with powerful performance and eye-catching aesthetics.'},\n",
              " {'laptop_description': 'The Apple MacBook Pro is a high-end laptop that combines top-tier performance with a stunning display. It is equipped with an Intel Core i9 processor running at 2.9 GHz, providing exceptional processing power for demanding tasks and content creation. With 32GB of RAM and an SSD, it offers seamless multitasking and fast storage access for large projects. The laptop features a 16\" Retina display with a resolution of 3072x1920, delivering breathtaking visuals and precise color reproduction. It comes with an AMD Radeon graphics card, ensuring smooth graphics performance for professional applications. Weighing 2.02 kg, it is relatively lightweight for its size. The laptop features a True Tone display, adjusting the color temperature to match the ambient lighting for a more natural viewing experience. With a three-year warranty and a battery life of up to 10 hours, the Apple MacBook Pro offers reliability and endurance for professionals. Priced at 280,000, it caters to users who require uncompromising performance and a superior display for their demanding workloads.'}]"
            ]
          },
          "metadata": {},
          "execution_count": 13
        }
      ]
    },
    {
      "cell_type": "code",
      "source": [
        "tag_df = tag_laptop()"
      ],
      "metadata": {
        "id": "-w1mE2QQeqvd"
      },
      "execution_count": null,
      "outputs": []
    },
    {
      "cell_type": "code",
      "source": [
        "tag_df.head()"
      ],
      "metadata": {
        "colab": {
          "base_uri": "https://localhost:8080/",
          "height": 206
        },
        "id": "jHOF7g8tfD7H",
        "outputId": "cebe04e7-3b86-46f7-e525-3c5c321134a2"
      },
      "execution_count": null,
      "outputs": [
        {
          "output_type": "execute_result",
          "data": {
            "text/plain": [
              "                                  laptop_description    Category\n",
              "0  The Dell Inspiron is a versatile laptop that c...     general\n",
              "1  The MSI GL65 is a high-performance laptop desi...       gamer\n",
              "2  The HP EliteBook is a premium laptop designed ...    business\n",
              "3  The Lenovo IdeaPad is a versatile laptop that ...  multimedia\n",
              "4  The ASUS ZenBook Pro is a high-end laptop that...       gamer"
            ],
            "text/html": [
              "\n",
              "  <div id=\"df-efa61451-7464-4d07-abf0-1e850abecc90\" class=\"colab-df-container\">\n",
              "    <div>\n",
              "<style scoped>\n",
              "    .dataframe tbody tr th:only-of-type {\n",
              "        vertical-align: middle;\n",
              "    }\n",
              "\n",
              "    .dataframe tbody tr th {\n",
              "        vertical-align: top;\n",
              "    }\n",
              "\n",
              "    .dataframe thead th {\n",
              "        text-align: right;\n",
              "    }\n",
              "</style>\n",
              "<table border=\"1\" class=\"dataframe\">\n",
              "  <thead>\n",
              "    <tr style=\"text-align: right;\">\n",
              "      <th></th>\n",
              "      <th>laptop_description</th>\n",
              "      <th>Category</th>\n",
              "    </tr>\n",
              "  </thead>\n",
              "  <tbody>\n",
              "    <tr>\n",
              "      <th>0</th>\n",
              "      <td>The Dell Inspiron is a versatile laptop that c...</td>\n",
              "      <td>general</td>\n",
              "    </tr>\n",
              "    <tr>\n",
              "      <th>1</th>\n",
              "      <td>The MSI GL65 is a high-performance laptop desi...</td>\n",
              "      <td>gamer</td>\n",
              "    </tr>\n",
              "    <tr>\n",
              "      <th>2</th>\n",
              "      <td>The HP EliteBook is a premium laptop designed ...</td>\n",
              "      <td>business</td>\n",
              "    </tr>\n",
              "    <tr>\n",
              "      <th>3</th>\n",
              "      <td>The Lenovo IdeaPad is a versatile laptop that ...</td>\n",
              "      <td>multimedia</td>\n",
              "    </tr>\n",
              "    <tr>\n",
              "      <th>4</th>\n",
              "      <td>The ASUS ZenBook Pro is a high-end laptop that...</td>\n",
              "      <td>gamer</td>\n",
              "    </tr>\n",
              "  </tbody>\n",
              "</table>\n",
              "</div>\n",
              "    <div class=\"colab-df-buttons\">\n",
              "\n",
              "  <div class=\"colab-df-container\">\n",
              "    <button class=\"colab-df-convert\" onclick=\"convertToInteractive('df-efa61451-7464-4d07-abf0-1e850abecc90')\"\n",
              "            title=\"Convert this dataframe to an interactive table.\"\n",
              "            style=\"display:none;\">\n",
              "\n",
              "  <svg xmlns=\"http://www.w3.org/2000/svg\" height=\"24px\" viewBox=\"0 -960 960 960\">\n",
              "    <path d=\"M120-120v-720h720v720H120Zm60-500h600v-160H180v160Zm220 220h160v-160H400v160Zm0 220h160v-160H400v160ZM180-400h160v-160H180v160Zm440 0h160v-160H620v160ZM180-180h160v-160H180v160Zm440 0h160v-160H620v160Z\"/>\n",
              "  </svg>\n",
              "    </button>\n",
              "\n",
              "  <style>\n",
              "    .colab-df-container {\n",
              "      display:flex;\n",
              "      gap: 12px;\n",
              "    }\n",
              "\n",
              "    .colab-df-convert {\n",
              "      background-color: #E8F0FE;\n",
              "      border: none;\n",
              "      border-radius: 50%;\n",
              "      cursor: pointer;\n",
              "      display: none;\n",
              "      fill: #1967D2;\n",
              "      height: 32px;\n",
              "      padding: 0 0 0 0;\n",
              "      width: 32px;\n",
              "    }\n",
              "\n",
              "    .colab-df-convert:hover {\n",
              "      background-color: #E2EBFA;\n",
              "      box-shadow: 0px 1px 2px rgba(60, 64, 67, 0.3), 0px 1px 3px 1px rgba(60, 64, 67, 0.15);\n",
              "      fill: #174EA6;\n",
              "    }\n",
              "\n",
              "    .colab-df-buttons div {\n",
              "      margin-bottom: 4px;\n",
              "    }\n",
              "\n",
              "    [theme=dark] .colab-df-convert {\n",
              "      background-color: #3B4455;\n",
              "      fill: #D2E3FC;\n",
              "    }\n",
              "\n",
              "    [theme=dark] .colab-df-convert:hover {\n",
              "      background-color: #434B5C;\n",
              "      box-shadow: 0px 1px 3px 1px rgba(0, 0, 0, 0.15);\n",
              "      filter: drop-shadow(0px 1px 2px rgba(0, 0, 0, 0.3));\n",
              "      fill: #FFFFFF;\n",
              "    }\n",
              "  </style>\n",
              "\n",
              "    <script>\n",
              "      const buttonEl =\n",
              "        document.querySelector('#df-efa61451-7464-4d07-abf0-1e850abecc90 button.colab-df-convert');\n",
              "      buttonEl.style.display =\n",
              "        google.colab.kernel.accessAllowed ? 'block' : 'none';\n",
              "\n",
              "      async function convertToInteractive(key) {\n",
              "        const element = document.querySelector('#df-efa61451-7464-4d07-abf0-1e850abecc90');\n",
              "        const dataTable =\n",
              "          await google.colab.kernel.invokeFunction('convertToInteractive',\n",
              "                                                    [key], {});\n",
              "        if (!dataTable) return;\n",
              "\n",
              "        const docLinkHtml = 'Like what you see? Visit the ' +\n",
              "          '<a target=\"_blank\" href=https://colab.research.google.com/notebooks/data_table.ipynb>data table notebook</a>'\n",
              "          + ' to learn more about interactive tables.';\n",
              "        element.innerHTML = '';\n",
              "        dataTable['output_type'] = 'display_data';\n",
              "        await google.colab.output.renderOutput(dataTable, element);\n",
              "        const docLink = document.createElement('div');\n",
              "        docLink.innerHTML = docLinkHtml;\n",
              "        element.appendChild(docLink);\n",
              "      }\n",
              "    </script>\n",
              "  </div>\n",
              "\n",
              "\n",
              "<div id=\"df-ec954167-4bf2-4be5-afda-623dbf7bec8f\">\n",
              "  <button class=\"colab-df-quickchart\" onclick=\"quickchart('df-ec954167-4bf2-4be5-afda-623dbf7bec8f')\"\n",
              "            title=\"Suggest charts\"\n",
              "            style=\"display:none;\">\n",
              "\n",
              "<svg xmlns=\"http://www.w3.org/2000/svg\" height=\"24px\"viewBox=\"0 0 24 24\"\n",
              "     width=\"24px\">\n",
              "    <g>\n",
              "        <path d=\"M19 3H5c-1.1 0-2 .9-2 2v14c0 1.1.9 2 2 2h14c1.1 0 2-.9 2-2V5c0-1.1-.9-2-2-2zM9 17H7v-7h2v7zm4 0h-2V7h2v10zm4 0h-2v-4h2v4z\"/>\n",
              "    </g>\n",
              "</svg>\n",
              "  </button>\n",
              "\n",
              "<style>\n",
              "  .colab-df-quickchart {\n",
              "      --bg-color: #E8F0FE;\n",
              "      --fill-color: #1967D2;\n",
              "      --hover-bg-color: #E2EBFA;\n",
              "      --hover-fill-color: #174EA6;\n",
              "      --disabled-fill-color: #AAA;\n",
              "      --disabled-bg-color: #DDD;\n",
              "  }\n",
              "\n",
              "  [theme=dark] .colab-df-quickchart {\n",
              "      --bg-color: #3B4455;\n",
              "      --fill-color: #D2E3FC;\n",
              "      --hover-bg-color: #434B5C;\n",
              "      --hover-fill-color: #FFFFFF;\n",
              "      --disabled-bg-color: #3B4455;\n",
              "      --disabled-fill-color: #666;\n",
              "  }\n",
              "\n",
              "  .colab-df-quickchart {\n",
              "    background-color: var(--bg-color);\n",
              "    border: none;\n",
              "    border-radius: 50%;\n",
              "    cursor: pointer;\n",
              "    display: none;\n",
              "    fill: var(--fill-color);\n",
              "    height: 32px;\n",
              "    padding: 0;\n",
              "    width: 32px;\n",
              "  }\n",
              "\n",
              "  .colab-df-quickchart:hover {\n",
              "    background-color: var(--hover-bg-color);\n",
              "    box-shadow: 0 1px 2px rgba(60, 64, 67, 0.3), 0 1px 3px 1px rgba(60, 64, 67, 0.15);\n",
              "    fill: var(--button-hover-fill-color);\n",
              "  }\n",
              "\n",
              "  .colab-df-quickchart-complete:disabled,\n",
              "  .colab-df-quickchart-complete:disabled:hover {\n",
              "    background-color: var(--disabled-bg-color);\n",
              "    fill: var(--disabled-fill-color);\n",
              "    box-shadow: none;\n",
              "  }\n",
              "\n",
              "  .colab-df-spinner {\n",
              "    border: 2px solid var(--fill-color);\n",
              "    border-color: transparent;\n",
              "    border-bottom-color: var(--fill-color);\n",
              "    animation:\n",
              "      spin 1s steps(1) infinite;\n",
              "  }\n",
              "\n",
              "  @keyframes spin {\n",
              "    0% {\n",
              "      border-color: transparent;\n",
              "      border-bottom-color: var(--fill-color);\n",
              "      border-left-color: var(--fill-color);\n",
              "    }\n",
              "    20% {\n",
              "      border-color: transparent;\n",
              "      border-left-color: var(--fill-color);\n",
              "      border-top-color: var(--fill-color);\n",
              "    }\n",
              "    30% {\n",
              "      border-color: transparent;\n",
              "      border-left-color: var(--fill-color);\n",
              "      border-top-color: var(--fill-color);\n",
              "      border-right-color: var(--fill-color);\n",
              "    }\n",
              "    40% {\n",
              "      border-color: transparent;\n",
              "      border-right-color: var(--fill-color);\n",
              "      border-top-color: var(--fill-color);\n",
              "    }\n",
              "    60% {\n",
              "      border-color: transparent;\n",
              "      border-right-color: var(--fill-color);\n",
              "    }\n",
              "    80% {\n",
              "      border-color: transparent;\n",
              "      border-right-color: var(--fill-color);\n",
              "      border-bottom-color: var(--fill-color);\n",
              "    }\n",
              "    90% {\n",
              "      border-color: transparent;\n",
              "      border-bottom-color: var(--fill-color);\n",
              "    }\n",
              "  }\n",
              "</style>\n",
              "\n",
              "  <script>\n",
              "    async function quickchart(key) {\n",
              "      const quickchartButtonEl =\n",
              "        document.querySelector('#' + key + ' button');\n",
              "      quickchartButtonEl.disabled = true;  // To prevent multiple clicks.\n",
              "      quickchartButtonEl.classList.add('colab-df-spinner');\n",
              "      try {\n",
              "        const charts = await google.colab.kernel.invokeFunction(\n",
              "            'suggestCharts', [key], {});\n",
              "      } catch (error) {\n",
              "        console.error('Error during call to suggestCharts:', error);\n",
              "      }\n",
              "      quickchartButtonEl.classList.remove('colab-df-spinner');\n",
              "      quickchartButtonEl.classList.add('colab-df-quickchart-complete');\n",
              "    }\n",
              "    (() => {\n",
              "      let quickchartButtonEl =\n",
              "        document.querySelector('#df-ec954167-4bf2-4be5-afda-623dbf7bec8f button');\n",
              "      quickchartButtonEl.style.display =\n",
              "        google.colab.kernel.accessAllowed ? 'block' : 'none';\n",
              "    })();\n",
              "  </script>\n",
              "</div>\n",
              "\n",
              "    </div>\n",
              "  </div>\n"
            ],
            "application/vnd.google.colaboratory.intrinsic+json": {
              "type": "dataframe",
              "variable_name": "tag_df",
              "summary": "{\n  \"name\": \"tag_df\",\n  \"rows\": 20,\n  \"fields\": [\n    {\n      \"column\": \"laptop_description\",\n      \"properties\": {\n        \"dtype\": \"string\",\n        \"num_unique_values\": 20,\n        \"samples\": [\n          \"The Dell Inspiron is a versatile laptop that combines powerful performance and affordability. It features an Intel Core i5 processor clocked at 2.4 GHz, ensuring smooth multitasking and efficient computing. With 8GB of RAM and an SSD, it offers quick data access and ample storage capacity. The laptop sports a vibrant 15.6\\\" LCD display with a resolution of 1920x1080, delivering crisp visuals and immersive viewing experience. Weighing just 2.5 kg, it is highly portable, making it ideal for on-the-go usage. Additionally, it boasts an Intel UHD GPU for decent graphical performance and a backlit keyboard for enhanced typing convenience. With a one-year warranty and a battery life of up to 6 hours, the Dell Inspiron is a reliable companion for work or entertainment. All these features are packed at an affordable price of 35,000, making it an excellent choice for budget-conscious users.\",\n          \"The HP ENVY x360 is a versatile 2-in-1 convertible laptop that combines performance and flexibility. It features an Intel Core i7 processor running at 2.8 GHz, providing powerful processing capabilities for multitasking and productivity. With 16GB of RAM and an SSD, it offers fast and efficient performance along with ample storage space. The laptop features a 15.6\\\" IPS display with a resolution of 1920x1080, delivering vibrant visuals and wide viewing angles. It comes with Intel Iris Xe integrated graphics for smooth graphics performance. Weighing 2.05 kg, it offers a good balance between portability and functionality. The laptop features a convertible design, allowing you to switch between laptop and tablet modes for enhanced versatility. With a one-year warranty and a battery life of up to 7 hours, the HP ENVY x360 offers reliability and endurance for everyday use. Priced at 80,000, it provides a versatile computing experience at an affordable price point.\",\n          \"The ASUS ZenBook 13 is a lightweight and powerful laptop that offers a premium computing experience. It is equipped with an Intel Core i7 processor running at 2.8 GHz, providing strong processing power for multitasking and productivity. With 16GB of RAM and an SSD, it offers fast and responsive performance along with ample storage capacity. The laptop features a 13.3\\\" NanoEdge display with a resolution of 1920x1080, delivering crisp visuals and immersive viewing. It comes with Intel Iris Xe integrated graphics for smooth graphics performance. Weighing just 1.11 kg, it is incredibly lightweight and highly portable. The laptop features military-grade durability, ensuring durability and reliability. With a two-year warranty and an impressive battery life of up to 11 hours, the ASUS ZenBook 13 offers long-lasting performance and endurance. Priced at 95,000, it provides a premium experience for users seeking a powerful and lightweight laptop.\"\n        ],\n        \"semantic_type\": \"\",\n        \"description\": \"\"\n      }\n    },\n    {\n      \"column\": \"Category\",\n      \"properties\": {\n        \"dtype\": \"category\",\n        \"num_unique_values\": 5,\n        \"samples\": [\n          \"gamer\",\n          \"programmer\",\n          \"business\"\n        ],\n        \"semantic_type\": \"\",\n        \"description\": \"\"\n      }\n    }\n  ]\n}"
            }
          },
          "metadata": {},
          "execution_count": 16
        }
      ]
    },
    {
      "cell_type": "code",
      "source": [
        "structure = '''{\n",
        "    \"Brand\": ___ ,\n",
        "    \"Model Name\": ___ ,\n",
        "    \"GPU processor\": ___ ,\n",
        "    \"Display Resolution\": ___ ,\n",
        "    \"Weight\": ___ ,\n",
        "    \"Processor\": ___ ,\n",
        "    \"Clock speed\": ___ ,\n",
        "    \"Budget\": ___\n",
        "}'''"
      ],
      "metadata": {
        "id": "1LRs_PH-fFMY"
      },
      "execution_count": null,
      "outputs": []
    },
    {
      "cell_type": "code",
      "source": [
        "def get_chat_response_mcq2(user_request):\n",
        "\n",
        "  MODEL = 'gpt-3.5-turbo-16k'# Define GPT model\n",
        "\n",
        "  SYSTEM_MESSAGE = 'You are a helpful shopping assitant.'# Default System Message\n",
        "\n",
        "  try:\n",
        "  # Define the list of messages\n",
        "    messages = [\n",
        "        {'role': 'system', 'content': SYSTEM_MESSAGE},\n",
        "        {'role': 'user', 'content': user_request}\n",
        "    ]\n",
        "\n",
        "# Get the ChatCompletion Response from the GPT-3.5 model\n",
        "    response = openai.chat.completions.create(\n",
        "        model = MODEL,\n",
        "        messages = messages,\n",
        "        #response_format = {'type': 'json_object'}\n",
        "    )\n",
        "\n",
        "    response_content = response.choices[0].message.content\n",
        "    # Parse the response_content from the message\n",
        "\n",
        "    return response_content\n",
        "\n",
        "  # Raise exception error\n",
        "  except Exception as e:\n",
        "    print(f\"An error occurred: {e}\")\n",
        "    return None"
      ],
      "metadata": {
        "id": "3JVVi3BufWbY"
      },
      "execution_count": null,
      "outputs": []
    },
    {
      "cell_type": "code",
      "source": [
        "mcq2_prompt = '''\n",
        "Laptop Decription: {description}\n",
        "From the laptop decription above, you have to extract relevant values for the following dictionary items. The dictionary structure should be as follows: {str}\n",
        "Try giving quantitative, absolute, or numerical outputs. Try not to give qualitative or adjective outputs. for example: If the processing speed of a laptop is 2.4GHz, then, in the \"processing speed\" key, give output as '2.4GHz' instead of 'very fast'.\n",
        "Extract only one word values of these properties. Fill in the blanks for each product and output each product's dictionary in json format.\n",
        "'''"
      ],
      "metadata": {
        "id": "pP2eTsMEfxG9"
      },
      "execution_count": null,
      "outputs": []
    },
    {
      "cell_type": "code",
      "source": [
        "def extract_information():\n",
        "\n",
        "  laptop_df = df.copy()\n",
        "  laptop_dict = laptop_df.to_dict(orient ='records')\n",
        "\n",
        "  # Creating an empty list to store the properties\n",
        "  result = []\n",
        "\n",
        "  # Get the relevant values for each of the property:\n",
        "  for i in range(len(laptop_dict)):\n",
        "    prompt = mcq2_prompt.format(description=laptop_dict[i]['laptop_description'], str=structure)\n",
        "    values = get_chat_response_mcq2(prompt)\n",
        "    result.append(values)\n",
        "    # We will print each of the dictionary of properties\n",
        "    print(result[i])\n",
        "  # But in the function output, we are returning the whole list as a whole.\n",
        "  return result"
      ],
      "metadata": {
        "id": "qDG6uZbeg8JP"
      },
      "execution_count": null,
      "outputs": []
    },
    {
      "cell_type": "code",
      "source": [
        "values = extract_information()"
      ],
      "metadata": {
        "colab": {
          "base_uri": "https://localhost:8080/"
        },
        "id": "9mroL2gXhLW3",
        "outputId": "5def316d-db51-4710-aefe-9e703771267a"
      },
      "execution_count": null,
      "outputs": [
        {
          "output_type": "stream",
          "name": "stdout",
          "text": [
            "{\n",
            "    \"Brand\": \"Dell\",\n",
            "    \"Model Name\": \"Inspiron\",\n",
            "    \"GPU Processor\": \"Intel UHD\",\n",
            "    \"Display Resolution\": \"1920x1080\",\n",
            "    \"Weight\": \"2.5 kg\",\n",
            "    \"Processor\": \"Intel Core i5\",\n",
            "    \"Clock Speed\": \"2.4 GHz\",\n",
            "    \"Budget\": \"35,000\"\n",
            "}\n",
            "{\n",
            "    \"Brand\": \"MSI\",\n",
            "    \"Model Name\": \"GL65\",\n",
            "    \"GPU processor\": \"NVIDIA\",\n",
            "    \"Display Resolution\": \"1920x1080\",\n",
            "    \"Weight\": \"2.3kg\",\n",
            "    \"Processor\": \"Intel\",\n",
            "    \"Clock speed\": \"2.6GHz\",\n",
            "    \"Budget\": \"55000\"\n",
            "}\n",
            "{\n",
            "    \"Brand\": \"HP\",\n",
            "    \"Model Name\": \"EliteBook\",\n",
            "    \"GPU processor\": \"Intel UHD\",\n",
            "    \"Display Resolution\": \"1920x1080\",\n",
            "    \"Weight\": \"1.5 kg\",\n",
            "    \"Processor\": \"Intel Core i7\",\n",
            "    \"Clock speed\": \"2.8 GHz\",\n",
            "    \"Budget\": \"90,000\"\n",
            "}\n",
            "{\n",
            "    \"Brand\": \"Lenovo\",\n",
            "    \"Model Name\": \"IdeaPad\",\n",
            "    \"GPU processor\": \"Intel UHD\",\n",
            "    \"Display Resolution\": \"1366x768\",\n",
            "    \"Weight\": \"2.2 kg\",\n",
            "    \"Processor\": \"Intel Core i3\",\n",
            "    \"Clock speed\": \"2.1 GHz\",\n",
            "    \"Budget\": \"25,000\"\n",
            "}\n",
            "{\n",
            "    \"Brand\": \"ASUS\",\n",
            "    \"Model Name\": \"ZenBook Pro\",\n",
            "    \"GPU processor\": \"NVIDIA\",\n",
            "    \"Display Resolution\": \"3840x2160\",\n",
            "    \"Weight\": \"1.8kg\",\n",
            "    \"Processor\": \"Intel\",\n",
            "    \"Clock speed\": \"3.1GHz\",\n",
            "    \"Budget\": \"200000\"\n",
            "}\n",
            "{\n",
            "    \"Brand\": \"Acer\",\n",
            "    \"Model Name\": \"Predator\",\n",
            "    \"GPU processor\": \"NVIDIA\",\n",
            "    \"Display Resolution\": \"1920x1080\",\n",
            "    \"Weight\": \"3.2 kg\",\n",
            "    \"Processor\": \"Intel\",\n",
            "    \"Clock speed\": \"2.8 GHz\",\n",
            "    \"Budget\": \"80,000\"\n",
            "}\n",
            "{\n",
            "\t\"Brand\": \"Microsoft\",\n",
            "\t\"Model Name\": \"Surface Laptop\",\n",
            "\t\"GPU processor\": \"Intel Iris Plus\",\n",
            "\t\"Display Resolution\": \"2256x1504\",\n",
            "\t\"Weight\": \"1.3kg\",\n",
            "\t\"Processor\": \"Intel Core i5\",\n",
            "\t\"Clock speed\": \"1.6GHz\",\n",
            "\t\"Budget\": \"90,000\"\n",
            "}\n",
            "{\n",
            "    \"Brand\": \"Lenovo\",\n",
            "    \"Model Name\": \"ThinkPad\",\n",
            "    \"GPU processor\": \"NVIDIA\",\n",
            "    \"Display Resolution\": \"2560x1440\",\n",
            "    \"Weight\": \"1.6kg\",\n",
            "    \"Processor\": \"Ryzen\",\n",
            "    \"Clock speed\": \"3.0GHz\",\n",
            "    \"Budget\": \"60000\"\n",
            "}\n",
            "{\n",
            "    \"Brand\": \"HP\",\n",
            "    \"Model Name\": \"Pavilion\",\n",
            "    \"GPU processor\": \"Intel UHD\",\n",
            "    \"Display Resolution\": \"1366x768\",\n",
            "    \"Weight\": \"2.1 kg\",\n",
            "    \"Processor\": \"Intel Core i5\",\n",
            "    \"Clock speed\": \"2.3 GHz\",\n",
            "    \"Budget\": \"30,000\"\n",
            "}\n",
            "{\n",
            "    \"Brand\": \"ASUS\",\n",
            "    \"Model Name\": \"ROG Strix G\",\n",
            "    \"GPU processor\": \"NVIDIA\",\n",
            "    \"Display Resolution\": \"1920x1080\",\n",
            "    \"Weight\": \"2.9 kg\",\n",
            "    \"Processor\": \"Intel\",\n",
            "    \"Clock speed\": \"2.9 GHz\",\n",
            "    \"Budget\": \"85,000\"\n",
            "}\n",
            "{\n",
            "    \"Brand\": \"Dell\",\n",
            "    \"Model Name\": \"XPS 15\",\n",
            "    \"GPU processor\": \"NVIDIA\",\n",
            "    \"Display Resolution\": \"3840x2160\",\n",
            "    \"Weight\": \"1.8kg\",\n",
            "    \"Processor\": \"Intel\",\n",
            "    \"Clock speed\": \"2.8GHz\",\n",
            "    \"Budget\": \"180000\"\n",
            "}\n",
            "{\n",
            "    \"Brand\": \"Lenovo\",\n",
            "    \"Model Name\": \"ThinkPad X1 Carbon\",\n",
            "    \"GPU processor\": \"Intel UHD\",\n",
            "    \"Display Resolution\": \"2560x1440\",\n",
            "    \"Weight\": \"1.13 kg\",\n",
            "    \"Processor\": \"Intel Core i7\",\n",
            "    \"Clock speed\": \"2.6 GHz\",\n",
            "    \"Budget\": \"130,000\"\n",
            "}\n",
            "{\n",
            "    \"Brand\": \"Acer\",\n",
            "    \"Model Name\": \"Swift 3\",\n",
            "    \"GPU processor\": \"Radeon\",\n",
            "    \"Display Resolution\": \"1920x1080\",\n",
            "    \"Weight\": \"1.2kg\",\n",
            "    \"Processor\": \"Ryzen\",\n",
            "    \"Clock speed\": \"2.3GHz\",\n",
            "    \"Budget\": \"50000\"\n",
            "}\n",
            "{\n",
            "    \"Brand\": \"Apple\",\n",
            "    \"Model Name\": \"MacBook Air\",\n",
            "    \"GPU processor\": \"Apple M1\",\n",
            "    \"Display Resolution\": \"2560x1600\",\n",
            "    \"Weight\": \"1.29kg\",\n",
            "    \"Processor\": \"Apple M1\",\n",
            "    \"Clock speed\": \"3.2GHz\",\n",
            "    \"Budget\": \"100000\"\n",
            "}\n",
            "{\n",
            "    \"Brand\": \"MSI\",\n",
            "    \"Model Name\": \"Prestige 14\",\n",
            "    \"GPU processor\": \"NVIDIA GTX\",\n",
            "    \"Display Resolution\": \"1920x1080\",\n",
            "    \"Weight\": \"1.29 kg\",\n",
            "    \"Processor\": \"Intel Core i5\",\n",
            "    \"Clock speed\": \"2.4 GHz\",\n",
            "    \"Budget\": \"70,000\"\n",
            "}\n",
            "{\n",
            "\"Brand\": \"ASUS\",\n",
            "\"Model Name\": \"ZenBook 13\",\n",
            "\"GPU processor\": \"Intel Iris Xe\",\n",
            "\"Display Resolution\": \"1920x1080\",\n",
            "\"Weight\": \"1.11 kg\",\n",
            "\"Processor\": \"Intel Core i7\",\n",
            "\"Clock speed\": \"2.8 GHz\",\n",
            "\"Budget\": \"95,000\"\n",
            "}\n",
            "{\n",
            "    \"Brand\": \"Dell\",\n",
            "    \"Model Name\": \"Precision 5550\",\n",
            "    \"GPU processor\": \"NVIDIA Quadro\",\n",
            "    \"Display Resolution\": \"3840x2160\",\n",
            "    \"Weight\": \"1.83kg\",\n",
            "    \"Processor\": \"Intel Xeon\",\n",
            "    \"Clock speed\": \"2.6GHz\",\n",
            "    \"Budget\": \"250,000\"\n",
            "}\n",
            "{\n",
            "    \"Brand\": \"HP\",\n",
            "    \"Model Name\": \"ENVY x360\",\n",
            "    \"GPU processor\": \"Intel Iris Xe\",\n",
            "    \"Display Resolution\": \"1920x1080\",\n",
            "    \"Weight\": \"2.05\",\n",
            "    \"Processor\": \"Intel Core i7\",\n",
            "    \"Clock speed\": \"2.8GHz\",\n",
            "    \"Budget\": \"80000\"\n",
            "}\n",
            "{\n",
            "    \"Brand\": \"Razer\",\n",
            "    \"Model Name\": \"Blade 15\",\n",
            "    \"GPU processor\": \"NVIDIA RTX\",\n",
            "    \"Display Resolution\": \"1920x1080\",\n",
            "    \"Weight\": \"2.09 kg\",\n",
            "    \"Processor\": \"Intel Core i7\",\n",
            "    \"Clock speed\": \"2.6 GHz\",\n",
            "    \"Budget\": \"150000\"\n",
            "}\n",
            "{\n",
            "    \"Brand\": \"Apple\",\n",
            "    \"Model Name\": \"MacBook Pro\",\n",
            "    \"GPU processor\": \"AMD Radeon\",\n",
            "    \"Display Resolution\": \"3072x1920\",\n",
            "    \"Weight\": \"2.02 kg\",\n",
            "    \"Processor\": \"Intel Core i9\",\n",
            "    \"Clock speed\": \"2.9 GHz\",\n",
            "    \"Budget\": \"280000\"\n",
            "}\n"
          ]
        }
      ]
    },
    {
      "cell_type": "code",
      "source": [
        "values"
      ],
      "metadata": {
        "colab": {
          "base_uri": "https://localhost:8080/"
        },
        "id": "3OBg59TnhXnz",
        "outputId": "60a82237-bc85-4e61-b83c-fd4ab6bddaa1"
      },
      "execution_count": null,
      "outputs": [
        {
          "output_type": "execute_result",
          "data": {
            "text/plain": [
              "['{\\n    \"Brand\": \"Dell\",\\n    \"Model Name\": \"Inspiron\",\\n    \"GPU Processor\": \"Intel UHD\",\\n    \"Display Resolution\": \"1920x1080\",\\n    \"Weight\": \"2.5 kg\",\\n    \"Processor\": \"Intel Core i5\",\\n    \"Clock Speed\": \"2.4 GHz\",\\n    \"Budget\": \"35,000\"\\n}',\n",
              " '{\\n    \"Brand\": \"MSI\",\\n    \"Model Name\": \"GL65\",\\n    \"GPU processor\": \"NVIDIA\",\\n    \"Display Resolution\": \"1920x1080\",\\n    \"Weight\": \"2.3kg\",\\n    \"Processor\": \"Intel\",\\n    \"Clock speed\": \"2.6GHz\",\\n    \"Budget\": \"55000\"\\n}',\n",
              " '{\\n    \"Brand\": \"HP\",\\n    \"Model Name\": \"EliteBook\",\\n    \"GPU processor\": \"Intel UHD\",\\n    \"Display Resolution\": \"1920x1080\",\\n    \"Weight\": \"1.5 kg\",\\n    \"Processor\": \"Intel Core i7\",\\n    \"Clock speed\": \"2.8 GHz\",\\n    \"Budget\": \"90,000\"\\n}',\n",
              " '{\\n    \"Brand\": \"Lenovo\",\\n    \"Model Name\": \"IdeaPad\",\\n    \"GPU processor\": \"Intel UHD\",\\n    \"Display Resolution\": \"1366x768\",\\n    \"Weight\": \"2.2 kg\",\\n    \"Processor\": \"Intel Core i3\",\\n    \"Clock speed\": \"2.1 GHz\",\\n    \"Budget\": \"25,000\"\\n}',\n",
              " '{\\n    \"Brand\": \"ASUS\",\\n    \"Model Name\": \"ZenBook Pro\",\\n    \"GPU processor\": \"NVIDIA\",\\n    \"Display Resolution\": \"3840x2160\",\\n    \"Weight\": \"1.8kg\",\\n    \"Processor\": \"Intel\",\\n    \"Clock speed\": \"3.1GHz\",\\n    \"Budget\": \"200000\"\\n}',\n",
              " '{\\n    \"Brand\": \"Acer\",\\n    \"Model Name\": \"Predator\",\\n    \"GPU processor\": \"NVIDIA\",\\n    \"Display Resolution\": \"1920x1080\",\\n    \"Weight\": \"3.2 kg\",\\n    \"Processor\": \"Intel\",\\n    \"Clock speed\": \"2.8 GHz\",\\n    \"Budget\": \"80,000\"\\n}',\n",
              " '{\\n\\t\"Brand\": \"Microsoft\",\\n\\t\"Model Name\": \"Surface Laptop\",\\n\\t\"GPU processor\": \"Intel Iris Plus\",\\n\\t\"Display Resolution\": \"2256x1504\",\\n\\t\"Weight\": \"1.3kg\",\\n\\t\"Processor\": \"Intel Core i5\",\\n\\t\"Clock speed\": \"1.6GHz\",\\n\\t\"Budget\": \"90,000\"\\n}',\n",
              " '{\\n    \"Brand\": \"Lenovo\",\\n    \"Model Name\": \"ThinkPad\",\\n    \"GPU processor\": \"NVIDIA\",\\n    \"Display Resolution\": \"2560x1440\",\\n    \"Weight\": \"1.6kg\",\\n    \"Processor\": \"Ryzen\",\\n    \"Clock speed\": \"3.0GHz\",\\n    \"Budget\": \"60000\"\\n}',\n",
              " '{\\n    \"Brand\": \"HP\",\\n    \"Model Name\": \"Pavilion\",\\n    \"GPU processor\": \"Intel UHD\",\\n    \"Display Resolution\": \"1366x768\",\\n    \"Weight\": \"2.1 kg\",\\n    \"Processor\": \"Intel Core i5\",\\n    \"Clock speed\": \"2.3 GHz\",\\n    \"Budget\": \"30,000\"\\n}',\n",
              " '{\\n    \"Brand\": \"ASUS\",\\n    \"Model Name\": \"ROG Strix G\",\\n    \"GPU processor\": \"NVIDIA\",\\n    \"Display Resolution\": \"1920x1080\",\\n    \"Weight\": \"2.9 kg\",\\n    \"Processor\": \"Intel\",\\n    \"Clock speed\": \"2.9 GHz\",\\n    \"Budget\": \"85,000\"\\n}',\n",
              " '{\\n    \"Brand\": \"Dell\",\\n    \"Model Name\": \"XPS 15\",\\n    \"GPU processor\": \"NVIDIA\",\\n    \"Display Resolution\": \"3840x2160\",\\n    \"Weight\": \"1.8kg\",\\n    \"Processor\": \"Intel\",\\n    \"Clock speed\": \"2.8GHz\",\\n    \"Budget\": \"180000\"\\n}',\n",
              " '{\\n    \"Brand\": \"Lenovo\",\\n    \"Model Name\": \"ThinkPad X1 Carbon\",\\n    \"GPU processor\": \"Intel UHD\",\\n    \"Display Resolution\": \"2560x1440\",\\n    \"Weight\": \"1.13 kg\",\\n    \"Processor\": \"Intel Core i7\",\\n    \"Clock speed\": \"2.6 GHz\",\\n    \"Budget\": \"130,000\"\\n}',\n",
              " '{\\n    \"Brand\": \"Acer\",\\n    \"Model Name\": \"Swift 3\",\\n    \"GPU processor\": \"Radeon\",\\n    \"Display Resolution\": \"1920x1080\",\\n    \"Weight\": \"1.2kg\",\\n    \"Processor\": \"Ryzen\",\\n    \"Clock speed\": \"2.3GHz\",\\n    \"Budget\": \"50000\"\\n}',\n",
              " '{\\n    \"Brand\": \"Apple\",\\n    \"Model Name\": \"MacBook Air\",\\n    \"GPU processor\": \"Apple M1\",\\n    \"Display Resolution\": \"2560x1600\",\\n    \"Weight\": \"1.29kg\",\\n    \"Processor\": \"Apple M1\",\\n    \"Clock speed\": \"3.2GHz\",\\n    \"Budget\": \"100000\"\\n}',\n",
              " '{\\n    \"Brand\": \"MSI\",\\n    \"Model Name\": \"Prestige 14\",\\n    \"GPU processor\": \"NVIDIA GTX\",\\n    \"Display Resolution\": \"1920x1080\",\\n    \"Weight\": \"1.29 kg\",\\n    \"Processor\": \"Intel Core i5\",\\n    \"Clock speed\": \"2.4 GHz\",\\n    \"Budget\": \"70,000\"\\n}',\n",
              " '{\\n\"Brand\": \"ASUS\",\\n\"Model Name\": \"ZenBook 13\",\\n\"GPU processor\": \"Intel Iris Xe\",\\n\"Display Resolution\": \"1920x1080\",\\n\"Weight\": \"1.11 kg\",\\n\"Processor\": \"Intel Core i7\",\\n\"Clock speed\": \"2.8 GHz\",\\n\"Budget\": \"95,000\"\\n}',\n",
              " '{\\n    \"Brand\": \"Dell\",\\n    \"Model Name\": \"Precision 5550\",\\n    \"GPU processor\": \"NVIDIA Quadro\",\\n    \"Display Resolution\": \"3840x2160\",\\n    \"Weight\": \"1.83kg\",\\n    \"Processor\": \"Intel Xeon\",\\n    \"Clock speed\": \"2.6GHz\",\\n    \"Budget\": \"250,000\"\\n}',\n",
              " '{\\n    \"Brand\": \"HP\",\\n    \"Model Name\": \"ENVY x360\",\\n    \"GPU processor\": \"Intel Iris Xe\",\\n    \"Display Resolution\": \"1920x1080\",\\n    \"Weight\": \"2.05\",\\n    \"Processor\": \"Intel Core i7\",\\n    \"Clock speed\": \"2.8GHz\",\\n    \"Budget\": \"80000\"\\n}',\n",
              " '{\\n    \"Brand\": \"Razer\",\\n    \"Model Name\": \"Blade 15\",\\n    \"GPU processor\": \"NVIDIA RTX\",\\n    \"Display Resolution\": \"1920x1080\",\\n    \"Weight\": \"2.09 kg\",\\n    \"Processor\": \"Intel Core i7\",\\n    \"Clock speed\": \"2.6 GHz\",\\n    \"Budget\": \"150000\"\\n}',\n",
              " '{\\n    \"Brand\": \"Apple\",\\n    \"Model Name\": \"MacBook Pro\",\\n    \"GPU processor\": \"AMD Radeon\",\\n    \"Display Resolution\": \"3072x1920\",\\n    \"Weight\": \"2.02 kg\",\\n    \"Processor\": \"Intel Core i9\",\\n    \"Clock speed\": \"2.9 GHz\",\\n    \"Budget\": \"280000\"\\n}']"
            ]
          },
          "metadata": {},
          "execution_count": 23
        }
      ]
    },
    {
      "cell_type": "code",
      "source": [
        "!pip install -q -U wikipedia-api\n",
        "import wikipediaapi"
      ],
      "metadata": {
        "id": "sfMwBfRkhYux"
      },
      "execution_count": null,
      "outputs": []
    },
    {
      "cell_type": "code",
      "source": [
        "def wiki_search(query_term):\n",
        "    \"\"\"\n",
        "    Search Wikipedia for the user's search query and return the content.\n",
        "\n",
        "    Args:\n",
        "    - query_term (str): The search term or query to look up on Wikipedia.\n",
        "\n",
        "    Returns:\n",
        "    - str: The content retrieved from the Wikipedia page corresponding to the query term.\n",
        "    \"\"\"\n",
        "\n",
        "    # Set the Wikipedia user-agent header\n",
        "    string = \"SearchQuery/1.0 (scaler,)\"\n",
        "\n",
        "    # Create a Wikipedia API object with the specified user agent and language\n",
        "    wiki_wiki = wikipediaapi.Wikipedia(user_agent=string, language='en')\n",
        "\n",
        "    # Use the Wikipedia API to get the page corresponding to the query term\n",
        "    page = wiki_wiki.page(query_term)\n",
        "\n",
        "    # Extract the text content of the Wikipedia page\n",
        "    content = page.text\n",
        "\n",
        "    # Return the retrieved content from the Wikipedia page\n",
        "    return content"
      ],
      "metadata": {
        "id": "9JRg8aYZhsXe"
      },
      "execution_count": null,
      "outputs": []
    },
    {
      "cell_type": "code",
      "source": [
        "wiki_search(\"India\")"
      ],
      "metadata": {
        "colab": {
          "base_uri": "https://localhost:8080/",
          "height": 1000
        },
        "id": "TkaDkTYUi9zs",
        "outputId": "b4f649cb-6a4a-4c7d-82b9-8c35face60ce"
      },
      "execution_count": null,
      "outputs": [
        {
          "output_type": "execute_result",
          "data": {
            "text/plain": [
              "'India, officially the Republic of India (ISO: Bhārat Gaṇarājya), is a country in South Asia.  It is the seventh-largest country by area; the most populous country as of June 2023; and from the time of its independence in 1947, the world\\'s most populous democracy. It is physiographically bounded by the Indian Ocean on the south, the Arabian Sea on the southwest, the Bay of Bengal on the southeast, and High-mountain Asia on the northeast. It shares land borders with Pakistan to the northwest; China, Nepal, and Bhutan to the north; and Bangladesh and Myanmar to the east. In the Indian Ocean, India is in the vicinity of Sri Lanka and the Maldives; its Andaman and Nicobar Islands share a maritime border with Thailand, Myanmar, and Indonesia.\\nModern humans arrived on the Indian subcontinent from Africa no later than 55,000 years ago.\\nTheir long occupation, initially in varying forms of isolation as hunter-gatherers, has made the region highly diverse, second only to Africa in human genetic diversity. Settled life emerged on the subcontinent in the western margins of the Indus river basin 9,000 years ago, evolving gradually into the Indus Valley Civilisation of the third millennium BCE.\\nBy 1200 BCE, an archaic form of Sanskrit, an Indo-European language, had diffused into India from the northwest. Its evidence today is found in the hymns of the Rigveda. Preserved by an oral tradition that was resolutely vigilant, the Rigveda records the dawning of Hinduism in India. The Dravidian languages of India were supplanted in the northern and western regions.\\nBy 400 BCE, stratification and exclusion by caste had emerged within Hinduism,\\nand Buddhism and Jainism had arisen, proclaiming social orders unlinked to heredity.\\nEarly political consolidations gave rise to the loose-knit Maurya and Gupta Empires based in the Ganges Basin.\\nTheir collective era was suffused with wide-ranging creativity, but also marked by the declining status of women, and the incorporation of untouchability into an organised system of belief. In South India, the Middle kingdoms exported Dravidian-languages scripts and religious cultures to the kingdoms of Southeast Asia.\\nIn the early medieval era, Christianity, Islam, Judaism, and Zoroastrianism became established on India\\'s southern and western coasts.\\nMuslim armies from Central Asia intermittently overran India\\'s northern plains,\\neventually founding the Delhi Sultanate, and drawing northern India into the cosmopolitan networks of medieval Islam.\\nIn the 15th century, the Vijayanagara Empire created a long-lasting composite Hindu culture in south India.\\nIn the Punjab, Sikhism emerged, rejecting institutionalised religion.\\nThe Mughal Empire, in 1526, ushered in two centuries of relative peace,\\nleaving a legacy of luminous architecture.\\nGradually expanding rule of the British East India Company followed, turning India into a colonial economy, but also consolidating its sovereignty. British Crown rule began in 1858. The rights promised to Indians were granted slowly, but technological changes were introduced, and modern ideas of education and the public life took root. A pioneering and influential nationalist movement emerged, which was noted for nonviolent resistance and became the major factor in ending British rule. In 1947 the British Indian Empire was partitioned into two independent dominions, a Hindu-majority Dominion of India and a Muslim-majority Dominion of Pakistan, amid large-scale loss of life and an unprecedented migration.\\nIndia has been a federal republic since 1950, governed through a democratic parliamentary system. It is a pluralistic, multilingual and multi-ethnic society. India\\'s population grew from 361 million in 1951 to almost 1.4 billion in 2022.\\nDuring the same time, its nominal per capita income increased from US$64 annually to US$2,601, and its literacy rate from 16.6% to 74%. From being a comparatively destitute country in 1951, India has become a fast-growing major economy and a hub for information technology services, with an expanding middle class. India has a space programme with several planned or completed extraterrestrial missions. Indian movies, music, and spiritual teachings play an increasing role in global culture. India has substantially reduced its rate of poverty, though at the cost of increasing economic inequality. India is a nuclear-weapon state, which ranks high in military expenditure. It has disputes over Kashmir with its neighbours, Pakistan and China, unresolved since the mid-20th century. Among the socio-economic challenges India faces are gender inequality, child malnutrition, and rising levels of air pollution. India\\'s land is megadiverse, with four biodiversity hotspots. Its forest cover comprises 21.7% of its area. India\\'s wildlife, which has traditionally been viewed with tolerance in India\\'s culture, is supported among these forests, and elsewhere, in protected habitats.\\n\\nEtymology\\nAccording to the Oxford English Dictionary (third edition 2009), the name \"India\" is derived from the Classical Latin India, a reference to South Asia and an uncertain region to its east. In turn the name \"India\" derived successively from Hellenistic Greek India ( Ἰνδία), ancient Greek Indos ( Ἰνδός), Old Persian Hindush (an eastern province of the Achaemenid Empire), and ultimately its cognate, the Sanskrit Sindhu, or \"river\", specifically the Indus River and, by implication, its well-settled southern basin. The ancient Greeks referred to the Indians as Indoi (Ἰνδοί), which translates as \"The people of the Indus\".\\nThe term Bharat (Bhārat; pronounced [ˈbʱaːɾət] ), mentioned in both Indian epic poetry and the Constitution of India, is used in its variations by many Indian languages. A modern rendering of the historical name Bharatavarsha, which applied originally to North India, Bharat gained increased currency from the mid-19th century as a native name for India.\\nHindustan ([ɦɪndʊˈstaːn] ) is a Middle Persian name for India that became popular by the 13th century, and was used widely since the era of the Mughal Empire. The meaning of Hindustan has varied, referring to a region encompassing present-day northern India and Pakistan or to India in its near entirety.\\n\\nHistory\\nAncient India\\nBy 55,000 years ago, the first modern humans, or Homo sapiens, had arrived on the Indian subcontinent from Africa, where they had earlier evolved. The earliest known modern human remains in South Asia date to about 30,000 years ago. After 6500 BCE, evidence for domestication of food crops and animals, construction of permanent structures, and storage of agricultural surplus appeared in Mehrgarh and other sites in Balochistan, Pakistan. These gradually developed into the Indus Valley Civilisation, the first urban culture in South Asia, which flourished during 2500–1900 BCE in Pakistan and western India. Centred around cities such as Mohenjo-daro, Harappa, Dholavira, and Kalibangan, and relying on varied forms of subsistence, the civilisation engaged robustly in crafts production and wide-ranging trade.\\nDuring the period 2000–500 BCE, many regions of the subcontinent transitioned from the Chalcolithic cultures to the Iron Age ones. The Vedas, the oldest scriptures associated with Hinduism, were composed during this period, and historians have analysed these to posit a Vedic culture in the Punjab region and the upper Gangetic Plain. Most historians also consider this period to have encompassed several waves of Indo-Aryan migration into the subcontinent from the north-west. The caste system, which created a hierarchy of priests, warriors, and free peasants, but which excluded indigenous peoples by labelling their occupations impure, arose during this period. On the Deccan Plateau, archaeological evidence from this period suggests the existence of a chiefdom stage of political organisation. In South India, a progression to sedentary life is indicated by the large number of megalithic monuments dating from this period, as well as by nearby traces of agriculture, irrigation tanks, and craft traditions.\\n\\nIn the late Vedic period, around the 6th century BCE, the small states and chiefdoms of the Ganges Plain and the north-western regions had consolidated into 16 major oligarchies and monarchies that were known as the mahajanapadas. The emerging urbanisation gave rise to non-Vedic religious movements, two of which became independent religions. Jainism came into prominence during the life of its exemplar, Mahavira. Buddhism, based on the teachings of Gautama Buddha, attracted followers from all social classes excepting the middle class; chronicling the life of the Buddha was central to the beginnings of recorded history in India. In an age of increasing urban wealth, both religions held up renunciation as an ideal, and both established long-lasting monastic traditions. Politically, by the 3rd century BCE, the kingdom of Magadha had annexed or reduced other states to emerge as the Mauryan Empire. The empire was once thought to have controlled most of the subcontinent except the far south, but its core regions are now thought to have been separated by large autonomous areas. The Mauryan kings are known as much for their empire-building and determined management of public life as for Ashoka\\'s renunciation of militarism and far-flung advocacy of the Buddhist dhamma.\\nThe Sangam literature of the Tamil language reveals that, between 200 BCE and 200 CE, the southern peninsula was ruled by the Cheras, the Cholas, and the Pandyas, dynasties that traded extensively with the Roman Empire and with West and Southeast Asia. In North India, Hinduism asserted patriarchal control within the family, leading to increased subordination of women. By the 4th and 5th centuries, the Gupta Empire had created a complex system of administration and taxation in the greater Ganges Plain; this system became a model for later Indian kingdoms. Under the Guptas, a renewed Hinduism based on devotion, rather than the management of ritual, began to assert itself. This renewal was reflected in a flowering of sculpture and architecture, which found patrons among an urban elite. Classical Sanskrit literature flowered as well, and Indian science, astronomy, medicine, and mathematics made significant advances.\\n\\nMedieval India\\nThe Indian early medieval age, from 600 to 1200 CE, is defined by regional kingdoms and cultural diversity. When Harsha of Kannauj, who ruled much of the Indo-Gangetic Plain from 606 to 647 CE, attempted to expand southwards, he was defeated by the Chalukya ruler of the Deccan. When his successor attempted to expand eastwards, he was defeated by the Pala king of Bengal. When the Chalukyas attempted to expand southwards, they were defeated by the Pallavas from farther south, who in turn were opposed by the Pandyas and the Cholas from still farther south. No ruler of this period was able to create an empire and consistently control lands much beyond their core region. During this time, pastoral peoples, whose land had been cleared to make way for the growing agricultural economy, were accommodated within caste society, as were new non-traditional ruling classes. The caste system consequently began to show regional differences.\\nIn the 6th and 7th centuries, the first devotional hymns were created in the Tamil language. They were imitated all over India and led to both the resurgence of Hinduism and the development of all modern languages of the subcontinent. Indian royalty, big and small, and the temples they patronised drew citizens in great numbers to the capital cities, which became economic hubs as well. Temple towns of various sizes began to appear everywhere as India underwent another urbanisation. By the 8th and 9th centuries, the effects were felt in Southeast Asia, as South Indian culture and political systems were exported to lands that became part of modern-day Myanmar, Thailand, Laos, Brunei, Cambodia, Vietnam, Philippines, Malaysia, and Indonesia. Indian merchants, scholars, and sometimes armies were involved in this transmission; Southeast Asians took the initiative as well, with many sojourning in Indian seminaries and translating Buddhist and Hindu texts into their languages.\\nAfter the 10th century, Muslim Central Asian nomadic clans, using swift-horse cavalry and raising vast armies united by ethnicity and religion, repeatedly overran South Asia\\'s north-western plains, leading eventually to the establishment of the Islamic Delhi Sultanate in 1206. The sultanate was to control much of North India and to make many forays into South India. Although at first disruptive for the Indian elites, the sultanate largely left its vast non-Muslim subject population to its own laws and customs. By repeatedly repulsing Mongol raiders in the 13th century, the sultanate saved India from the devastation visited on West and Central Asia, setting the scene for centuries of migration of fleeing soldiers, learned men, mystics, traders, artists, and artisans from that region into the subcontinent, thereby creating a syncretic Indo-Islamic culture in the north. The sultanate\\'s raiding and weakening of the regional kingdoms of South India paved the way for the indigenous Vijayanagara Empire. Embracing a strong Shaivite tradition and building upon the military technology of the sultanate, the empire came to control much of peninsular India, and was to influence South Indian society for long afterwards.\\n\\nEarly modern India\\nIn the early 16th century, northern India, then under mainly Muslim rulers, fell again to the superior mobility and firepower of a new generation of Central Asian warriors. The resulting Mughal Empire did not stamp out the local societies it came to rule. Instead, it balanced and pacified them through new administrative practices and diverse and inclusive ruling elites, leading to more systematic, centralised, and uniform rule. Eschewing tribal bonds and Islamic identity, especially under Akbar, the Mughals united their far-flung realms through loyalty, expressed through a Persianised culture, to an emperor who had near-divine status. The Mughal state\\'s economic policies, deriving most revenues from agriculture and mandating that taxes be paid in the well-regulated silver currency, caused peasants and artisans to enter larger markets. The relative peace maintained by the empire during much of the 17th century was a factor in India\\'s economic expansion, resulting in greater patronage of painting, literary forms, textiles, and architecture. Newly coherent social groups in northern and western India, such as the Marathas, the Rajputs, and the Sikhs, gained military and governing ambitions during Mughal rule, which, through collaboration or adversity, gave them both recognition and military experience. Expanding commerce during Mughal rule gave rise to new Indian commercial and political elites along the coasts of southern and eastern India. As the empire disintegrated, many among these elites were able to seek and control their own affairs.\\n\\nBy the early 18th century, with the lines between commercial and political dominance being increasingly blurred, a number of European trading companies, including the English East India Company, had established coastal outposts. The East India Company\\'s control of the seas, greater resources, and more advanced military training and technology led it to increasingly assert its military strength and caused it to become attractive to a portion of the Indian elite; these factors were crucial in allowing the company to gain control over the Bengal region by 1765 and sideline the other European companies. Its further access to the riches of Bengal and the subsequent increased strength and size of its army enabled it to annex or subdue most of India by the 1820s. India was then no longer exporting manufactured goods as it long had, but was instead supplying the British Empire with raw materials. Many historians consider this to be the onset of India\\'s colonial period. By this time, with its economic power severely curtailed by the British parliament and having effectively been made an arm of British administration, the East India Company began more consciously to enter non-economic arenas, including education, social reform, and culture.\\n\\nModern India\\nHistorians consider India\\'s modern age to have begun sometime between 1848 and 1885. The appointment in 1848 of Lord Dalhousie as Governor General of the East India Company set the stage for changes essential to a modern state. These included the consolidation and demarcation of sovereignty, the surveillance of the population, and the education of citizens. Technological changes—among them, railways, canals, and the telegraph—were introduced not long after their introduction in Europe. However, disaffection with the company also grew during this time and set off the Indian Rebellion of 1857. Fed by diverse resentments and perceptions, including invasive British-style social reforms, harsh land taxes, and summary treatment of some rich landowners and princes, the rebellion rocked many regions of northern and central India and shook the foundations of Company rule. Although the rebellion was suppressed by 1858, it led to the dissolution of the East India Company and the direct administration of India by the British government. Proclaiming a unitary state and a gradual but limited British-style parliamentary system, the new rulers also protected princes and landed gentry as a feudal safeguard against future unrest. In the decades following, public life gradually emerged all over India, leading eventually to the founding of the Indian National Congress in 1885.\\nThe rush of technology and the commercialisation of agriculture in the second half of the 19th century was marked by economic setbacks, and many small farmers became dependent on the whims of far-away markets. There was an increase in the number of large-scale famines, and, despite the risks of infrastructure development borne by Indian taxpayers, little industrial employment was generated for Indians. There were also salutary effects: commercial cropping, especially in the newly canalled Punjab, led to increased food production for internal consumption. The railway network provided critical famine relief, notably reduced the cost of moving goods, and helped nascent Indian-owned industry.\\n\\nAfter World War I, in which approximately one million Indians served, a new period began. It was marked by British reforms but also repressive legislation, by more strident Indian calls for self-rule, and by the beginnings of a nonviolent movement of non-co-operation, of which Mahatma Gandhi would become the leader and enduring symbol. During the 1930s, slow legislative reform was enacted by the British; the Indian National Congress won victories in the resulting elections. The next decade was beset with crises: Indian participation in World War II, the Congress\\'s final push for non-co-operation, and an upsurge of Muslim nationalism. All were capped by the advent of independence in 1947, but tempered by the partition of India into two states: India and Pakistan.\\nVital to India\\'s self-image as an independent nation was its constitution, completed in 1950, which put in place a secular and democratic republic. Per the London Declaration, India retained its membership of the Commonwealth, becoming the first republic within it. Economic liberalisation, which began in the 1980s and the collaboration with Soviet Union for technical know-how, has created a large urban middle class, transformed India into one of the world\\'s fastest-growing economies, and increased its geopolitical clout. Yet, India is also shaped by seemingly unyielding poverty, both rural and urban; by religious and caste-related violence; by Maoist-inspired Naxalite insurgencies; and by separatism in Jammu and Kashmir and in Northeast India. It has unresolved territorial disputes with China and with Pakistan. India\\'s sustained democratic freedoms are unique among the world\\'s newer nations; however, in spite of its recent economic successes, freedom from want for its disadvantaged population remains a goal yet to be achieved.\\n\\nGeography\\nIndia accounts for the bulk of the Indian subcontinent, lying atop the Indian tectonic plate, a part of the Indo-Australian Plate. India\\'s defining geological processes began 75 million years ago when the Indian Plate, then part of the southern supercontinent Gondwana, began a north-eastward drift caused by seafloor spreading to its south-west, and later, south and south-east. Simultaneously, the vast Tethyan oceanic crust, to its northeast, began to subduct under the Eurasian Plate. These dual processes, driven by convection in the Earth\\'s mantle, both created the Indian Ocean and caused the Indian continental crust eventually to under-thrust Eurasia and to uplift the Himalayas. Immediately south of the emerging Himalayas, plate movement created a vast crescent-shaped trough that rapidly filled with river-borne sediment and now constitutes the Indo-Gangetic Plain. The original Indian plate makes its first appearance above the sediment in the ancient Aravalli range, which extends from the Delhi Ridge in a southwesterly direction. To the west lies the Thar Desert, the eastern spread of which is checked by the Aravallis.\\n\\nThe remaining Indian Plate survives as peninsular India, the oldest and geologically most stable part of India. It extends as far north as the Satpura and Vindhya ranges in central India. These parallel chains run from the Arabian Sea coast in Gujarat in the west to the coal-rich Chota Nagpur Plateau in Jharkhand in the east. To the south, the remaining peninsular landmass, the Deccan Plateau, is flanked on the west and east by coastal ranges known as the Western and Eastern Ghats; the plateau contains the country\\'s oldest rock formations, some over one billion years old. Constituted in such fashion, India lies to the north of the equator between 6° 44′ and 35° 30′ north latitude and 68° 7′ and 97° 25′ east longitude.\\nIndia\\'s coastline measures 7,517 kilometres (4,700 mi) in length; of this distance, 5,423 kilometres (3,400 mi) belong to peninsular India and 2,094 kilometres (1,300 mi) to the Andaman, Nicobar, and Lakshadweep island chains. According to the Indian naval hydrographic charts, the mainland coastline consists of the following: 43% sandy beaches; 11% rocky shores, including cliffs; and 46% mudflats or marshy shores.\\nMajor Himalayan-origin rivers that substantially flow through India include the Ganges and the Brahmaputra, both of which drain into the Bay of Bengal. Important tributaries of the Ganges include the Yamuna and the Kosi; the latter\\'s extremely low gradient, caused by long-term silt deposition, leads to severe floods and course changes. Major peninsular rivers, whose steeper gradients prevent their waters from flooding, include the Godavari, the Mahanadi, the Kaveri, and the Krishna, which also drain into the Bay of Bengal; and the Narmada and the Tapti, which drain into the Arabian Sea. Coastal features include the marshy Rann of Kutch of western India and the alluvial Sundarbans delta of eastern India; the latter is shared with Bangladesh. India has two archipelagos: the Lakshadweep, coral atolls off India\\'s south-western coast; and the Andaman and Nicobar Islands, a volcanic chain in the Andaman Sea.\\nIndian climate is strongly influenced by the Himalayas and the Thar Desert, both of which drive the economically and culturally pivotal summer and winter monsoons. The Himalayas prevent cold Central Asian katabatic winds from blowing in, keeping the bulk of the Indian subcontinent warmer than most locations at similar latitudes. The Thar Desert plays a crucial role in attracting the moisture-laden south-west summer monsoon winds that, between June and October, provide the majority of India\\'s rainfall. Four major climatic groupings predominate in India: tropical wet, tropical dry, subtropical humid, and montane.\\nTemperatures in India have risen by 0.7 °C (1.3 °F) between 1901 and 2018. Climate change in India is often thought to be the cause. The retreat of Himalayan glaciers has adversely affected the flow rate of the major Himalayan rivers, including the Ganges and the Brahmaputra. According to some current projections, the number and severity of droughts in India will have markedly increased by the end of the present century. The right \"to be free from adverse impacts of climate change\" is legally recognized as a fundamental right in India.\\n\\nBiodiversity\\nIndia is a megadiverse country, a term employed for 17 countries which display high biological diversity and contain many species exclusively indigenous, or endemic, to them. India is a habitat for 8.6% of all mammal species, 13.7% of bird species, 7.9% of reptile species, 6% of amphibian species, 12.2% of fish species, and 6.0% of all flowering plant species. Fully a third of Indian plant species are endemic. India also contains four of the world\\'s 34 biodiversity hotspots, or regions that display significant habitat loss in the presence of high endemism.\\nAccording to official statistics, India\\'s forest cover is 713,789 km2 (275,595 sq mi), which is 21.71% of the country\\'s total land area. It can be subdivided further into broad categories of canopy density, or the proportion of the area of a forest covered by its tree canopy. Very dense forest, whose canopy density is greater than 70%, occupies 3.02% of India\\'s land area. It predominates in the tropical moist forest of the Andaman Islands, the Western Ghats, and Northeast India. Moderately dense forest, whose canopy density is between 40% and 70%, occupies 9.39% of India\\'s land area. It predominates in the temperate coniferous forest of the Himalayas, the moist deciduous sal forest of eastern India, and the dry deciduous teak forest of central and southern India. Open forest, whose canopy density is between 10% and 40%, occupies 9.26% of India\\'s land area. India has two natural zones of thorn forest, one in the Deccan Plateau, immediately east of the Western Ghats, and the other in the western part of the Indo-Gangetic plain, now turned into rich agricultural land by irrigation, its features no longer visible.\\nAmong the Indian subcontinent\\'s notable indigenous trees are the astringent Azadirachta indica, or neem, which is widely used in rural Indian herbal medicine, and the luxuriant Ficus religiosa, or peepul, which is displayed on the ancient seals of Mohenjo-daro, and under which the Buddha is recorded in the Pali canon to have sought enlightenment.\\nMany Indian species have descended from those of Gondwana, the southern supercontinent from which India separated more than 100 million years ago. India\\'s subsequent collision with Eurasia set off a mass exchange of species. However, volcanism and climatic changes later caused the extinction of many endemic Indian forms. Still later, mammals entered India from Asia through two zoogeographical passes flanking the Himalayas. This had the effect of lowering endemism among India\\'s mammals, which stands at 12.6%, contrasting with 45.8% among reptiles and 55.8% among amphibians. Among endemics are the vulnerable hooded leaf monkey and the threatened Beddome\\'s toad of the Western Ghats.\\nIndia contains 172 IUCN-designated threatened animal species, or 2.9% of endangered forms. These include the endangered Bengal tiger and the Ganges river dolphin. Critically endangered species include the gharial, a crocodilian; the great Indian bustard; and the Indian white-rumped vulture, which has become nearly extinct by having ingested the carrion of diclofenac-treated cattle. Before they were extensively used for agriculture and cleared for human settlement, the thorn forests of Punjab were mingled at intervals with open grasslands that were grazed by large herds of blackbuck preyed on by the Asiatic cheetah; the blackbuck, no longer extant in Punjab, is now severely endangered in India, and the cheetah is extinct. The pervasive and ecologically devastating human encroachment of recent decades has critically endangered Indian wildlife. In response, the system of national parks and protected areas, first established in 1935, was expanded substantially. In 1972, India enacted the Wildlife Protection Act and Project Tiger to safeguard crucial wilderness; the Forest Conservation Act was enacted in 1980 and amendments added in 1988. India hosts more than five hundred wildlife sanctuaries and eighteen biosphere reserves, four of which are part of the World Network of Biosphere Reserves; seventy-five wetlands are registered under the Ramsar Convention.\\n\\nPolitics and government\\nPolitics\\nA parliamentary republic with a multi-party system, India has six recognised national parties, including the Indian National Congress (INC) and the Bharatiya Janata Party (BJP), and more than 50 regional parties. The Congress is considered centre in Indian political culture, and the BJP right-wing. For most of the period between 1950—when India first became a republic—and the late 1980s, the Congress held a majority in the Parliament. Since then, however, it has increasingly shared the political stage with the BJP, as well as with powerful regional parties which have often forced the creation of multi-party coalition governments at the centre.\\nIn the Republic of India\\'s first three general elections, in 1951, 1957, and 1962, the Pandit Jawaharlal Nehru-led Congress won easy victories. On Nehru\\'s death in 1964, Lal Bahadur Shastri briefly became prime minister; he was succeeded, after his own unexpected death in 1966, by Nehru\\'s daughter Indira Gandhi, who went on to lead the Congress to election victories in 1967 and 1971. Following public discontent with the state of emergency she declared in 1975, the Congress was voted out of power in 1977; the then-new Janata Party, which had opposed the emergency, was voted in. Its government lasted just over two years. There were two prime ministers during this period; Morarji Desai and Charan Singh. Voted back into power in 1980, the Congress saw a change in leadership in 1984, when Indira Gandhi was assassinated; she was succeeded by her son Rajiv Gandhi, who won an easy victory in the general elections later that year. The Congress was voted out again in 1989 when a National Front coalition, led by the newly formed Janata Dal in alliance with the Left Front, won the elections; that government too proved relatively short-lived, lasting just under two years. There were two prime ministers during this period; V.P. Singh and Chandra Shekhar. Elections were held again in 1991; no party won an absolute majority. The Congress, as the largest single party, was able to form a minority government led by P. V. Narasimha Rao.\\n\\nA two-year period of political turmoil followed the general election of 1996. Several short-lived alliances shared power at the centre. The BJP formed a government briefly in 1996; it was followed by two comparatively long-lasting United Front coalitions, which depended on external support. There were two prime ministers during this period; H.D. Deve Gowda and I.K. Gujral. In 1998, the BJP was able to form a successful coalition, the National Democratic Alliance (NDA). Led by Atal Bihari Vajpayee, the NDA became the first non-Congress, coalition government to complete a five-year term. Again in the 2004 Indian general elections, no party won an absolute majority, but the Congress emerged as the largest single party, forming another successful coalition: the United Progressive Alliance (UPA). It had the support of left-leaning parties and MPs who opposed the BJP. The UPA returned to power in the 2009 general election with increased numbers, and it no longer required external support from India\\'s communist parties. That year, Manmohan Singh became the first prime minister since Jawaharlal Nehru in 1957 and 1962 to be re-elected to a consecutive five-year term. In the 2014 general election, the BJP became the first political party since 1984 to win a majority and govern without the support of other parties. In the 2019 general election, the BJP was victorious again. Narendra Modi, a former chief minister of Gujarat, is serving as the 14th Prime Minister of India in his third term since May 26, 2014. On 22 July 2022, Droupadi Murmu was elected India\\'s 15th president and took the oath of office on 25 July 2022.\\n\\nGovernment\\nIndia is a federation with a parliamentary system governed under the Constitution of India—the country\\'s supreme legal document. It is a constitutional republic.\\nFederalism in India defines the power distribution between the union and the states. The Constitution of India, which came into effect on 26 January 1950, originally stated India to be a \"sovereign, democratic republic;\" this characterisation was amended in 1971 to \"a sovereign, socialist, secular, democratic republic\". India\\'s form of government, traditionally described as \"quasi-federal\" with a strong centre and weak states, has grown increasingly federal since the late 1990s as a result of political, economic, and social changes.\\n\\nThe Government of India comprises three branches:\\n\\nExecutive: The President of India is the ceremonial head of state, who is elected indirectly for a five-year term by an electoral college comprising members of national and state legislatures. The Prime Minister of India is the head of government and exercises most executive power. Appointed by the president, the prime minister is by convention supported by the party or political alliance having a majority of seats in the lower house of parliament. The executive of the Indian government consists of the president, the vice-president, and the Union Council of Ministers—with the cabinet being its executive committee—headed by the prime minister. Any minister holding a portfolio must be a member of one of the houses of parliament. In the Indian parliamentary system, the executive is subordinate to the legislature; the prime minister and their council are directly responsible to the lower house of the parliament. Civil servants act as permanent executives and all decisions of the executive are implemented by them.\\nLegislature: The legislature of India is the bicameral parliament. Operating under a Westminster-style parliamentary system, it comprises an upper house called the Rajya Sabha (Council of States) and a lower house called the Lok Sabha (House of the People). The Rajya Sabha is a permanent body of 245 members who serve staggered six-year terms. Most are elected indirectly by the state and union territorial legislatures in numbers proportional to their state\\'s share of the national population. All but two of the Lok Sabha\\'s 545 members are elected directly by popular vote; they represent single-member constituencies for five-year terms. Two seats of parliament, reserved for Anglo-Indians in the article 331, have been scrapped.\\nJudiciary: India has a three-tier unitary independent judiciary comprising the supreme court, headed by the Chief Justice of India, 25 high courts, and a large number of trial courts. The supreme court has original jurisdiction over cases involving fundamental rights and over disputes between states and the centre and has appellate jurisdiction over the high courts. It has the power to both strike down union or state laws which contravene the constitution and invalidate any government action it deems unconstitutional.\\n\\nAdministrative divisions\\nIndia is a federal union comprising 28 states and 8 union territories. All states, as well as the union territories of Jammu and Kashmir, Puducherry and the National Capital Territory of Delhi, have elected legislatures and governments following the Westminster system of governance. The remaining five union territories are directly ruled by the central government through appointed administrators. In 1956, under the States Reorganisation Act, states were reorganised on a linguistic basis. There are over a quarter of a million local government bodies at city, town, block, district and village levels.\\n\\nStates\\nUnion territories\\nForeign, economic and strategic relations\\nIn the 1950s, India strongly supported decolonisation in Africa and Asia and played a leading role in the Non-Aligned Movement. After initially cordial relations with neighbouring China, India went to war with China in 1962 and was widely thought to have been humiliated. This was followed by another military conflict in 1967 in which India successfully repelled Chinese attack. India has had tense relations with neighbouring Pakistan; the two nations have gone to war four times: in 1947, 1965, 1971, and 1999. Three of these wars were fought over the disputed territory of Kashmir, while the third, the 1971 war, followed from India\\'s support for the independence of Bangladesh. In the late 1980s, the Indian military twice intervened abroad at the invitation of the host country: a peace-keeping operation in Sri Lanka between 1987 and 1990; and an armed intervention to prevent a 1988 coup d\\'état attempt in the Maldives. After the 1965 war with Pakistan, India began to pursue close military and economic ties with the Soviet Union; by the late 1960s, the Soviet Union was its largest arms supplier.\\nAside from its ongoing special relationship with Russia, India has wide-ranging defence relations with Israel and France. In recent years, it has played key roles in the South Asian Association for Regional Cooperation and the World Trade Organization. The nation has provided 100,000 military and police personnel to serve in 35 UN peacekeeping operations across four continents. It participates in the East Asia Summit, the G8+5, and other multilateral forums. India has close economic ties with countries in South America, Asia, and Africa; it pursues a \"Look East\" policy that seeks to strengthen partnerships with the ASEAN nations, Japan, and South Korea that revolve around many issues, but especially those involving economic investment and regional security.\\n\\nChina\\'s nuclear test of 1964, as well as its repeated threats to intervene in support of Pakistan in the 1965 war, convinced India to develop nuclear weapons. India conducted its first nuclear weapons test in 1974 and carried out additional underground testing in 1998. Despite criticism and military sanctions, India has signed neither the Comprehensive Nuclear-Test-Ban Treaty nor the Nuclear Non-Proliferation Treaty, considering both to be flawed and discriminatory. India maintains a \"no first use\" nuclear policy and is developing a nuclear triad capability as a part of its \"Minimum Credible Deterrence\" doctrine. It is developing a ballistic missile defence shield and, a fifth-generation fighter jet. Other indigenous military projects involve the design and implementation of Vikrant-class aircraft carriers and Arihant-class nuclear submarines.\\nSince the end of the Cold War, India has increased its economic, strategic, and military co-operation with the United States and the European Union. In 2008, a civilian nuclear agreement was signed between India and the United States. Although India possessed nuclear weapons at the time and was not a party to the Nuclear Non-Proliferation Treaty, it received waivers from the International Atomic Energy Agency and the Nuclear Suppliers Group, ending earlier restrictions on India\\'s nuclear technology and commerce. As a consequence, India became the sixth de facto nuclear weapons state. India subsequently signed co-operation agreements involving civilian nuclear energy with Russia, France, the United Kingdom, and Canada.\\n\\nThe President of India is the supreme commander of the nation\\'s armed forces; with 1.45 million active troops, they compose the world\\'s second-largest military. It comprises the Indian Army, the Indian Navy, the Indian Air Force, and the Indian Coast Guard. The official Indian defence budget for 2011 was US$36.03 billion, or 1.83% of GDP. Defence expenditure was pegged at US$70.12 billion for fiscal year 2022–23 and, increased 9.8% than previous fiscal year. India is the world\\'s second-largest arms importer; between 2016 and 2020, it accounted for 9.5% of the total global arms imports. Much of the military expenditure was focused on defence against Pakistan and countering growing Chinese influence in the Indian Ocean. In May 2017, the Indian Space Research Organisation launched the South Asia Satellite, a gift from India to its neighbouring SAARC countries. In October 2018, India signed a US$5.43 billion (over ₹400 billion) agreement with Russia to procure four S-400 Triumf surface-to-air missile defence systems, Russia\\'s most advanced long-range missile defence system.\\n\\nEconomy\\nAccording to the International Monetary Fund (IMF), the Indian economy in 2024 was nominally worth $3.94 trillion; it was the fifth-largest economy by market exchange rates and is, at around $15.0 trillion, the third-largest by purchasing power parity (PPP). With its average annual GDP growth rate of 5.8% over the past two decades, and reaching 6.1% during 2011–2012, India is one of the world\\'s fastest-growing economies. However, the country ranks 136th in the world in nominal GDP per capita and 125th in GDP per capita at PPP. Until 1991, all Indian governments followed protectionist policies that were influenced by socialist economics. Widespread state intervention and regulation largely walled the economy off from the outside world. An acute balance of payments crisis in 1991 forced the nation to liberalise its economy; since then, it has moved increasingly towards a free-market system by emphasising both foreign trade and direct investment inflows. India has been a member of World Trade Organization since 1 January 1995.\\nThe 522-million-worker Indian labour force is the world\\'s second-largest, as of 2017. The service sector makes up 55.6% of GDP, the industrial sector 26.3% and the agricultural sector 18.1%. India\\'s foreign exchange remittances of US$100 billion in 2022, highest in the world, were contributed to its economy by 32 million Indians working in foreign countries. Major agricultural products include rice, wheat, oilseed, cotton, jute, tea, sugarcane, and potatoes. Major industries include textiles, telecommunications, chemicals, pharmaceuticals, biotechnology, food processing, steel, transport equipment, cement, mining, petroleum, machinery, and software. In 2006, the share of external trade in India\\'s GDP stood at 24%, up from 6% in 1985. In 2008, India\\'s share of world trade was 1.7%; In 2021, India was the world\\'s ninth-largest importer and the sixteenth-largest exporter. Major exports include petroleum products, textile goods, jewellery, software, engineering goods, chemicals, and manufactured leather goods. Major imports include crude oil, machinery, gems, fertiliser, and chemicals. Between 2001 and 2011, the contribution of petrochemical and engineering goods to total exports grew from 14% to 42%. India was the world\\'s second-largest textile exporter after China in the 2013 calendar year.\\nAveraging an economic growth rate of 7.5% for several years prior to 2007, India has more than doubled its hourly wage rates during the first decade of the 21st century. Some 431 million Indians have left poverty since 1985; India\\'s middle classes are projected to number around 580 million by 2030. Though ranking 68th in global competitiveness, as of 2010, India ranks 17th in financial market sophistication, 24th in the banking sector, 44th in business sophistication, and 39th in innovation, ahead of several advanced economies. With seven of the world\\'s top 15 information technology outsourcing companies based in India, as of 2009, the country is viewed as the second-most favourable outsourcing destination after the United States. India is ranked 40th in the Global Innovation Index in 2023. As of 2023, India\\'s consumer market was the world\\'s fifth-largest.\\nDriven by growth, India\\'s nominal GDP per capita increased steadily from US$308 in 1991, when economic liberalisation began, to US$1,380 in 2010, to an estimated US$2,731 in 2024. It is expected to grow to US$3,264 by 2026. However, it has remained lower than those of other Asian developing countries such as Indonesia, Malaysia, Philippines, Sri Lanka, and Thailand, and is expected to remain so in the near future.\\n\\nAccording to a 2011 PricewaterhouseCoopers (PwC) report, India\\'s GDP at purchasing power parity could overtake that of the United States by 2045. During the next four decades, Indian GDP is expected to grow at an annualised average of 8%, making it potentially the world\\'s fastest-growing major economy until 2050. The report highlights key growth factors: a young and rapidly growing working-age population; growth in the manufacturing sector because of rising education and engineering skill levels; and sustained growth of the consumer market driven by a rapidly growing middle-class. The World Bank cautions that, for India to achieve its economic potential, it must continue to focus on public sector reform, transport infrastructure, agricultural and rural development, removal of labour regulations, education, energy security, and public health and nutrition.\\nAccording to the Worldwide Cost of Living Report 2017 released by the Economist Intelligence Unit (EIU) which was created by comparing more than 400 individual prices across 160 products and services, four of the cheapest cities were in India: Bangalore (3rd), Mumbai (5th), Chennai (5th) and New Delhi (8th).\\n\\nIndustries\\nIndia\\'s telecommunication industry is the second-largest in the world with over 1.2 billion subscribers. It contributes 6.5% to India\\'s GDP. After the third quarter of 2017, India surpassed the US to become the second-largest smartphone market in the world after China.\\nThe Indian automotive industry, the world\\'s second-fastest growing, increased domestic sales by 26% during 2009–2010, and exports by 36% during 2008–2009. In 2022, India became the world\\'s third-largest vehicle market after China and the United States, surpassing Japan. At the end of 2011, the Indian IT industry employed 2.8 million professionals, generated revenues close to US$100 billion equalling 7.5% of Indian GDP, and contributed 26% of India\\'s merchandise exports.\\nThe pharmaceutical industry in India emerged as a global player. As of 2021, with 3000 pharmaceutical companies and 10,500 manufacturing units India is the world\\'s third-largest pharmaceutical producer, largest producer of generic medicines and supply up to 50—60% of global vaccines demand, these all contribute up to US$24.44 billions in exports and India\\'s local pharmaceutical market is estimated up to US$42 billion. India is among the top 12 biotech destinations in the world. The Indian biotech industry grew by 15.1% in 2012–2013, increasing its revenues from ₹204.4 billion (Indian rupees) to ₹235.24 billion (US$3.94 billion at June 2013 exchange rates).\\n\\nEnergy\\nIndia\\'s capacity to generate electrical power is 300 gigawatts, of which 42 gigawatts is renewable. The country\\'s usage of coal is a major cause of greenhouse gas emissions by India but its renewable energy is competing strongly. India emits about 7% of global greenhouse gas emissions. This equates to about 2.5 tons of carbon dioxide per person per year, which is half the world average. Increasing access to electricity and clean cooking with liquefied petroleum gas have been priorities for energy in India.\\n\\nSocio-economic challenges\\nDespite economic growth during recent decades, India continues to face socio-economic challenges. In 2006, India contained the largest number of people living below the World Bank\\'s international poverty line of US$1.25 per day. The proportion decreased from 60% in 1981 to 42% in 2005. Under the World Bank\\'s later revised poverty line, it was 21% in 2011. 30.7% of India\\'s children under the age of five are underweight. According to a Food and Agriculture Organization report in 2015, 15% of the population is undernourished. The Midday Meal Scheme attempts to lower these rates.\\nA 2018 Walk Free Foundation report estimated that nearly 8 million people in India were living in different forms of modern slavery, such as bonded labour, child labour, human trafficking, and forced begging, among others. According to the 2011 census, there were 10.1 million child labourers in the country, a decline of 2.6 million from 12.6 million in 2001.\\nSince 1991, economic inequality between India\\'s states has consistently grown: the per-capita net state domestic product of the richest states in 2007 was 3.2 times that of the poorest. Corruption in India is perceived to have decreased. According to the Corruption Perceptions Index, India ranked 78th out of 180 countries in 2018 with a score of 41 out of 100, an improvement from 85th in 2014.\\nEpidemic and pandemic diseases have long been a major factor, including COVID-19 and cholera.\\n\\nDemographics, languages and religion\\nWith an estimated 1,428,627,663 residents in 2023, India is the world\\'s most populous country. 1,210,193,422 residents were reported in the 2011 provisional census report. Its population grew by 17.64% from 2001 to 2011, compared to 21.54% growth in the previous decade (1991–2001). The human sex ratio, according to the 2011 census, is 940 females per 1,000 males. The median age was 28.7 as of 2020. The first post-colonial census, conducted in 1951, counted 361 million people. Medical advances made in the last 50 years as well as increased agricultural productivity brought about by the \"Green Revolution\" have caused India\\'s population to grow rapidly.\\nThe life expectancy in India is at 70 years—71.5 years for women, 68.7 years for men. There are around 93 physicians per 100,000 people. Migration from rural to urban areas has been an important dynamic in India\\'s recent history. The number of people living in urban areas grew by 31.2% between 1991 and 2001. Yet, in 2001, over 70% still lived in rural areas. The level of urbanisation increased further from 27.81% in the 2001 Census to 31.16% in the 2011 Census. The slowing down of the overall population growth rate was due to the sharp decline in the growth rate in rural areas since 1991. According to the 2011 census, there are 53 million-plus urban agglomerations in India; among them Mumbai, Delhi, Kolkata, Chennai, Bangalore, Hyderabad and Ahmedabad, in decreasing order by population. The literacy rate in 2011 was 74.04%: 65.46% among females and 82.14% among males. The rural-urban literacy gap, which was 21.2 percentage points in 2001, dropped to 16.1 percentage points in 2011. The improvement in the rural literacy rate is twice that of urban areas. Kerala is the most literate state with 93.91% literacy; while Bihar the least with 63.82%.\\n\\nAmong speakers of the Indian languages, 74% speak Indo-Aryan languages, the easternmost branch of the Indo-European languages; 24% speak Dravidian languages, indigenous to South Asia and spoken widely before the spread of Indo-Aryan languages and 2% speak Austroasiatic languages or the Sino-Tibetan languages. India has no national language. Hindi, with the largest number of speakers, is the official language of the government. English is used extensively in business and administration and has the status of a \"subsidiary official language\"; it is important in education, especially as a medium of higher education. Each state and union territory has one or more official languages, and the constitution recognises in particular 22 \"scheduled languages\".\\nThe 2011 census reported the religion in India with the largest number of followers was Hinduism (79.80% of the population), followed by Islam (14.23%); the remaining were Christianity (2.30%), Sikhism (1.72%), Buddhism (0.70%), Jainism (0.36%) and others (0.9%). India has the third-largest Muslim population—the largest for a non-Muslim majority country.\\n\\nCulture\\nIndian cultural history spans more than 4,500 years. During the Vedic period (c.\\u20091700 BCE – c.\\u2009500 BCE), the foundations of Hindu philosophy, mythology, theology and literature were laid, and many beliefs and practices which still exist today, such as dhárma, kárma, yóga, and mokṣa, were established. India is notable for its religious diversity, with Hinduism, Buddhism, Sikhism, Islam, Christianity, and Jainism among the nation\\'s major religions. The predominant religion, Hinduism, has been shaped by various historical schools of thought, including those of the Upanishads, the Yoga Sutras, the Bhakti movement, and by Buddhist philosophy.\\n\\nVisual art\\nIndia has a very ancient tradition of art, which has exchanged many influences with the rest of Eurasia, especially in the first millennium, when Buddhist art spread with Indian religions to Central, East and Southeast Asia, the last also greatly influenced by Hindu art. Thousands of seals from the Indus Valley Civilization of the third millennium BCE have been found, usually carved with animals, but a few with human figures. The \"Pashupati\" seal, excavated in Mohenjo-daro, Pakistan, in 1928–29, is the best known. After this there is a long period with virtually nothing surviving. Almost all surviving ancient Indian art thereafter is in various forms of religious sculpture in durable materials, or coins. There was probably originally far more in wood, which is lost. In north India Mauryan art is the first imperial movement. In the first millennium CE, Buddhist art spread with Indian religions to Central, East and Southeast Asia, the last also greatly influenced by Hindu art. Over the following centuries a distinctly Indian style of sculpting the human figure developed, with less interest in articulating precise anatomy than ancient Greek sculpture but showing smoothly flowing forms expressing prana (\"breath\" or life-force). This is often complicated by the need to give figures multiple arms or heads, or represent different genders on the left and right of figures, as with the Ardhanarishvara form of Shiva and Parvati.\\nMost of the earliest large sculpture is Buddhist, either excavated from Buddhist stupas such as Sanchi, Sarnath and Amaravati, or is rock cut reliefs at sites such as Ajanta, Karla and Ellora. Hindu and Jain sites appear rather later. In spite of this complex mixture of religious traditions, generally, the prevailing artistic style at any time and place has been shared by the major religious groups, and sculptors probably usually served all communities. Gupta art, at its peak c.\\u2009300 CE – c.\\u2009500 CE, is often regarded as a classical period whose influence lingered for many centuries after; it saw a new dominance of Hindu sculpture, as at the Elephanta Caves. Across the north, this became rather stiff and formulaic after c.\\u2009800 CE, though rich with finely carved detail in the surrounds of statues. But in the South, under the Pallava and Chola dynasties, sculpture in both stone and bronze had a sustained period of great achievement; the large bronzes with Shiva as Nataraja have become an iconic symbol of India.\\nAncient painting has only survived at a few sites, of which the crowded scenes of court life in the Ajanta Caves are by far the most important, but it was evidently highly developed, and is mentioned as a courtly accomplishment in Gupta times. Painted manuscripts of religious texts survive from Eastern India about the 10th century onwards, most of the earliest being Buddhist and later Jain. No doubt the style of these was used in larger paintings. The Persian-derived Deccan painting, starting just before the Mughal miniature, between them give the first large body of secular painting, with an emphasis on portraits, and the recording of princely pleasures and wars. The style spread to Hindu courts, especially among the Rajputs, and developed a variety of styles, with the smaller courts often the most innovative, with figures such as Nihâl Chand and Nainsukh. As a market developed among European residents, it was supplied by Company painting by Indian artists with considerable Western influence. In the 19th century, cheap Kalighat paintings of gods and everyday life, done on paper, were urban folk art from Calcutta, which later saw the Bengal School of Art, reflecting the art colleges founded by the British, the first movement in modern Indian painting.\\n\\nArchitecture\\nMuch of Indian architecture, including the Taj Mahal, other works of Indo-Islamic Mughal architecture, and South Indian architecture, blends ancient local traditions with imported styles. Vernacular architecture is also regional in its flavours. Vastu shastra, literally \"science of construction\" or \"architecture\" and ascribed to Mamuni Mayan, explores how the laws of nature affect human dwellings; it employs precise geometry and directional alignments to reflect perceived cosmic constructs. As applied in Hindu temple architecture, it is influenced by the Shilpa Shastras, a series of foundational texts whose basic mythological form is the Vastu-Purusha mandala, a square that embodied the \"absolute\". The Taj Mahal, built in Agra between 1631 and 1648 by orders of Mughal emperor Shah Jahan in memory of his wife, has been described in the UNESCO World Heritage List as \"the jewel of Muslim art in India and one of the universally admired masterpieces of the world\\'s heritage\". Indo-Saracenic Revival architecture, developed by the British in the late 19th century, drew on Indo-Islamic architecture.\\n\\nLiterature\\nThe earliest literature in India, composed between 1500 BCE and 1200 CE, was in the Sanskrit language. Major works of Sanskrit literature include the Rigveda (c.\\u20091500 BCE – c.\\u20091200 BCE), the epics: Mahābhārata (c.\\u2009400 BCE – c.\\u2009400 CE) and the Ramayana (c.\\u2009300 BCE and later); Abhijñānaśākuntalam (The Recognition of Śakuntalā, and other dramas of Kālidāsa (c.\\u20095th century CE) and Mahākāvya poetry. In Tamil literature, the Sangam literature (c.\\u2009600 BCE – c.\\u2009300 BCE) consisting of 2,381 poems, composed by 473 poets, is the earliest work. From the 14th to the 18th centuries, India\\'s literary traditions went through a period of drastic change because of the emergence of devotional poets like Kabīr, Tulsīdās, and Guru Nānak. This period was characterised by a varied and wide spectrum of thought and expression; as a consequence, medieval Indian literary works differed significantly from classical traditions. In the 19th century, Indian writers took a new interest in social questions and psychological descriptions. In the 20th century, Indian literature was influenced by the works of the Bengali poet, author and philosopher Rabindranath Tagore, who was a recipient of the Nobel Prize in Literature.\\n\\nPerforming arts and media\\nIndian music ranges over various traditions and regional styles. Classical music encompasses two genres and their various folk offshoots: the northern Hindustani and the southern Carnatic schools. Regionalised popular forms include filmi and folk music; the syncretic tradition of the bauls is a well-known form of the latter. Indian dance also features diverse folk and classical forms. Among the better-known folk dances are: bhangra of Punjab, bihu of Assam, Jhumair and chhau of Jharkhand, Odisha and West Bengal, garba and dandiya of Gujarat, ghoomar of Rajasthan, and lavani of Maharashtra. Eight dance forms, many with narrative forms and mythological elements, have been accorded classical dance status by India\\'s National Academy of Music, Dance, and Drama. These are: bharatanatyam of the state of Tamil Nadu, kathak of Uttar Pradesh, kathakali and mohiniyattam of Kerala, kuchipudi of Andhra Pradesh, manipuri of Manipur, odissi of Odisha, and the sattriya of Assam.\\nTheatre in India melds music, dance, and improvised or written dialogue. Often based on Hindu mythology, but also borrowing from medieval romances or social and political events, Indian theatre includes: the bhavai of Gujarat, the jatra of West Bengal, the nautanki and ramlila of North India, tamasha of Maharashtra, burrakatha of Andhra Pradesh and Telangana, terukkuttu of Tamil Nadu, and the yakshagana of Karnataka. India has a theatre training institute the National School of Drama (NSD) that is situated at New Delhi. It is an autonomous organisation under the Ministry of culture, Government of India.\\nThe Indian film industry produces the world\\'s most-watched cinema. Established regional cinematic traditions exist in the Assamese, Bengali, Bhojpuri, Hindi, Kannada, Malayalam, Punjabi, Gujarati, Marathi, Odia, Tamil, and Telugu languages. The Hindi language film industry (Bollywood) is the largest sector representing 43% of box office revenue, followed by the South Indian Telugu and Tamil film industries which represent 36% combined.\\nTelevision broadcasting began in India in 1959 as a state-run medium of communication and expanded slowly for more than two decades. The state monopoly on television broadcast ended in the 1990s. Since then, satellite channels have increasingly shaped the popular culture of Indian society. Today, television is the most penetrative media in India; industry estimates indicate that as of 2012 there are over 554 million TV consumers, 462 million with satellite or cable connections compared to other forms of mass media such as the press (350 million), radio (156 million) or internet (37 million).\\n\\nSociety\\nTraditional Indian society is sometimes defined by social hierarchy. The Indian caste system embodies much of the social stratification and many of the social restrictions found on the Indian subcontinent. Social classes are defined by thousands of endogamous hereditary groups, often termed as jātis, or \"castes\". India abolished untouchability in 1950 with the adoption of the constitution and has since enacted other anti-discriminatory laws and social welfare initiatives.\\nFamily values are important in the Indian tradition, and multi-generational patrilineal joint families have been the norm in India, though nuclear families are becoming common in urban areas. An overwhelming majority of Indians, with their consent, have their marriages arranged by their parents or other family elders. Marriage is thought to be for life, and the divorce rate is extremely low, with less than one in a thousand marriages ending in divorce. Child marriages are common, especially in rural areas; many women wed before reaching 18, which is their legal marriageable age. Female infanticide in India, and lately female foeticide, have created skewed gender ratios; the number of missing women in the country quadrupled from 15 million to 63 million in the 50-year period ending in 2014, faster than the population growth during the same period, and constituting 20 percent of India\\'s female electorate. According to an Indian government study, an additional 21 million girls are unwanted and do not receive adequate care. Despite a government ban on sex-selective foeticide, the practice remains commonplace in India, the result of a preference for boys in a patriarchal society. The payment of dowry, although illegal, remains widespread across class lines. Deaths resulting from dowry, mostly from bride burning, are on the rise, despite stringent anti-dowry laws.\\nMany Indian festivals are religious in origin. The best known include Diwali, Ganesh Chaturthi, Thai Pongal, Holi, Durga Puja, Eid ul-Fitr, Bakr-Id, Christmas, and Vaisakhi.\\n\\nEducation\\nIn the 2011 census, about 73% of the population was literate, with 81% for men and 65% for women. This compares to 1981 when the respective rates were 41%, 53% and 29%. In 1951 the rates were 18%, 27% and 9%. In 1921 the rates 7%, 12% and 2%. In 1891 they were 5%, 9% and 1%, According to Latika Chaudhary, in 1911 there were under three primary schools for every ten villages. Statistically, more caste and religious diversity reduced private spending. Primary schools taught literacy, so local diversity limited its growth.\\nThe education system of India is the world\\'s second-largest. India has over 900 universities, 40,000 colleges and 1.5 million schools. In India\\'s higher education system, a significant number of seats are reserved under affirmative action policies for the historically disadvantaged. In recent decades India\\'s improved education system is often cited as one of the main contributors to its economic development.\\n\\nClothing\\nFrom ancient times until the advent of the modern, the most widely worn traditional dress in India was draped. For women it took the form of a sari, a single piece of cloth many yards long. The sari was traditionally wrapped around the lower body and the shoulder. In its modern form, it is combined with an underskirt, or Indian petticoat, and tucked in the waist band for more secure fastening. It is also commonly worn with an Indian blouse, or choli, which serves as the primary upper-body garment, the sari\\'s end—passing over the shoulder—serving to cover the midriff and obscure the upper body\\'s contours. For men, a similar but shorter length of cloth, the dhoti, has served as a lower-body garment.\\n\\nThe use of stitched clothes became widespread after Muslim rule was established at first by the Delhi sultanate (c.\\u20091300 CE) and then continued by the Mughal Empire (c.\\u20091525 CE). Among the garments introduced during this time and still commonly worn are: the shalwars and pyjamas, both styles of trousers, and the tunics kurta and kameez. In southern India, the traditional draped garments were to see much longer continuous use.\\nShalwars are atypically wide at the waist but narrow to a cuffed bottom. They are held up by a drawstring, which causes them to become pleated around the waist. The pants can be wide and baggy, or they can be cut quite narrow, on the bias, in which case they are called churidars. When they are ordinarily wide at the waist and their bottoms are hemmed but not cuffed, they are called pyjamas. The kameez is a long shirt or tunic, its side seams left open below the waist-line. The kurta is traditionally collarless and made of cotton or silk; it is worn plain or with embroidered decoration, such as chikan; and typically falls to either just above or just below the wearer\\'s knees.\\nIn the last 50 years, fashions have changed a great deal in India. Increasingly, in urban northern India, the sari is no longer the apparel of everyday wear, though they remain popular on formal occasions. The traditional shalwar kameez is rarely worn by younger urban women, who favour churidars or jeans. In white-collar office settings, ubiquitous air conditioning allows men to wear sports jackets year-round. For weddings and formal occasions, men in the middle- and upper classes often wear bandgala, or short Nehru jackets, with pants, with the groom and his groomsmen sporting sherwanis and churidars. The dhoti, once the universal garment of Hindu males, the wearing of which in the homespun and handwoven khadi allowed Gandhi to bring Indian nationalism to the millions,\\nis seldom seen in the cities.\\n\\nCuisine\\nThe foundation of a typical Indian meal is a cereal cooked in a plain fashion and complemented with flavourful savoury dishes. The cooked cereal could be steamed rice; chapati, a thin unleavened bread made from wheat flour, or occasionally cornmeal, and griddle-cooked dry; the idli, a steamed breakfast cake, or dosa, a griddled pancake, both leavened and made from a batter of rice- and gram meal. The savoury dishes might include lentils, pulses and vegetables commonly spiced with ginger and garlic, but also with a combination of spices that may include coriander, cumin, turmeric, cinnamon, cardamon and others as informed by culinary conventions. They might also include poultry, fish, or meat dishes. In some instances, the ingredients might be mixed during the process of cooking.\\nA platter, or thali, used for eating usually has a central place reserved for the cooked cereal, and peripheral ones for the flavourful accompaniments, which are often served in small bowls. The cereal and its accompaniments are eaten simultaneously rather than a piecemeal manner. This is accomplished by mixing—for example of rice and lentils—or folding, wrapping, scooping or dipping—such as chapati and cooked vegetables or lentils.\\n\\nIndia has distinctive vegetarian cuisines, each a feature of the geographical and cultural histories of its adherents. The appearance of ahimsa, or the avoidance of violence toward all forms of life in many religious orders early in Indian history, especially Upanishadic Hinduism, Buddhism and Jainism, is thought to have contributed to the predominance of vegetarianism among a large segment of India\\'s Hindu population, especially in southern India, Gujarat, the Hindi-speaking belt of north-central India, as well as among Jains. Although meat is eaten widely in India,  the proportional consumption of meat in the overall diet is low. Unlike China, which has increased its per capita meat consumption substantially in its years of increased economic growth, in India the strong dietary traditions have contributed to dairy, rather than meat, becoming the preferred form of animal protein consumption.\\nThe most significant import of cooking techniques into India during the last millennium occurred during the Mughal Empire. Dishes such as the pilaf, developed in the Abbasid caliphate, and cooking techniques such as the marinating of meat in yogurt, spread into northern India from regions to its northwest. To the simple yogurt marinade of Persia, onions, garlic, almonds, and spices began to be added in India. Rice was partially cooked and layered alternately with the sauteed meat, the pot sealed tightly, and slow cooked according to another Persian cooking technique, to produce what has today become the Indian biryani, a feature of festive dining in many parts of India. In the food served in Indian restaurants worldwide the diversity of Indian food has been partially concealed by the dominance of Punjabi cuisine. The popularity of tandoori chicken—cooked in the tandoor oven, which had traditionally been used for baking bread in the rural Punjab and the Delhi region, especially among Muslims, but which is originally from Central Asia—dates to the 1950s, and was caused in large part by an entrepreneurial response among people from the Punjab who had been displaced by the 1947 partition of India.\\n\\nSports and recreation\\nSeveral traditional indigenous sports such as kabaddi, kho kho, pehlwani and gilli-danda, and also martial arts such as Kalarippayattu and marma adi, remain popular. Chess is commonly held to have originated in India as chaturaṅga; in recent years, there has been a rise in the number of Indian grandmasters. Viswanathan Anand became the Chess World Champion in 2007 and held the status until 2013. He also won the Chess World Cup in 2000 and 2002. In 2023, R Praggnanandhaa finished as runners up in the tournament.  Parcheesi is derived from Pachisi, another traditional Indian pastime, which in early modern times was played on a giant marble court by Mughal emperor Akbar the Great.\\nCricket is the most popular sport in India. The major domestic league is the Indian Premier League. Professional leagues in other sports include the Indian Super League (football) and the Pro Kabaddi league.\\n\\nIndia has won two Cricket World Cups, the 1983 edition and the 2011 edition, as well as becoming the inaugural T20 World Cup Champions in 2007. India has also won the Champions Trophy twice, in 2002 and 2013. The only edition of the World Championship of Cricket was won by India in 1985. \\nIndia also has eight field hockey gold medals in the summer olympics.\\nThe improved results garnered by the Indian Davis Cup team and other tennis players in the early 2010s have made tennis increasingly popular in the country. India has a comparatively strong presence in shooting sports, and has won several medals at the Olympics, the World Shooting Championships, and the Commonwealth Games. Other sports in which Indians have succeeded internationally include badminton (Saina Nehwal and P. V. Sindhu are two of the top-ranked female badminton players in the world), boxing, and wrestling. Football is popular in West Bengal, Goa, Tamil Nadu, Kerala, and the north-eastern states.India has traditionally been the dominant country at the South Asian Games. An example of this dominance is the basketball competition where the Indian team won four out of five tournaments to date.\\nIndia has hosted or co-hosted several international sporting events: the 1951 and 1982 Asian Games; the 1987, 1996, 2011 and 2023 ICC Men\\'s Cricket World Cup tournaments (and is also scheduled to host it in 2031); the 1978, 1997 and 2013 ICC Women\\'s Cricket World Cup tournaments (and is also scheduled to host it in 2025); the 1987, 1985 and 2016 South Asian Games; the 1990-91 Men\\'s Asia Cup; the 2002 Chess World Cup; the 2003 Afro-Asian Games; the 2006 ICC Cricket Champion\\'s Trophy (and is also scheduled to host it in 2029); the 2006 Women\\'s Asia Cup; the 2009 World Badminton Championships; the 2010 Hockey World Cup; the 2010 Commonwealth Games; the 2016 ICC Men\\'s Cricket T20 World Cup (and is also scheduled to host it in 2026); the 2016 ICC Women\\'s Cricket T20 World Cup and the 2017 FIFA U-17 World Cup. Major international sporting events held annually in India include the Maharashtra Open, the Mumbai Marathon, the Delhi Half Marathon, and the Indian Masters. The first Formula 1 Indian Grand Prix featured in late 2011 but has been discontinued from the F1 season calendar since 2014.\\n\\nSee also\\nAdministrative divisions of India\\nOutline of India\\n\\nNotes\\nReferences\\nBibliography\\nOverview\\n\\nEtymology\\n\\nHistory\\n\\nGeography\\n\\nBiodiversity\\n\\nPolitics\\n\\nForeign relations and military\\n\\nEconomy\\n\\nDemographics\\n\\nArt\\n\\nCulture\\n\\nExternal links\\n\\nGovernment\\n\\nOfficial website of the Government of India\\nGovernment of India Web Directory\\nGeneral information\\n\\nIndia. The World Factbook. Central Intelligence Agency.\\nIndia at Curlie\\nIndia web resources provided by GovPubs at the University of Colorado Boulder Libraries\\nIndia from BBC News\\n Wikimedia Atlas of India\\n Geographic data related to India at OpenStreetMap\\nKey Development Forecasts for India from International Futures'"
            ],
            "application/vnd.google.colaboratory.intrinsic+json": {
              "type": "string"
            }
          },
          "metadata": {},
          "execution_count": 26
        }
      ]
    },
    {
      "cell_type": "code",
      "source": [
        "user_request = '''\n",
        "Current president of India?\n",
        "'''"
      ],
      "metadata": {
        "id": "fILTrbfpjB4o"
      },
      "execution_count": null,
      "outputs": []
    },
    {
      "cell_type": "code",
      "source": [
        "def get_wiki_query(user_request):\n",
        "\n",
        "  MODEL = 'gpt-3.5-turbo-16k'# Define GPT model\n",
        "\n",
        "# Default System Message\n",
        "  SYSTEM_MESSAGE = '''\n",
        "  The user will ask you a question. Your task is to extract a general topic name about which the user wants to know.\n",
        "  You have to give output of just the main topic of the questions.\n",
        "  For example, if the user asks for \"height of Narendra Modi\", you have to give the answer as 'Narendra Modi'.\n",
        "  If the user asks for \"When was Eiffel tower built?\", you have to give output as 'Eiffel Tower'.\n",
        "  Similarly, whatever the user asks, you have to extract the main point of the question as a context and give out that as answer, do not add the other atributes about the topic asked in the question.\n",
        "  If this doesn't work, extract the closest matching search query that will be able to give the required information from wikipedia. for example, if the user asks \"Where is the next FIFA world cup\", give the output as 'FIFA World Cup'.\n",
        "  '''\n",
        "\n",
        "  try:\n",
        "\n",
        "    messages = [\n",
        "        {'role': 'system', 'content': SYSTEM_MESSAGE},\n",
        "        {'role': 'user', 'content': user_request}\n",
        "    ] # Define the list of messages\n",
        "\n",
        "    response = openai.chat.completions.create(\n",
        "        model = MODEL,\n",
        "        messages = messages\n",
        "    )# Get the ChatCompletion Response from the GPT-3.5 model\n",
        "\n",
        "    response_content = response.choices[0].message.content # Parse the response_content from the message\n",
        "\n",
        "    return response_content\n",
        "\n",
        "  # Raise exception error\n",
        "  except Exception as e:\n",
        "    print(f\"An error occurred: {e}\")\n",
        "    return None"
      ],
      "metadata": {
        "id": "dI6kaxdakLDa"
      },
      "execution_count": null,
      "outputs": []
    },
    {
      "cell_type": "code",
      "source": [
        "query = get_wiki_query(user_request)"
      ],
      "metadata": {
        "id": "GATrk3JSkvEL"
      },
      "execution_count": null,
      "outputs": []
    },
    {
      "cell_type": "code",
      "source": [
        "query"
      ],
      "metadata": {
        "colab": {
          "base_uri": "https://localhost:8080/",
          "height": 35
        },
        "id": "r-cs0M2fk3Uv",
        "outputId": "9a9bf328-5569-4bd2-fe51-a909127451e5"
      },
      "execution_count": null,
      "outputs": [
        {
          "output_type": "execute_result",
          "data": {
            "text/plain": [
              "'India'"
            ],
            "application/vnd.google.colaboratory.intrinsic+json": {
              "type": "string"
            }
          },
          "metadata": {},
          "execution_count": 30
        }
      ]
    },
    {
      "cell_type": "code",
      "source": [
        "context = wiki_search(query)"
      ],
      "metadata": {
        "id": "IQZUr19ek4Pb"
      },
      "execution_count": null,
      "outputs": []
    },
    {
      "cell_type": "code",
      "source": [
        "context"
      ],
      "metadata": {
        "colab": {
          "base_uri": "https://localhost:8080/",
          "height": 174
        },
        "id": "_07tIiTQlCR8",
        "outputId": "c83756d6-58da-4f22-f4fd-0d33fa49b291"
      },
      "execution_count": null,
      "outputs": [
        {
          "output_type": "execute_result",
          "data": {
            "text/plain": [
              "'India, officially the Republic of India (ISO: Bhārat Gaṇarājya), is a country in South Asia.  It is the seventh-largest country by area; the most populous country as of June 2023; and from the time of its independence in 1947, the world\\'s most populous democracy. It is physiographically bounded by the Indian Ocean on the south, the Arabian Sea on the southwest, the Bay of Bengal on the southeast, and High-mountain Asia on the northeast. It shares land borders with Pakistan to the northwest; China, Nepal, and Bhutan to the north; and Bangladesh and Myanmar to the east. In the Indian Ocean, India is in the vicinity of Sri Lanka and the Maldives; its Andaman and Nicobar Islands share a maritime border with Thailand, Myanmar, and Indonesia.\\nModern humans arrived on the Indian subcontinent from Africa no later than 55,000 years ago.\\nTheir long occupation, initially in varying forms of isolation as hunter-gatherers, has made the region highly diverse, second only to Africa in human genetic diversity. Settled life emerged on the subcontinent in the western margins of the Indus river basin 9,000 years ago, evolving gradually into the Indus Valley Civilisation of the third millennium BCE.\\nBy 1200 BCE, an archaic form of Sanskrit, an Indo-European language, had diffused into India from the northwest. Its evidence today is found in the hymns of the Rigveda. Preserved by an oral tradition that was resolutely vigilant, the Rigveda records the dawning of Hinduism in India. The Dravidian languages of India were supplanted in the northern and western regions.\\nBy 400 BCE, stratification and exclusion by caste had emerged within Hinduism,\\nand Buddhism and Jainism had arisen, proclaiming social orders unlinked to heredity.\\nEarly political consolidations gave rise to the loose-knit Maurya and Gupta Empires based in the Ganges Basin.\\nTheir collective era was suffused with wide-ranging creativity, but also marked by the declining status of women, and the incorporation of untouchability into an organised system of belief. In South India, the Middle kingdoms exported Dravidian-languages scripts and religious cultures to the kingdoms of Southeast Asia.\\nIn the early medieval era, Christianity, Islam, Judaism, and Zoroastrianism became established on India\\'s southern and western coasts.\\nMuslim armies from Central Asia intermittently overran India\\'s northern plains,\\neventually founding the Delhi Sultanate, and drawing northern India into the cosmopolitan networks of medieval Islam.\\nIn the 15th century, the Vijayanagara Empire created a long-lasting composite Hindu culture in south India.\\nIn the Punjab, Sikhism emerged, rejecting institutionalised religion.\\nThe Mughal Empire, in 1526, ushered in two centuries of relative peace,\\nleaving a legacy of luminous architecture.\\nGradually expanding rule of the British East India Company followed, turning India into a colonial economy, but also consolidating its sovereignty. British Crown rule began in 1858. The rights promised to Indians were granted slowly, but technological changes were introduced, and modern ideas of education and the public life took root. A pioneering and influential nationalist movement emerged, which was noted for nonviolent resistance and became the major factor in ending British rule. In 1947 the British Indian Empire was partitioned into two independent dominions, a Hindu-majority Dominion of India and a Muslim-majority Dominion of Pakistan, amid large-scale loss of life and an unprecedented migration.\\nIndia has been a federal republic since 1950, governed through a democratic parliamentary system. It is a pluralistic, multilingual and multi-ethnic society. India\\'s population grew from 361 million in 1951 to almost 1.4 billion in 2022.\\nDuring the same time, its nominal per capita income increased from US$64 annually to US$2,601, and its literacy rate from 16.6% to 74%. From being a comparatively destitute country in 1951, India has become a fast-growing major economy and a hub for information technology services, with an expanding middle class. India has a space programme with several planned or completed extraterrestrial missions. Indian movies, music, and spiritual teachings play an increasing role in global culture. India has substantially reduced its rate of poverty, though at the cost of increasing economic inequality. India is a nuclear-weapon state, which ranks high in military expenditure. It has disputes over Kashmir with its neighbours, Pakistan and China, unresolved since the mid-20th century. Among the socio-economic challenges India faces are gender inequality, child malnutrition, and rising levels of air pollution. India\\'s land is megadiverse, with four biodiversity hotspots. Its forest cover comprises 21.7% of its area. India\\'s wildlife, which has traditionally been viewed with tolerance in India\\'s culture, is supported among these forests, and elsewhere, in protected habitats.\\n\\nEtymology\\nAccording to the Oxford English Dictionary (third edition 2009), the name \"India\" is derived from the Classical Latin India, a reference to South Asia and an uncertain region to its east. In turn the name \"India\" derived successively from Hellenistic Greek India ( Ἰνδία), ancient Greek Indos ( Ἰνδός), Old Persian Hindush (an eastern province of the Achaemenid Empire), and ultimately its cognate, the Sanskrit Sindhu, or \"river\", specifically the Indus River and, by implication, its well-settled southern basin. The ancient Greeks referred to the Indians as Indoi (Ἰνδοί), which translates as \"The people of the Indus\".\\nThe term Bharat (Bhārat; pronounced [ˈbʱaːɾət] ), mentioned in both Indian epic poetry and the Constitution of India, is used in its variations by many Indian languages. A modern rendering of the historical name Bharatavarsha, which applied originally to North India, Bharat gained increased currency from the mid-19th century as a native name for India.\\nHindustan ([ɦɪndʊˈstaːn] ) is a Middle Persian name for India that became popular by the 13th century, and was used widely since the era of the Mughal Empire. The meaning of Hindustan has varied, referring to a region encompassing present-day northern India and Pakistan or to India in its near entirety.\\n\\nHistory\\nAncient India\\nBy 55,000 years ago, the first modern humans, or Homo sapiens, had arrived on the Indian subcontinent from Africa, where they had earlier evolved. The earliest known modern human remains in South Asia date to about 30,000 years ago. After 6500 BCE, evidence for domestication of food crops and animals, construction of permanent structures, and storage of agricultural surplus appeared in Mehrgarh and other sites in Balochistan, Pakistan. These gradually developed into the Indus Valley Civilisation, the first urban culture in South Asia, which flourished during 2500–1900 BCE in Pakistan and western India. Centred around cities such as Mohenjo-daro, Harappa, Dholavira, and Kalibangan, and relying on varied forms of subsistence, the civilisation engaged robustly in crafts production and wide-ranging trade.\\nDuring the period 2000–500 BCE, many regions of the subcontinent transitioned from the Chalcolithic cultures to the Iron Age ones. The Vedas, the oldest scriptures associated with Hinduism, were composed during this period, and historians have analysed these to posit a Vedic culture in the Punjab region and the upper Gangetic Plain. Most historians also consider this period to have encompassed several waves of Indo-Aryan migration into the subcontinent from the north-west. The caste system, which created a hierarchy of priests, warriors, and free peasants, but which excluded indigenous peoples by labelling their occupations impure, arose during this period. On the Deccan Plateau, archaeological evidence from this period suggests the existence of a chiefdom stage of political organisation. In South India, a progression to sedentary life is indicated by the large number of megalithic monuments dating from this period, as well as by nearby traces of agriculture, irrigation tanks, and craft traditions.\\n\\nIn the late Vedic period, around the 6th century BCE, the small states and chiefdoms of the Ganges Plain and the north-western regions had consolidated into 16 major oligarchies and monarchies that were known as the mahajanapadas. The emerging urbanisation gave rise to non-Vedic religious movements, two of which became independent religions. Jainism came into prominence during the life of its exemplar, Mahavira. Buddhism, based on the teachings of Gautama Buddha, attracted followers from all social classes excepting the middle class; chronicling the life of the Buddha was central to the beginnings of recorded history in India. In an age of increasing urban wealth, both religions held up renunciation as an ideal, and both established long-lasting monastic traditions. Politically, by the 3rd century BCE, the kingdom of Magadha had annexed or reduced other states to emerge as the Mauryan Empire. The empire was once thought to have controlled most of the subcontinent except the far south, but its core regions are now thought to have been separated by large autonomous areas. The Mauryan kings are known as much for their empire-building and determined management of public life as for Ashoka\\'s renunciation of militarism and far-flung advocacy of the Buddhist dhamma.\\nThe Sangam literature of the Tamil language reveals that, between 200 BCE and 200 CE, the southern peninsula was ruled by the Cheras, the Cholas, and the Pandyas, dynasties that traded extensively with the Roman Empire and with West and Southeast Asia. In North India, Hinduism asserted patriarchal control within the family, leading to increased subordination of women. By the 4th and 5th centuries, the Gupta Empire had created a complex system of administration and taxation in the greater Ganges Plain; this system became a model for later Indian kingdoms. Under the Guptas, a renewed Hinduism based on devotion, rather than the management of ritual, began to assert itself. This renewal was reflected in a flowering of sculpture and architecture, which found patrons among an urban elite. Classical Sanskrit literature flowered as well, and Indian science, astronomy, medicine, and mathematics made significant advances.\\n\\nMedieval India\\nThe Indian early medieval age, from 600 to 1200 CE, is defined by regional kingdoms and cultural diversity. When Harsha of Kannauj, who ruled much of the Indo-Gangetic Plain from 606 to 647 CE, attempted to expand southwards, he was defeated by the Chalukya ruler of the Deccan. When his successor attempted to expand eastwards, he was defeated by the Pala king of Bengal. When the Chalukyas attempted to expand southwards, they were defeated by the Pallavas from farther south, who in turn were opposed by the Pandyas and the Cholas from still farther south. No ruler of this period was able to create an empire and consistently control lands much beyond their core region. During this time, pastoral peoples, whose land had been cleared to make way for the growing agricultural economy, were accommodated within caste society, as were new non-traditional ruling classes. The caste system consequently began to show regional differences.\\nIn the 6th and 7th centuries, the first devotional hymns were created in the Tamil language. They were imitated all over India and led to both the resurgence of Hinduism and the development of all modern languages of the subcontinent. Indian royalty, big and small, and the temples they patronised drew citizens in great numbers to the capital cities, which became economic hubs as well. Temple towns of various sizes began to appear everywhere as India underwent another urbanisation. By the 8th and 9th centuries, the effects were felt in Southeast Asia, as South Indian culture and political systems were exported to lands that became part of modern-day Myanmar, Thailand, Laos, Brunei, Cambodia, Vietnam, Philippines, Malaysia, and Indonesia. Indian merchants, scholars, and sometimes armies were involved in this transmission; Southeast Asians took the initiative as well, with many sojourning in Indian seminaries and translating Buddhist and Hindu texts into their languages.\\nAfter the 10th century, Muslim Central Asian nomadic clans, using swift-horse cavalry and raising vast armies united by ethnicity and religion, repeatedly overran South Asia\\'s north-western plains, leading eventually to the establishment of the Islamic Delhi Sultanate in 1206. The sultanate was to control much of North India and to make many forays into South India. Although at first disruptive for the Indian elites, the sultanate largely left its vast non-Muslim subject population to its own laws and customs. By repeatedly repulsing Mongol raiders in the 13th century, the sultanate saved India from the devastation visited on West and Central Asia, setting the scene for centuries of migration of fleeing soldiers, learned men, mystics, traders, artists, and artisans from that region into the subcontinent, thereby creating a syncretic Indo-Islamic culture in the north. The sultanate\\'s raiding and weakening of the regional kingdoms of South India paved the way for the indigenous Vijayanagara Empire. Embracing a strong Shaivite tradition and building upon the military technology of the sultanate, the empire came to control much of peninsular India, and was to influence South Indian society for long afterwards.\\n\\nEarly modern India\\nIn the early 16th century, northern India, then under mainly Muslim rulers, fell again to the superior mobility and firepower of a new generation of Central Asian warriors. The resulting Mughal Empire did not stamp out the local societies it came to rule. Instead, it balanced and pacified them through new administrative practices and diverse and inclusive ruling elites, leading to more systematic, centralised, and uniform rule. Eschewing tribal bonds and Islamic identity, especially under Akbar, the Mughals united their far-flung realms through loyalty, expressed through a Persianised culture, to an emperor who had near-divine status. The Mughal state\\'s economic policies, deriving most revenues from agriculture and mandating that taxes be paid in the well-regulated silver currency, caused peasants and artisans to enter larger markets. The relative peace maintained by the empire during much of the 17th century was a factor in India\\'s economic expansion, resulting in greater patronage of painting, literary forms, textiles, and architecture. Newly coherent social groups in northern and western India, such as the Marathas, the Rajputs, and the Sikhs, gained military and governing ambitions during Mughal rule, which, through collaboration or adversity, gave them both recognition and military experience. Expanding commerce during Mughal rule gave rise to new Indian commercial and political elites along the coasts of southern and eastern India. As the empire disintegrated, many among these elites were able to seek and control their own affairs.\\n\\nBy the early 18th century, with the lines between commercial and political dominance being increasingly blurred, a number of European trading companies, including the English East India Company, had established coastal outposts. The East India Company\\'s control of the seas, greater resources, and more advanced military training and technology led it to increasingly assert its military strength and caused it to become attractive to a portion of the Indian elite; these factors were crucial in allowing the company to gain control over the Bengal region by 1765 and sideline the other European companies. Its further access to the riches of Bengal and the subsequent increased strength and size of its army enabled it to annex or subdue most of India by the 1820s. India was then no longer exporting manufactured goods as it long had, but was instead supplying the British Empire with raw materials. Many historians consider this to be the onset of India\\'s colonial period. By this time, with its economic power severely curtailed by the British parliament and having effectively been made an arm of British administration, the East India Company began more consciously to enter non-economic arenas, including education, social reform, and culture.\\n\\nModern India\\nHistorians consider India\\'s modern age to have begun sometime between 1848 and 1885. The appointment in 1848 of Lord Dalhousie as Governor General of the East India Company set the stage for changes essential to a modern state. These included the consolidation and demarcation of sovereignty, the surveillance of the population, and the education of citizens. Technological changes—among them, railways, canals, and the telegraph—were introduced not long after their introduction in Europe. However, disaffection with the company also grew during this time and set off the Indian Rebellion of 1857. Fed by diverse resentments and perceptions, including invasive British-style social reforms, harsh land taxes, and summary treatment of some rich landowners and princes, the rebellion rocked many regions of northern and central India and shook the foundations of Company rule. Although the rebellion was suppressed by 1858, it led to the dissolution of the East India Company and the direct administration of India by the British government. Proclaiming a unitary state and a gradual but limited British-style parliamentary system, the new rulers also protected princes and landed gentry as a feudal safeguard against future unrest. In the decades following, public life gradually emerged all over India, leading eventually to the founding of the Indian National Congress in 1885.\\nThe rush of technology and the commercialisation of agriculture in the second half of the 19th century was marked by economic setbacks, and many small farmers became dependent on the whims of far-away markets. There was an increase in the number of large-scale famines, and, despite the risks of infrastructure development borne by Indian taxpayers, little industrial employment was generated for Indians. There were also salutary effects: commercial cropping, especially in the newly canalled Punjab, led to increased food production for internal consumption. The railway network provided critical famine relief, notably reduced the cost of moving goods, and helped nascent Indian-owned industry.\\n\\nAfter World War I, in which approximately one million Indians served, a new period began. It was marked by British reforms but also repressive legislation, by more strident Indian calls for self-rule, and by the beginnings of a nonviolent movement of non-co-operation, of which Mahatma Gandhi would become the leader and enduring symbol. During the 1930s, slow legislative reform was enacted by the British; the Indian National Congress won victories in the resulting elections. The next decade was beset with crises: Indian participation in World War II, the Congress\\'s final push for non-co-operation, and an upsurge of Muslim nationalism. All were capped by the advent of independence in 1947, but tempered by the partition of India into two states: India and Pakistan.\\nVital to India\\'s self-image as an independent nation was its constitution, completed in 1950, which put in place a secular and democratic republic. Per the London Declaration, India retained its membership of the Commonwealth, becoming the first republic within it. Economic liberalisation, which began in the 1980s and the collaboration with Soviet Union for technical know-how, has created a large urban middle class, transformed India into one of the world\\'s fastest-growing economies, and increased its geopolitical clout. Yet, India is also shaped by seemingly unyielding poverty, both rural and urban; by religious and caste-related violence; by Maoist-inspired Naxalite insurgencies; and by separatism in Jammu and Kashmir and in Northeast India. It has unresolved territorial disputes with China and with Pakistan. India\\'s sustained democratic freedoms are unique among the world\\'s newer nations; however, in spite of its recent economic successes, freedom from want for its disadvantaged population remains a goal yet to be achieved.\\n\\nGeography\\nIndia accounts for the bulk of the Indian subcontinent, lying atop the Indian tectonic plate, a part of the Indo-Australian Plate. India\\'s defining geological processes began 75 million years ago when the Indian Plate, then part of the southern supercontinent Gondwana, began a north-eastward drift caused by seafloor spreading to its south-west, and later, south and south-east. Simultaneously, the vast Tethyan oceanic crust, to its northeast, began to subduct under the Eurasian Plate. These dual processes, driven by convection in the Earth\\'s mantle, both created the Indian Ocean and caused the Indian continental crust eventually to under-thrust Eurasia and to uplift the Himalayas. Immediately south of the emerging Himalayas, plate movement created a vast crescent-shaped trough that rapidly filled with river-borne sediment and now constitutes the Indo-Gangetic Plain. The original Indian plate makes its first appearance above the sediment in the ancient Aravalli range, which extends from the Delhi Ridge in a southwesterly direction. To the west lies the Thar Desert, the eastern spread of which is checked by the Aravallis.\\n\\nThe remaining Indian Plate survives as peninsular India, the oldest and geologically most stable part of India. It extends as far north as the Satpura and Vindhya ranges in central India. These parallel chains run from the Arabian Sea coast in Gujarat in the west to the coal-rich Chota Nagpur Plateau in Jharkhand in the east. To the south, the remaining peninsular landmass, the Deccan Plateau, is flanked on the west and east by coastal ranges known as the Western and Eastern Ghats; the plateau contains the country\\'s oldest rock formations, some over one billion years old. Constituted in such fashion, India lies to the north of the equator between 6° 44′ and 35° 30′ north latitude and 68° 7′ and 97° 25′ east longitude.\\nIndia\\'s coastline measures 7,517 kilometres (4,700 mi) in length; of this distance, 5,423 kilometres (3,400 mi) belong to peninsular India and 2,094 kilometres (1,300 mi) to the Andaman, Nicobar, and Lakshadweep island chains. According to the Indian naval hydrographic charts, the mainland coastline consists of the following: 43% sandy beaches; 11% rocky shores, including cliffs; and 46% mudflats or marshy shores.\\nMajor Himalayan-origin rivers that substantially flow through India include the Ganges and the Brahmaputra, both of which drain into the Bay of Bengal. Important tributaries of the Ganges include the Yamuna and the Kosi; the latter\\'s extremely low gradient, caused by long-term silt deposition, leads to severe floods and course changes. Major peninsular rivers, whose steeper gradients prevent their waters from flooding, include the Godavari, the Mahanadi, the Kaveri, and the Krishna, which also drain into the Bay of Bengal; and the Narmada and the Tapti, which drain into the Arabian Sea. Coastal features include the marshy Rann of Kutch of western India and the alluvial Sundarbans delta of eastern India; the latter is shared with Bangladesh. India has two archipelagos: the Lakshadweep, coral atolls off India\\'s south-western coast; and the Andaman and Nicobar Islands, a volcanic chain in the Andaman Sea.\\nIndian climate is strongly influenced by the Himalayas and the Thar Desert, both of which drive the economically and culturally pivotal summer and winter monsoons. The Himalayas prevent cold Central Asian katabatic winds from blowing in, keeping the bulk of the Indian subcontinent warmer than most locations at similar latitudes. The Thar Desert plays a crucial role in attracting the moisture-laden south-west summer monsoon winds that, between June and October, provide the majority of India\\'s rainfall. Four major climatic groupings predominate in India: tropical wet, tropical dry, subtropical humid, and montane.\\nTemperatures in India have risen by 0.7 °C (1.3 °F) between 1901 and 2018. Climate change in India is often thought to be the cause. The retreat of Himalayan glaciers has adversely affected the flow rate of the major Himalayan rivers, including the Ganges and the Brahmaputra. According to some current projections, the number and severity of droughts in India will have markedly increased by the end of the present century. The right \"to be free from adverse impacts of climate change\" is legally recognized as a fundamental right in India.\\n\\nBiodiversity\\nIndia is a megadiverse country, a term employed for 17 countries which display high biological diversity and contain many species exclusively indigenous, or endemic, to them. India is a habitat for 8.6% of all mammal species, 13.7% of bird species, 7.9% of reptile species, 6% of amphibian species, 12.2% of fish species, and 6.0% of all flowering plant species. Fully a third of Indian plant species are endemic. India also contains four of the world\\'s 34 biodiversity hotspots, or regions that display significant habitat loss in the presence of high endemism.\\nAccording to official statistics, India\\'s forest cover is 713,789 km2 (275,595 sq mi), which is 21.71% of the country\\'s total land area. It can be subdivided further into broad categories of canopy density, or the proportion of the area of a forest covered by its tree canopy. Very dense forest, whose canopy density is greater than 70%, occupies 3.02% of India\\'s land area. It predominates in the tropical moist forest of the Andaman Islands, the Western Ghats, and Northeast India. Moderately dense forest, whose canopy density is between 40% and 70%, occupies 9.39% of India\\'s land area. It predominates in the temperate coniferous forest of the Himalayas, the moist deciduous sal forest of eastern India, and the dry deciduous teak forest of central and southern India. Open forest, whose canopy density is between 10% and 40%, occupies 9.26% of India\\'s land area. India has two natural zones of thorn forest, one in the Deccan Plateau, immediately east of the Western Ghats, and the other in the western part of the Indo-Gangetic plain, now turned into rich agricultural land by irrigation, its features no longer visible.\\nAmong the Indian subcontinent\\'s notable indigenous trees are the astringent Azadirachta indica, or neem, which is widely used in rural Indian herbal medicine, and the luxuriant Ficus religiosa, or peepul, which is displayed on the ancient seals of Mohenjo-daro, and under which the Buddha is recorded in the Pali canon to have sought enlightenment.\\nMany Indian species have descended from those of Gondwana, the southern supercontinent from which India separated more than 100 million years ago. India\\'s subsequent collision with Eurasia set off a mass exchange of species. However, volcanism and climatic changes later caused the extinction of many endemic Indian forms. Still later, mammals entered India from Asia through two zoogeographical passes flanking the Himalayas. This had the effect of lowering endemism among India\\'s mammals, which stands at 12.6%, contrasting with 45.8% among reptiles and 55.8% among amphibians. Among endemics are the vulnerable hooded leaf monkey and the threatened Beddome\\'s toad of the Western Ghats.\\nIndia contains 172 IUCN-designated threatened animal species, or 2.9% of endangered forms. These include the endangered Bengal tiger and the Ganges river dolphin. Critically endangered species include the gharial, a crocodilian; the great Indian bustard; and the Indian white-rumped vulture, which has become nearly extinct by having ingested the carrion of diclofenac-treated cattle. Before they were extensively used for agriculture and cleared for human settlement, the thorn forests of Punjab were mingled at intervals with open grasslands that were grazed by large herds of blackbuck preyed on by the Asiatic cheetah; the blackbuck, no longer extant in Punjab, is now severely endangered in India, and the cheetah is extinct. The pervasive and ecologically devastating human encroachment of recent decades has critically endangered Indian wildlife. In response, the system of national parks and protected areas, first established in 1935, was expanded substantially. In 1972, India enacted the Wildlife Protection Act and Project Tiger to safeguard crucial wilderness; the Forest Conservation Act was enacted in 1980 and amendments added in 1988. India hosts more than five hundred wildlife sanctuaries and eighteen biosphere reserves, four of which are part of the World Network of Biosphere Reserves; seventy-five wetlands are registered under the Ramsar Convention.\\n\\nPolitics and government\\nPolitics\\nA parliamentary republic with a multi-party system, India has six recognised national parties, including the Indian National Congress (INC) and the Bharatiya Janata Party (BJP), and more than 50 regional parties. The Congress is considered centre in Indian political culture, and the BJP right-wing. For most of the period between 1950—when India first became a republic—and the late 1980s, the Congress held a majority in the Parliament. Since then, however, it has increasingly shared the political stage with the BJP, as well as with powerful regional parties which have often forced the creation of multi-party coalition governments at the centre.\\nIn the Republic of India\\'s first three general elections, in 1951, 1957, and 1962, the Pandit Jawaharlal Nehru-led Congress won easy victories. On Nehru\\'s death in 1964, Lal Bahadur Shastri briefly became prime minister; he was succeeded, after his own unexpected death in 1966, by Nehru\\'s daughter Indira Gandhi, who went on to lead the Congress to election victories in 1967 and 1971. Following public discontent with the state of emergency she declared in 1975, the Congress was voted out of power in 1977; the then-new Janata Party, which had opposed the emergency, was voted in. Its government lasted just over two years. There were two prime ministers during this period; Morarji Desai and Charan Singh. Voted back into power in 1980, the Congress saw a change in leadership in 1984, when Indira Gandhi was assassinated; she was succeeded by her son Rajiv Gandhi, who won an easy victory in the general elections later that year. The Congress was voted out again in 1989 when a National Front coalition, led by the newly formed Janata Dal in alliance with the Left Front, won the elections; that government too proved relatively short-lived, lasting just under two years. There were two prime ministers during this period; V.P. Singh and Chandra Shekhar. Elections were held again in 1991; no party won an absolute majority. The Congress, as the largest single party, was able to form a minority government led by P. V. Narasimha Rao.\\n\\nA two-year period of political turmoil followed the general election of 1996. Several short-lived alliances shared power at the centre. The BJP formed a government briefly in 1996; it was followed by two comparatively long-lasting United Front coalitions, which depended on external support. There were two prime ministers during this period; H.D. Deve Gowda and I.K. Gujral. In 1998, the BJP was able to form a successful coalition, the National Democratic Alliance (NDA). Led by Atal Bihari Vajpayee, the NDA became the first non-Congress, coalition government to complete a five-year term. Again in the 2004 Indian general elections, no party won an absolute majority, but the Congress emerged as the largest single party, forming another successful coalition: the United Progressive Alliance (UPA). It had the support of left-leaning parties and MPs who opposed the BJP. The UPA returned to power in the 2009 general election with increased numbers, and it no longer required external support from India\\'s communist parties. That year, Manmohan Singh became the first prime minister since Jawaharlal Nehru in 1957 and 1962 to be re-elected to a consecutive five-year term. In the 2014 general election, the BJP became the first political party since 1984 to win a majority and govern without the support of other parties. In the 2019 general election, the BJP was victorious again. Narendra Modi, a former chief minister of Gujarat, is serving as the 14th Prime Minister of India in his third term since May 26, 2014. On 22 July 2022, Droupadi Murmu was elected India\\'s 15th president and took the oath of office on 25 July 2022.\\n\\nGovernment\\nIndia is a federation with a parliamentary system governed under the Constitution of India—the country\\'s supreme legal document. It is a constitutional republic.\\nFederalism in India defines the power distribution between the union and the states. The Constitution of India, which came into effect on 26 January 1950, originally stated India to be a \"sovereign, democratic republic;\" this characterisation was amended in 1971 to \"a sovereign, socialist, secular, democratic republic\". India\\'s form of government, traditionally described as \"quasi-federal\" with a strong centre and weak states, has grown increasingly federal since the late 1990s as a result of political, economic, and social changes.\\n\\nThe Government of India comprises three branches:\\n\\nExecutive: The President of India is the ceremonial head of state, who is elected indirectly for a five-year term by an electoral college comprising members of national and state legislatures. The Prime Minister of India is the head of government and exercises most executive power. Appointed by the president, the prime minister is by convention supported by the party or political alliance having a majority of seats in the lower house of parliament. The executive of the Indian government consists of the president, the vice-president, and the Union Council of Ministers—with the cabinet being its executive committee—headed by the prime minister. Any minister holding a portfolio must be a member of one of the houses of parliament. In the Indian parliamentary system, the executive is subordinate to the legislature; the prime minister and their council are directly responsible to the lower house of the parliament. Civil servants act as permanent executives and all decisions of the executive are implemented by them.\\nLegislature: The legislature of India is the bicameral parliament. Operating under a Westminster-style parliamentary system, it comprises an upper house called the Rajya Sabha (Council of States) and a lower house called the Lok Sabha (House of the People). The Rajya Sabha is a permanent body of 245 members who serve staggered six-year terms. Most are elected indirectly by the state and union territorial legislatures in numbers proportional to their state\\'s share of the national population. All but two of the Lok Sabha\\'s 545 members are elected directly by popular vote; they represent single-member constituencies for five-year terms. Two seats of parliament, reserved for Anglo-Indians in the article 331, have been scrapped.\\nJudiciary: India has a three-tier unitary independent judiciary comprising the supreme court, headed by the Chief Justice of India, 25 high courts, and a large number of trial courts. The supreme court has original jurisdiction over cases involving fundamental rights and over disputes between states and the centre and has appellate jurisdiction over the high courts. It has the power to both strike down union or state laws which contravene the constitution and invalidate any government action it deems unconstitutional.\\n\\nAdministrative divisions\\nIndia is a federal union comprising 28 states and 8 union territories. All states, as well as the union territories of Jammu and Kashmir, Puducherry and the National Capital Territory of Delhi, have elected legislatures and governments following the Westminster system of governance. The remaining five union territories are directly ruled by the central government through appointed administrators. In 1956, under the States Reorganisation Act, states were reorganised on a linguistic basis. There are over a quarter of a million local government bodies at city, town, block, district and village levels.\\n\\nStates\\nUnion territories\\nForeign, economic and strategic relations\\nIn the 1950s, India strongly supported decolonisation in Africa and Asia and played a leading role in the Non-Aligned Movement. After initially cordial relations with neighbouring China, India went to war with China in 1962 and was widely thought to have been humiliated. This was followed by another military conflict in 1967 in which India successfully repelled Chinese attack. India has had tense relations with neighbouring Pakistan; the two nations have gone to war four times: in 1947, 1965, 1971, and 1999. Three of these wars were fought over the disputed territory of Kashmir, while the third, the 1971 war, followed from India\\'s support for the independence of Bangladesh. In the late 1980s, the Indian military twice intervened abroad at the invitation of the host country: a peace-keeping operation in Sri Lanka between 1987 and 1990; and an armed intervention to prevent a 1988 coup d\\'état attempt in the Maldives. After the 1965 war with Pakistan, India began to pursue close military and economic ties with the Soviet Union; by the late 1960s, the Soviet Union was its largest arms supplier.\\nAside from its ongoing special relationship with Russia, India has wide-ranging defence relations with Israel and France. In recent years, it has played key roles in the South Asian Association for Regional Cooperation and the World Trade Organization. The nation has provided 100,000 military and police personnel to serve in 35 UN peacekeeping operations across four continents. It participates in the East Asia Summit, the G8+5, and other multilateral forums. India has close economic ties with countries in South America, Asia, and Africa; it pursues a \"Look East\" policy that seeks to strengthen partnerships with the ASEAN nations, Japan, and South Korea that revolve around many issues, but especially those involving economic investment and regional security.\\n\\nChina\\'s nuclear test of 1964, as well as its repeated threats to intervene in support of Pakistan in the 1965 war, convinced India to develop nuclear weapons. India conducted its first nuclear weapons test in 1974 and carried out additional underground testing in 1998. Despite criticism and military sanctions, India has signed neither the Comprehensive Nuclear-Test-Ban Treaty nor the Nuclear Non-Proliferation Treaty, considering both to be flawed and discriminatory. India maintains a \"no first use\" nuclear policy and is developing a nuclear triad capability as a part of its \"Minimum Credible Deterrence\" doctrine. It is developing a ballistic missile defence shield and, a fifth-generation fighter jet. Other indigenous military projects involve the design and implementation of Vikrant-class aircraft carriers and Arihant-class nuclear submarines.\\nSince the end of the Cold War, India has increased its economic, strategic, and military co-operation with the United States and the European Union. In 2008, a civilian nuclear agreement was signed between India and the United States. Although India possessed nuclear weapons at the time and was not a party to the Nuclear Non-Proliferation Treaty, it received waivers from the International Atomic Energy Agency and the Nuclear Suppliers Group, ending earlier restrictions on India\\'s nuclear technology and commerce. As a consequence, India became the sixth de facto nuclear weapons state. India subsequently signed co-operation agreements involving civilian nuclear energy with Russia, France, the United Kingdom, and Canada.\\n\\nThe President of India is the supreme commander of the nation\\'s armed forces; with 1.45 million active troops, they compose the world\\'s second-largest military. It comprises the Indian Army, the Indian Navy, the Indian Air Force, and the Indian Coast Guard. The official Indian defence budget for 2011 was US$36.03 billion, or 1.83% of GDP. Defence expenditure was pegged at US$70.12 billion for fiscal year 2022–23 and, increased 9.8% than previous fiscal year. India is the world\\'s second-largest arms importer; between 2016 and 2020, it accounted for 9.5% of the total global arms imports. Much of the military expenditure was focused on defence against Pakistan and countering growing Chinese influence in the Indian Ocean. In May 2017, the Indian Space Research Organisation launched the South Asia Satellite, a gift from India to its neighbouring SAARC countries. In October 2018, India signed a US$5.43 billion (over ₹400 billion) agreement with Russia to procure four S-400 Triumf surface-to-air missile defence systems, Russia\\'s most advanced long-range missile defence system.\\n\\nEconomy\\nAccording to the International Monetary Fund (IMF), the Indian economy in 2024 was nominally worth $3.94 trillion; it was the fifth-largest economy by market exchange rates and is, at around $15.0 trillion, the third-largest by purchasing power parity (PPP). With its average annual GDP growth rate of 5.8% over the past two decades, and reaching 6.1% during 2011–2012, India is one of the world\\'s fastest-growing economies. However, the country ranks 136th in the world in nominal GDP per capita and 125th in GDP per capita at PPP. Until 1991, all Indian governments followed protectionist policies that were influenced by socialist economics. Widespread state intervention and regulation largely walled the economy off from the outside world. An acute balance of payments crisis in 1991 forced the nation to liberalise its economy; since then, it has moved increasingly towards a free-market system by emphasising both foreign trade and direct investment inflows. India has been a member of World Trade Organization since 1 January 1995.\\nThe 522-million-worker Indian labour force is the world\\'s second-largest, as of 2017. The service sector makes up 55.6% of GDP, the industrial sector 26.3% and the agricultural sector 18.1%. India\\'s foreign exchange remittances of US$100 billion in 2022, highest in the world, were contributed to its economy by 32 million Indians working in foreign countries. Major agricultural products include rice, wheat, oilseed, cotton, jute, tea, sugarcane, and potatoes. Major industries include textiles, telecommunications, chemicals, pharmaceuticals, biotechnology, food processing, steel, transport equipment, cement, mining, petroleum, machinery, and software. In 2006, the share of external trade in India\\'s GDP stood at 24%, up from 6% in 1985. In 2008, India\\'s share of world trade was 1.7%; In 2021, India was the world\\'s ninth-largest importer and the sixteenth-largest exporter. Major exports include petroleum products, textile goods, jewellery, software, engineering goods, chemicals, and manufactured leather goods. Major imports include crude oil, machinery, gems, fertiliser, and chemicals. Between 2001 and 2011, the contribution of petrochemical and engineering goods to total exports grew from 14% to 42%. India was the world\\'s second-largest textile exporter after China in the 2013 calendar year.\\nAveraging an economic growth rate of 7.5% for several years prior to 2007, India has more than doubled its hourly wage rates during the first decade of the 21st century. Some 431 million Indians have left poverty since 1985; India\\'s middle classes are projected to number around 580 million by 2030. Though ranking 68th in global competitiveness, as of 2010, India ranks 17th in financial market sophistication, 24th in the banking sector, 44th in business sophistication, and 39th in innovation, ahead of several advanced economies. With seven of the world\\'s top 15 information technology outsourcing companies based in India, as of 2009, the country is viewed as the second-most favourable outsourcing destination after the United States. India is ranked 40th in the Global Innovation Index in 2023. As of 2023, India\\'s consumer market was the world\\'s fifth-largest.\\nDriven by growth, India\\'s nominal GDP per capita increased steadily from US$308 in 1991, when economic liberalisation began, to US$1,380 in 2010, to an estimated US$2,731 in 2024. It is expected to grow to US$3,264 by 2026. However, it has remained lower than those of other Asian developing countries such as Indonesia, Malaysia, Philippines, Sri Lanka, and Thailand, and is expected to remain so in the near future.\\n\\nAccording to a 2011 PricewaterhouseCoopers (PwC) report, India\\'s GDP at purchasing power parity could overtake that of the United States by 2045. During the next four decades, Indian GDP is expected to grow at an annualised average of 8%, making it potentially the world\\'s fastest-growing major economy until 2050. The report highlights key growth factors: a young and rapidly growing working-age population; growth in the manufacturing sector because of rising education and engineering skill levels; and sustained growth of the consumer market driven by a rapidly growing middle-class. The World Bank cautions that, for India to achieve its economic potential, it must continue to focus on public sector reform, transport infrastructure, agricultural and rural development, removal of labour regulations, education, energy security, and public health and nutrition.\\nAccording to the Worldwide Cost of Living Report 2017 released by the Economist Intelligence Unit (EIU) which was created by comparing more than 400 individual prices across 160 products and services, four of the cheapest cities were in India: Bangalore (3rd), Mumbai (5th), Chennai (5th) and New Delhi (8th).\\n\\nIndustries\\nIndia\\'s telecommunication industry is the second-largest in the world with over 1.2 billion subscribers. It contributes 6.5% to India\\'s GDP. After the third quarter of 2017, India surpassed the US to become the second-largest smartphone market in the world after China.\\nThe Indian automotive industry, the world\\'s second-fastest growing, increased domestic sales by 26% during 2009–2010, and exports by 36% during 2008–2009. In 2022, India became the world\\'s third-largest vehicle market after China and the United States, surpassing Japan. At the end of 2011, the Indian IT industry employed 2.8 million professionals, generated revenues close to US$100 billion equalling 7.5% of Indian GDP, and contributed 26% of India\\'s merchandise exports.\\nThe pharmaceutical industry in India emerged as a global player. As of 2021, with 3000 pharmaceutical companies and 10,500 manufacturing units India is the world\\'s third-largest pharmaceutical producer, largest producer of generic medicines and supply up to 50—60% of global vaccines demand, these all contribute up to US$24.44 billions in exports and India\\'s local pharmaceutical market is estimated up to US$42 billion. India is among the top 12 biotech destinations in the world. The Indian biotech industry grew by 15.1% in 2012–2013, increasing its revenues from ₹204.4 billion (Indian rupees) to ₹235.24 billion (US$3.94 billion at June 2013 exchange rates).\\n\\nEnergy\\nIndia\\'s capacity to generate electrical power is 300 gigawatts, of which 42 gigawatts is renewable. The country\\'s usage of coal is a major cause of greenhouse gas emissions by India but its renewable energy is competing strongly. India emits about 7% of global greenhouse gas emissions. This equates to about 2.5 tons of carbon dioxide per person per year, which is half the world average. Increasing access to electricity and clean cooking with liquefied petroleum gas have been priorities for energy in India.\\n\\nSocio-economic challenges\\nDespite economic growth during recent decades, India continues to face socio-economic challenges. In 2006, India contained the largest number of people living below the World Bank\\'s international poverty line of US$1.25 per day. The proportion decreased from 60% in 1981 to 42% in 2005. Under the World Bank\\'s later revised poverty line, it was 21% in 2011. 30.7% of India\\'s children under the age of five are underweight. According to a Food and Agriculture Organization report in 2015, 15% of the population is undernourished. The Midday Meal Scheme attempts to lower these rates.\\nA 2018 Walk Free Foundation report estimated that nearly 8 million people in India were living in different forms of modern slavery, such as bonded labour, child labour, human trafficking, and forced begging, among others. According to the 2011 census, there were 10.1 million child labourers in the country, a decline of 2.6 million from 12.6 million in 2001.\\nSince 1991, economic inequality between India\\'s states has consistently grown: the per-capita net state domestic product of the richest states in 2007 was 3.2 times that of the poorest. Corruption in India is perceived to have decreased. According to the Corruption Perceptions Index, India ranked 78th out of 180 countries in 2018 with a score of 41 out of 100, an improvement from 85th in 2014.\\nEpidemic and pandemic diseases have long been a major factor, including COVID-19 and cholera.\\n\\nDemographics, languages and religion\\nWith an estimated 1,428,627,663 residents in 2023, India is the world\\'s most populous country. 1,210,193,422 residents were reported in the 2011 provisional census report. Its population grew by 17.64% from 2001 to 2011, compared to 21.54% growth in the previous decade (1991–2001). The human sex ratio, according to the 2011 census, is 940 females per 1,000 males. The median age was 28.7 as of 2020. The first post-colonial census, conducted in 1951, counted 361 million people. Medical advances made in the last 50 years as well as increased agricultural productivity brought about by the \"Green Revolution\" have caused India\\'s population to grow rapidly.\\nThe life expectancy in India is at 70 years—71.5 years for women, 68.7 years for men. There are around 93 physicians per 100,000 people. Migration from rural to urban areas has been an important dynamic in India\\'s recent history. The number of people living in urban areas grew by 31.2% between 1991 and 2001. Yet, in 2001, over 70% still lived in rural areas. The level of urbanisation increased further from 27.81% in the 2001 Census to 31.16% in the 2011 Census. The slowing down of the overall population growth rate was due to the sharp decline in the growth rate in rural areas since 1991. According to the 2011 census, there are 53 million-plus urban agglomerations in India; among them Mumbai, Delhi, Kolkata, Chennai, Bangalore, Hyderabad and Ahmedabad, in decreasing order by population. The literacy rate in 2011 was 74.04%: 65.46% among females and 82.14% among males. The rural-urban literacy gap, which was 21.2 percentage points in 2001, dropped to 16.1 percentage points in 2011. The improvement in the rural literacy rate is twice that of urban areas. Kerala is the most literate state with 93.91% literacy; while Bihar the least with 63.82%.\\n\\nAmong speakers of the Indian languages, 74% speak Indo-Aryan languages, the easternmost branch of the Indo-European languages; 24% speak Dravidian languages, indigenous to South Asia and spoken widely before the spread of Indo-Aryan languages and 2% speak Austroasiatic languages or the Sino-Tibetan languages. India has no national language. Hindi, with the largest number of speakers, is the official language of the government. English is used extensively in business and administration and has the status of a \"subsidiary official language\"; it is important in education, especially as a medium of higher education. Each state and union territory has one or more official languages, and the constitution recognises in particular 22 \"scheduled languages\".\\nThe 2011 census reported the religion in India with the largest number of followers was Hinduism (79.80% of the population), followed by Islam (14.23%); the remaining were Christianity (2.30%), Sikhism (1.72%), Buddhism (0.70%), Jainism (0.36%) and others (0.9%). India has the third-largest Muslim population—the largest for a non-Muslim majority country.\\n\\nCulture\\nIndian cultural history spans more than 4,500 years. During the Vedic period (c.\\u20091700 BCE – c.\\u2009500 BCE), the foundations of Hindu philosophy, mythology, theology and literature were laid, and many beliefs and practices which still exist today, such as dhárma, kárma, yóga, and mokṣa, were established. India is notable for its religious diversity, with Hinduism, Buddhism, Sikhism, Islam, Christianity, and Jainism among the nation\\'s major religions. The predominant religion, Hinduism, has been shaped by various historical schools of thought, including those of the Upanishads, the Yoga Sutras, the Bhakti movement, and by Buddhist philosophy.\\n\\nVisual art\\nIndia has a very ancient tradition of art, which has exchanged many influences with the rest of Eurasia, especially in the first millennium, when Buddhist art spread with Indian religions to Central, East and Southeast Asia, the last also greatly influenced by Hindu art. Thousands of seals from the Indus Valley Civilization of the third millennium BCE have been found, usually carved with animals, but a few with human figures. The \"Pashupati\" seal, excavated in Mohenjo-daro, Pakistan, in 1928–29, is the best known. After this there is a long period with virtually nothing surviving. Almost all surviving ancient Indian art thereafter is in various forms of religious sculpture in durable materials, or coins. There was probably originally far more in wood, which is lost. In north India Mauryan art is the first imperial movement. In the first millennium CE, Buddhist art spread with Indian religions to Central, East and Southeast Asia, the last also greatly influenced by Hindu art. Over the following centuries a distinctly Indian style of sculpting the human figure developed, with less interest in articulating precise anatomy than ancient Greek sculpture but showing smoothly flowing forms expressing prana (\"breath\" or life-force). This is often complicated by the need to give figures multiple arms or heads, or represent different genders on the left and right of figures, as with the Ardhanarishvara form of Shiva and Parvati.\\nMost of the earliest large sculpture is Buddhist, either excavated from Buddhist stupas such as Sanchi, Sarnath and Amaravati, or is rock cut reliefs at sites such as Ajanta, Karla and Ellora. Hindu and Jain sites appear rather later. In spite of this complex mixture of religious traditions, generally, the prevailing artistic style at any time and place has been shared by the major religious groups, and sculptors probably usually served all communities. Gupta art, at its peak c.\\u2009300 CE – c.\\u2009500 CE, is often regarded as a classical period whose influence lingered for many centuries after; it saw a new dominance of Hindu sculpture, as at the Elephanta Caves. Across the north, this became rather stiff and formulaic after c.\\u2009800 CE, though rich with finely carved detail in the surrounds of statues. But in the South, under the Pallava and Chola dynasties, sculpture in both stone and bronze had a sustained period of great achievement; the large bronzes with Shiva as Nataraja have become an iconic symbol of India.\\nAncient painting has only survived at a few sites, of which the crowded scenes of court life in the Ajanta Caves are by far the most important, but it was evidently highly developed, and is mentioned as a courtly accomplishment in Gupta times. Painted manuscripts of religious texts survive from Eastern India about the 10th century onwards, most of the earliest being Buddhist and later Jain. No doubt the style of these was used in larger paintings. The Persian-derived Deccan painting, starting just before the Mughal miniature, between them give the first large body of secular painting, with an emphasis on portraits, and the recording of princely pleasures and wars. The style spread to Hindu courts, especially among the Rajputs, and developed a variety of styles, with the smaller courts often the most innovative, with figures such as Nihâl Chand and Nainsukh. As a market developed among European residents, it was supplied by Company painting by Indian artists with considerable Western influence. In the 19th century, cheap Kalighat paintings of gods and everyday life, done on paper, were urban folk art from Calcutta, which later saw the Bengal School of Art, reflecting the art colleges founded by the British, the first movement in modern Indian painting.\\n\\nArchitecture\\nMuch of Indian architecture, including the Taj Mahal, other works of Indo-Islamic Mughal architecture, and South Indian architecture, blends ancient local traditions with imported styles. Vernacular architecture is also regional in its flavours. Vastu shastra, literally \"science of construction\" or \"architecture\" and ascribed to Mamuni Mayan, explores how the laws of nature affect human dwellings; it employs precise geometry and directional alignments to reflect perceived cosmic constructs. As applied in Hindu temple architecture, it is influenced by the Shilpa Shastras, a series of foundational texts whose basic mythological form is the Vastu-Purusha mandala, a square that embodied the \"absolute\". The Taj Mahal, built in Agra between 1631 and 1648 by orders of Mughal emperor Shah Jahan in memory of his wife, has been described in the UNESCO World Heritage List as \"the jewel of Muslim art in India and one of the universally admired masterpieces of the world\\'s heritage\". Indo-Saracenic Revival architecture, developed by the British in the late 19th century, drew on Indo-Islamic architecture.\\n\\nLiterature\\nThe earliest literature in India, composed between 1500 BCE and 1200 CE, was in the Sanskrit language. Major works of Sanskrit literature include the Rigveda (c.\\u20091500 BCE – c.\\u20091200 BCE), the epics: Mahābhārata (c.\\u2009400 BCE – c.\\u2009400 CE) and the Ramayana (c.\\u2009300 BCE and later); Abhijñānaśākuntalam (The Recognition of Śakuntalā, and other dramas of Kālidāsa (c.\\u20095th century CE) and Mahākāvya poetry. In Tamil literature, the Sangam literature (c.\\u2009600 BCE – c.\\u2009300 BCE) consisting of 2,381 poems, composed by 473 poets, is the earliest work. From the 14th to the 18th centuries, India\\'s literary traditions went through a period of drastic change because of the emergence of devotional poets like Kabīr, Tulsīdās, and Guru Nānak. This period was characterised by a varied and wide spectrum of thought and expression; as a consequence, medieval Indian literary works differed significantly from classical traditions. In the 19th century, Indian writers took a new interest in social questions and psychological descriptions. In the 20th century, Indian literature was influenced by the works of the Bengali poet, author and philosopher Rabindranath Tagore, who was a recipient of the Nobel Prize in Literature.\\n\\nPerforming arts and media\\nIndian music ranges over various traditions and regional styles. Classical music encompasses two genres and their various folk offshoots: the northern Hindustani and the southern Carnatic schools. Regionalised popular forms include filmi and folk music; the syncretic tradition of the bauls is a well-known form of the latter. Indian dance also features diverse folk and classical forms. Among the better-known folk dances are: bhangra of Punjab, bihu of Assam, Jhumair and chhau of Jharkhand, Odisha and West Bengal, garba and dandiya of Gujarat, ghoomar of Rajasthan, and lavani of Maharashtra. Eight dance forms, many with narrative forms and mythological elements, have been accorded classical dance status by India\\'s National Academy of Music, Dance, and Drama. These are: bharatanatyam of the state of Tamil Nadu, kathak of Uttar Pradesh, kathakali and mohiniyattam of Kerala, kuchipudi of Andhra Pradesh, manipuri of Manipur, odissi of Odisha, and the sattriya of Assam.\\nTheatre in India melds music, dance, and improvised or written dialogue. Often based on Hindu mythology, but also borrowing from medieval romances or social and political events, Indian theatre includes: the bhavai of Gujarat, the jatra of West Bengal, the nautanki and ramlila of North India, tamasha of Maharashtra, burrakatha of Andhra Pradesh and Telangana, terukkuttu of Tamil Nadu, and the yakshagana of Karnataka. India has a theatre training institute the National School of Drama (NSD) that is situated at New Delhi. It is an autonomous organisation under the Ministry of culture, Government of India.\\nThe Indian film industry produces the world\\'s most-watched cinema. Established regional cinematic traditions exist in the Assamese, Bengali, Bhojpuri, Hindi, Kannada, Malayalam, Punjabi, Gujarati, Marathi, Odia, Tamil, and Telugu languages. The Hindi language film industry (Bollywood) is the largest sector representing 43% of box office revenue, followed by the South Indian Telugu and Tamil film industries which represent 36% combined.\\nTelevision broadcasting began in India in 1959 as a state-run medium of communication and expanded slowly for more than two decades. The state monopoly on television broadcast ended in the 1990s. Since then, satellite channels have increasingly shaped the popular culture of Indian society. Today, television is the most penetrative media in India; industry estimates indicate that as of 2012 there are over 554 million TV consumers, 462 million with satellite or cable connections compared to other forms of mass media such as the press (350 million), radio (156 million) or internet (37 million).\\n\\nSociety\\nTraditional Indian society is sometimes defined by social hierarchy. The Indian caste system embodies much of the social stratification and many of the social restrictions found on the Indian subcontinent. Social classes are defined by thousands of endogamous hereditary groups, often termed as jātis, or \"castes\". India abolished untouchability in 1950 with the adoption of the constitution and has since enacted other anti-discriminatory laws and social welfare initiatives.\\nFamily values are important in the Indian tradition, and multi-generational patrilineal joint families have been the norm in India, though nuclear families are becoming common in urban areas. An overwhelming majority of Indians, with their consent, have their marriages arranged by their parents or other family elders. Marriage is thought to be for life, and the divorce rate is extremely low, with less than one in a thousand marriages ending in divorce. Child marriages are common, especially in rural areas; many women wed before reaching 18, which is their legal marriageable age. Female infanticide in India, and lately female foeticide, have created skewed gender ratios; the number of missing women in the country quadrupled from 15 million to 63 million in the 50-year period ending in 2014, faster than the population growth during the same period, and constituting 20 percent of India\\'s female electorate. According to an Indian government study, an additional 21 million girls are unwanted and do not receive adequate care. Despite a government ban on sex-selective foeticide, the practice remains commonplace in India, the result of a preference for boys in a patriarchal society. The payment of dowry, although illegal, remains widespread across class lines. Deaths resulting from dowry, mostly from bride burning, are on the rise, despite stringent anti-dowry laws.\\nMany Indian festivals are religious in origin. The best known include Diwali, Ganesh Chaturthi, Thai Pongal, Holi, Durga Puja, Eid ul-Fitr, Bakr-Id, Christmas, and Vaisakhi.\\n\\nEducation\\nIn the 2011 census, about 73% of the population was literate, with 81% for men and 65% for women. This compares to 1981 when the respective rates were 41%, 53% and 29%. In 1951 the rates were 18%, 27% and 9%. In 1921 the rates 7%, 12% and 2%. In 1891 they were 5%, 9% and 1%, According to Latika Chaudhary, in 1911 there were under three primary schools for every ten villages. Statistically, more caste and religious diversity reduced private spending. Primary schools taught literacy, so local diversity limited its growth.\\nThe education system of India is the world\\'s second-largest. India has over 900 universities, 40,000 colleges and 1.5 million schools. In India\\'s higher education system, a significant number of seats are reserved under affirmative action policies for the historically disadvantaged. In recent decades India\\'s improved education system is often cited as one of the main contributors to its economic development.\\n\\nClothing\\nFrom ancient times until the advent of the modern, the most widely worn traditional dress in India was draped. For women it took the form of a sari, a single piece of cloth many yards long. The sari was traditionally wrapped around the lower body and the shoulder. In its modern form, it is combined with an underskirt, or Indian petticoat, and tucked in the waist band for more secure fastening. It is also commonly worn with an Indian blouse, or choli, which serves as the primary upper-body garment, the sari\\'s end—passing over the shoulder—serving to cover the midriff and obscure the upper body\\'s contours. For men, a similar but shorter length of cloth, the dhoti, has served as a lower-body garment.\\n\\nThe use of stitched clothes became widespread after Muslim rule was established at first by the Delhi sultanate (c.\\u20091300 CE) and then continued by the Mughal Empire (c.\\u20091525 CE). Among the garments introduced during this time and still commonly worn are: the shalwars and pyjamas, both styles of trousers, and the tunics kurta and kameez. In southern India, the traditional draped garments were to see much longer continuous use.\\nShalwars are atypically wide at the waist but narrow to a cuffed bottom. They are held up by a drawstring, which causes them to become pleated around the waist. The pants can be wide and baggy, or they can be cut quite narrow, on the bias, in which case they are called churidars. When they are ordinarily wide at the waist and their bottoms are hemmed but not cuffed, they are called pyjamas. The kameez is a long shirt or tunic, its side seams left open below the waist-line. The kurta is traditionally collarless and made of cotton or silk; it is worn plain or with embroidered decoration, such as chikan; and typically falls to either just above or just below the wearer\\'s knees.\\nIn the last 50 years, fashions have changed a great deal in India. Increasingly, in urban northern India, the sari is no longer the apparel of everyday wear, though they remain popular on formal occasions. The traditional shalwar kameez is rarely worn by younger urban women, who favour churidars or jeans. In white-collar office settings, ubiquitous air conditioning allows men to wear sports jackets year-round. For weddings and formal occasions, men in the middle- and upper classes often wear bandgala, or short Nehru jackets, with pants, with the groom and his groomsmen sporting sherwanis and churidars. The dhoti, once the universal garment of Hindu males, the wearing of which in the homespun and handwoven khadi allowed Gandhi to bring Indian nationalism to the millions,\\nis seldom seen in the cities.\\n\\nCuisine\\nThe foundation of a typical Indian meal is a cereal cooked in a plain fashion and complemented with flavourful savoury dishes. The cooked cereal could be steamed rice; chapati, a thin unleavened bread made from wheat flour, or occasionally cornmeal, and griddle-cooked dry; the idli, a steamed breakfast cake, or dosa, a griddled pancake, both leavened and made from a batter of rice- and gram meal. The savoury dishes might include lentils, pulses and vegetables commonly spiced with ginger and garlic, but also with a combination of spices that may include coriander, cumin, turmeric, cinnamon, cardamon and others as informed by culinary conventions. They might also include poultry, fish, or meat dishes. In some instances, the ingredients might be mixed during the process of cooking.\\nA platter, or thali, used for eating usually has a central place reserved for the cooked cereal, and peripheral ones for the flavourful accompaniments, which are often served in small bowls. The cereal and its accompaniments are eaten simultaneously rather than a piecemeal manner. This is accomplished by mixing—for example of rice and lentils—or folding, wrapping, scooping or dipping—such as chapati and cooked vegetables or lentils.\\n\\nIndia has distinctive vegetarian cuisines, each a feature of the geographical and cultural histories of its adherents. The appearance of ahimsa, or the avoidance of violence toward all forms of life in many religious orders early in Indian history, especially Upanishadic Hinduism, Buddhism and Jainism, is thought to have contributed to the predominance of vegetarianism among a large segment of India\\'s Hindu population, especially in southern India, Gujarat, the Hindi-speaking belt of north-central India, as well as among Jains. Although meat is eaten widely in India,  the proportional consumption of meat in the overall diet is low. Unlike China, which has increased its per capita meat consumption substantially in its years of increased economic growth, in India the strong dietary traditions have contributed to dairy, rather than meat, becoming the preferred form of animal protein consumption.\\nThe most significant import of cooking techniques into India during the last millennium occurred during the Mughal Empire. Dishes such as the pilaf, developed in the Abbasid caliphate, and cooking techniques such as the marinating of meat in yogurt, spread into northern India from regions to its northwest. To the simple yogurt marinade of Persia, onions, garlic, almonds, and spices began to be added in India. Rice was partially cooked and layered alternately with the sauteed meat, the pot sealed tightly, and slow cooked according to another Persian cooking technique, to produce what has today become the Indian biryani, a feature of festive dining in many parts of India. In the food served in Indian restaurants worldwide the diversity of Indian food has been partially concealed by the dominance of Punjabi cuisine. The popularity of tandoori chicken—cooked in the tandoor oven, which had traditionally been used for baking bread in the rural Punjab and the Delhi region, especially among Muslims, but which is originally from Central Asia—dates to the 1950s, and was caused in large part by an entrepreneurial response among people from the Punjab who had been displaced by the 1947 partition of India.\\n\\nSports and recreation\\nSeveral traditional indigenous sports such as kabaddi, kho kho, pehlwani and gilli-danda, and also martial arts such as Kalarippayattu and marma adi, remain popular. Chess is commonly held to have originated in India as chaturaṅga; in recent years, there has been a rise in the number of Indian grandmasters. Viswanathan Anand became the Chess World Champion in 2007 and held the status until 2013. He also won the Chess World Cup in 2000 and 2002. In 2023, R Praggnanandhaa finished as runners up in the tournament.  Parcheesi is derived from Pachisi, another traditional Indian pastime, which in early modern times was played on a giant marble court by Mughal emperor Akbar the Great.\\nCricket is the most popular sport in India. The major domestic league is the Indian Premier League. Professional leagues in other sports include the Indian Super League (football) and the Pro Kabaddi league.\\n\\nIndia has won two Cricket World Cups, the 1983 edition and the 2011 edition, as well as becoming the inaugural T20 World Cup Champions in 2007. India has also won the Champions Trophy twice, in 2002 and 2013. The only edition of the World Championship of Cricket was won by India in 1985. \\nIndia also has eight field hockey gold medals in the summer olympics.\\nThe improved results garnered by the Indian Davis Cup team and other tennis players in the early 2010s have made tennis increasingly popular in the country. India has a comparatively strong presence in shooting sports, and has won several medals at the Olympics, the World Shooting Championships, and the Commonwealth Games. Other sports in which Indians have succeeded internationally include badminton (Saina Nehwal and P. V. Sindhu are two of the top-ranked female badminton players in the world), boxing, and wrestling. Football is popular in West Bengal, Goa, Tamil Nadu, Kerala, and the north-eastern states.India has traditionally been the dominant country at the South Asian Games. An example of this dominance is the basketball competition where the Indian team won four out of five tournaments to date.\\nIndia has hosted or co-hosted several international sporting events: the 1951 and 1982 Asian Games; the 1987, 1996, 2011 and 2023 ICC Men\\'s Cricket World Cup tournaments (and is also scheduled to host it in 2031); the 1978, 1997 and 2013 ICC Women\\'s Cricket World Cup tournaments (and is also scheduled to host it in 2025); the 1987, 1985 and 2016 South Asian Games; the 1990-91 Men\\'s Asia Cup; the 2002 Chess World Cup; the 2003 Afro-Asian Games; the 2006 ICC Cricket Champion\\'s Trophy (and is also scheduled to host it in 2029); the 2006 Women\\'s Asia Cup; the 2009 World Badminton Championships; the 2010 Hockey World Cup; the 2010 Commonwealth Games; the 2016 ICC Men\\'s Cricket T20 World Cup (and is also scheduled to host it in 2026); the 2016 ICC Women\\'s Cricket T20 World Cup and the 2017 FIFA U-17 World Cup. Major international sporting events held annually in India include the Maharashtra Open, the Mumbai Marathon, the Delhi Half Marathon, and the Indian Masters. The first Formula 1 Indian Grand Prix featured in late 2011 but has been discontinued from the F1 season calendar since 2014.\\n\\nSee also\\nAdministrative divisions of India\\nOutline of India\\n\\nNotes\\nReferences\\nBibliography\\nOverview\\n\\nEtymology\\n\\nHistory\\n\\nGeography\\n\\nBiodiversity\\n\\nPolitics\\n\\nForeign relations and military\\n\\nEconomy\\n\\nDemographics\\n\\nArt\\n\\nCulture\\n\\nExternal links\\n\\nGovernment\\n\\nOfficial website of the Government of India\\nGovernment of India Web Directory\\nGeneral information\\n\\nIndia. The World Factbook. Central Intelligence Agency.\\nIndia at Curlie\\nIndia web resources provided by GovPubs at the University of Colorado Boulder Libraries\\nIndia from BBC News\\n Wikimedia Atlas of India\\n Geographic data related to India at OpenStreetMap\\nKey Development Forecasts for India from International Futures'"
            ],
            "application/vnd.google.colaboratory.intrinsic+json": {
              "type": "string"
            }
          },
          "metadata": {},
          "execution_count": 32
        }
      ]
    },
    {
      "cell_type": "code",
      "source": [
        "def search_wiki_information(user_request, content = context):\n",
        "\n",
        "  MODEL = 'gpt-3.5-turbo-16k' # Define GPT model\n",
        "\n",
        "  SYSTEM_MESSAGE = '''You're a helpful assistant that responds to the user query\n",
        "    based on given context. Strictly adhere to the context only, do not answer from other sources. If you do not know any information, just say give the message \"Information not found\".\n",
        "    context : {}'''.format(content)\n",
        "\n",
        "  # We used string formatting to include the Wikipedia content along with the system message. You can also do so with user request\n",
        "\n",
        "\n",
        "  try:\n",
        "    messages = [\n",
        "        {'role': 'system', 'content': SYSTEM_MESSAGE},\n",
        "        {'role': 'user', 'content': user_request}\n",
        "    ] # Define the list of messages\n",
        "\n",
        "    response = openai.chat.completions.create(\n",
        "        model = MODEL,\n",
        "        messages = messages\n",
        "    )# Get the ChatCompletion Response from the GPT-3.5 model\n",
        "\n",
        "    response_content = response.choices[0].message.content\n",
        "\n",
        "    return response_content\n",
        "\n",
        "  # Raise exception error\n",
        "  except Exception as e:\n",
        "    print(f\"An error occurred: {e}\")\n",
        "    return None"
      ],
      "metadata": {
        "id": "1sBDNeLHlDIK"
      },
      "execution_count": null,
      "outputs": []
    },
    {
      "cell_type": "code",
      "source": [
        "search_wiki_information(user_request)"
      ],
      "metadata": {
        "id": "MAK0s6lllc-C",
        "outputId": "3e4b5545-53fe-4850-9cd4-ab19c74451f1",
        "colab": {
          "base_uri": "https://localhost:8080/",
          "height": 35
        }
      },
      "execution_count": null,
      "outputs": [
        {
          "output_type": "execute_result",
          "data": {
            "text/plain": [
              "'The current president of India is Ram Nath Kovind.'"
            ],
            "application/vnd.google.colaboratory.intrinsic+json": {
              "type": "string"
            }
          },
          "metadata": {},
          "execution_count": 34
        }
      ]
    },
    {
      "cell_type": "code",
      "source": [],
      "metadata": {
        "id": "cdrqfU8dliks"
      },
      "execution_count": null,
      "outputs": []
    }
  ]
}