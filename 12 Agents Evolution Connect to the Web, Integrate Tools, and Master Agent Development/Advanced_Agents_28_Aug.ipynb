{
  "cells": [
    {
      "cell_type": "code",
      "execution_count": null,
      "metadata": {
        "colab": {
          "base_uri": "https://localhost:8080/"
        },
        "id": "2zbfIeoLqSZe",
        "outputId": "e0bf06af-46c7-40f1-8a6f-ff19b97a774b"
      },
      "outputs": [
        {
          "data": {
            "text/plain": [
              "23"
            ]
          },
          "execution_count": 1,
          "metadata": {},
          "output_type": "execute_result"
        }
      ],
      "source": [
        "10+13"
      ]
    },
    {
      "cell_type": "code",
      "execution_count": null,
      "metadata": {
        "colab": {
          "base_uri": "https://localhost:8080/"
        },
        "id": "sH_3B3kerKtR",
        "outputId": "1d19595f-fb00-4010-a6b9-c843de66b871"
      },
      "outputs": [
        {
          "name": "stdout",
          "output_type": "stream",
          "text": [
            "Collecting langchain\n",
            "  Downloading langchain-0.2.15-py3-none-any.whl.metadata (7.1 kB)\n",
            "Collecting langchain-community\n",
            "  Downloading langchain_community-0.2.13-py3-none-any.whl.metadata (2.7 kB)\n",
            "Collecting langchain_experimental\n",
            "  Downloading langchain_experimental-0.0.64-py3-none-any.whl.metadata (1.7 kB)\n",
            "Collecting openai\n",
            "  Downloading openai-1.42.0-py3-none-any.whl.metadata (22 kB)\n",
            "Requirement already satisfied: PyYAML>=5.3 in /usr/local/lib/python3.10/dist-packages (from langchain) (6.0.2)\n",
            "Requirement already satisfied: SQLAlchemy<3,>=1.4 in /usr/local/lib/python3.10/dist-packages (from langchain) (2.0.32)\n",
            "Requirement already satisfied: aiohttp<4.0.0,>=3.8.3 in /usr/local/lib/python3.10/dist-packages (from langchain) (3.10.5)\n",
            "Requirement already satisfied: async-timeout<5.0.0,>=4.0.0 in /usr/local/lib/python3.10/dist-packages (from langchain) (4.0.3)\n",
            "Collecting langchain-core<0.3.0,>=0.2.35 (from langchain)\n",
            "  Downloading langchain_core-0.2.35-py3-none-any.whl.metadata (6.2 kB)\n",
            "Collecting langchain-text-splitters<0.3.0,>=0.2.0 (from langchain)\n",
            "  Downloading langchain_text_splitters-0.2.2-py3-none-any.whl.metadata (2.1 kB)\n",
            "Collecting langsmith<0.2.0,>=0.1.17 (from langchain)\n",
            "  Downloading langsmith-0.1.106-py3-none-any.whl.metadata (13 kB)\n",
            "Requirement already satisfied: numpy<2,>=1 in /usr/local/lib/python3.10/dist-packages (from langchain) (1.26.4)\n",
            "Requirement already satisfied: pydantic<3,>=1 in /usr/local/lib/python3.10/dist-packages (from langchain) (2.8.2)\n",
            "Requirement already satisfied: requests<3,>=2 in /usr/local/lib/python3.10/dist-packages (from langchain) (2.32.3)\n",
            "Collecting tenacity!=8.4.0,<9.0.0,>=8.1.0 (from langchain)\n",
            "  Downloading tenacity-8.5.0-py3-none-any.whl.metadata (1.2 kB)\n",
            "Collecting dataclasses-json<0.7,>=0.5.7 (from langchain-community)\n",
            "  Downloading dataclasses_json-0.6.7-py3-none-any.whl.metadata (25 kB)\n",
            "Requirement already satisfied: anyio<5,>=3.5.0 in /usr/local/lib/python3.10/dist-packages (from openai) (3.7.1)\n",
            "Requirement already satisfied: distro<2,>=1.7.0 in /usr/lib/python3/dist-packages (from openai) (1.7.0)\n",
            "Collecting httpx<1,>=0.23.0 (from openai)\n",
            "  Downloading httpx-0.27.2-py3-none-any.whl.metadata (7.1 kB)\n",
            "Collecting jiter<1,>=0.4.0 (from openai)\n",
            "  Downloading jiter-0.5.0-cp310-cp310-manylinux_2_17_x86_64.manylinux2014_x86_64.whl.metadata (3.6 kB)\n",
            "Requirement already satisfied: sniffio in /usr/local/lib/python3.10/dist-packages (from openai) (1.3.1)\n",
            "Requirement already satisfied: tqdm>4 in /usr/local/lib/python3.10/dist-packages (from openai) (4.66.5)\n",
            "Requirement already satisfied: typing-extensions<5,>=4.11 in /usr/local/lib/python3.10/dist-packages (from openai) (4.12.2)\n",
            "Requirement already satisfied: aiohappyeyeballs>=2.3.0 in /usr/local/lib/python3.10/dist-packages (from aiohttp<4.0.0,>=3.8.3->langchain) (2.4.0)\n",
            "Requirement already satisfied: aiosignal>=1.1.2 in /usr/local/lib/python3.10/dist-packages (from aiohttp<4.0.0,>=3.8.3->langchain) (1.3.1)\n",
            "Requirement already satisfied: attrs>=17.3.0 in /usr/local/lib/python3.10/dist-packages (from aiohttp<4.0.0,>=3.8.3->langchain) (24.2.0)\n",
            "Requirement already satisfied: frozenlist>=1.1.1 in /usr/local/lib/python3.10/dist-packages (from aiohttp<4.0.0,>=3.8.3->langchain) (1.4.1)\n",
            "Requirement already satisfied: multidict<7.0,>=4.5 in /usr/local/lib/python3.10/dist-packages (from aiohttp<4.0.0,>=3.8.3->langchain) (6.0.5)\n",
            "Requirement already satisfied: yarl<2.0,>=1.0 in /usr/local/lib/python3.10/dist-packages (from aiohttp<4.0.0,>=3.8.3->langchain) (1.9.4)\n",
            "Requirement already satisfied: idna>=2.8 in /usr/local/lib/python3.10/dist-packages (from anyio<5,>=3.5.0->openai) (3.7)\n",
            "Requirement already satisfied: exceptiongroup in /usr/local/lib/python3.10/dist-packages (from anyio<5,>=3.5.0->openai) (1.2.2)\n",
            "Collecting marshmallow<4.0.0,>=3.18.0 (from dataclasses-json<0.7,>=0.5.7->langchain-community)\n",
            "  Downloading marshmallow-3.22.0-py3-none-any.whl.metadata (7.2 kB)\n",
            "Collecting typing-inspect<1,>=0.4.0 (from dataclasses-json<0.7,>=0.5.7->langchain-community)\n",
            "  Downloading typing_inspect-0.9.0-py3-none-any.whl.metadata (1.5 kB)\n",
            "Requirement already satisfied: certifi in /usr/local/lib/python3.10/dist-packages (from httpx<1,>=0.23.0->openai) (2024.7.4)\n",
            "Collecting httpcore==1.* (from httpx<1,>=0.23.0->openai)\n",
            "  Downloading httpcore-1.0.5-py3-none-any.whl.metadata (20 kB)\n",
            "Collecting h11<0.15,>=0.13 (from httpcore==1.*->httpx<1,>=0.23.0->openai)\n",
            "  Downloading h11-0.14.0-py3-none-any.whl.metadata (8.2 kB)\n",
            "Collecting jsonpatch<2.0,>=1.33 (from langchain-core<0.3.0,>=0.2.35->langchain)\n",
            "  Downloading jsonpatch-1.33-py2.py3-none-any.whl.metadata (3.0 kB)\n",
            "Requirement already satisfied: packaging<25,>=23.2 in /usr/local/lib/python3.10/dist-packages (from langchain-core<0.3.0,>=0.2.35->langchain) (24.1)\n",
            "Collecting orjson<4.0.0,>=3.9.14 (from langsmith<0.2.0,>=0.1.17->langchain)\n",
            "  Downloading orjson-3.10.7-cp310-cp310-manylinux_2_17_x86_64.manylinux2014_x86_64.whl.metadata (50 kB)\n",
            "\u001b[2K     \u001b[90m━━━━━━━━━━━━━━━━━━━━━━━━━━━━━━━━━━━━━━━━\u001b[0m \u001b[32m50.4/50.4 kB\u001b[0m \u001b[31m3.9 MB/s\u001b[0m eta \u001b[36m0:00:00\u001b[0m\n",
            "\u001b[?25hRequirement already satisfied: annotated-types>=0.4.0 in /usr/local/lib/python3.10/dist-packages (from pydantic<3,>=1->langchain) (0.7.0)\n",
            "Requirement already satisfied: pydantic-core==2.20.1 in /usr/local/lib/python3.10/dist-packages (from pydantic<3,>=1->langchain) (2.20.1)\n",
            "Requirement already satisfied: charset-normalizer<4,>=2 in /usr/local/lib/python3.10/dist-packages (from requests<3,>=2->langchain) (3.3.2)\n",
            "Requirement already satisfied: urllib3<3,>=1.21.1 in /usr/local/lib/python3.10/dist-packages (from requests<3,>=2->langchain) (2.0.7)\n",
            "Requirement already satisfied: greenlet!=0.4.17 in /usr/local/lib/python3.10/dist-packages (from SQLAlchemy<3,>=1.4->langchain) (3.0.3)\n",
            "Collecting jsonpointer>=1.9 (from jsonpatch<2.0,>=1.33->langchain-core<0.3.0,>=0.2.35->langchain)\n",
            "  Downloading jsonpointer-3.0.0-py2.py3-none-any.whl.metadata (2.3 kB)\n",
            "Collecting mypy-extensions>=0.3.0 (from typing-inspect<1,>=0.4.0->dataclasses-json<0.7,>=0.5.7->langchain-community)\n",
            "  Downloading mypy_extensions-1.0.0-py3-none-any.whl.metadata (1.1 kB)\n",
            "Downloading langchain-0.2.15-py3-none-any.whl (1.0 MB)\n",
            "\u001b[2K   \u001b[90m━━━━━━━━━━━━━━━━━━━━━━━━━━━━━━━━━━━━━━━━\u001b[0m \u001b[32m1.0/1.0 MB\u001b[0m \u001b[31m20.6 MB/s\u001b[0m eta \u001b[36m0:00:00\u001b[0m\n",
            "\u001b[?25hDownloading langchain_community-0.2.13-py3-none-any.whl (2.3 MB)\n",
            "\u001b[2K   \u001b[90m━━━━━━━━━━━━━━━━━━━━━━━━━━━━━━━━━━━━━━━━\u001b[0m \u001b[32m2.3/2.3 MB\u001b[0m \u001b[31m30.5 MB/s\u001b[0m eta \u001b[36m0:00:00\u001b[0m\n",
            "\u001b[?25hDownloading langchain_experimental-0.0.64-py3-none-any.whl (204 kB)\n",
            "\u001b[2K   \u001b[90m━━━━━━━━━━━━━━━━━━━━━━━━━━━━━━━━━━━━━━━━\u001b[0m \u001b[32m204.3/204.3 kB\u001b[0m \u001b[31m11.4 MB/s\u001b[0m eta \u001b[36m0:00:00\u001b[0m\n",
            "\u001b[?25hDownloading openai-1.42.0-py3-none-any.whl (362 kB)\n",
            "\u001b[2K   \u001b[90m━━━━━━━━━━━━━━━━━━━━━━━━━━━━━━━━━━━━━━━━\u001b[0m \u001b[32m362.9/362.9 kB\u001b[0m \u001b[31m11.1 MB/s\u001b[0m eta \u001b[36m0:00:00\u001b[0m\n",
            "\u001b[?25hDownloading dataclasses_json-0.6.7-py3-none-any.whl (28 kB)\n",
            "Downloading httpx-0.27.2-py3-none-any.whl (76 kB)\n",
            "\u001b[2K   \u001b[90m━━━━━━━━━━━━━━━━━━━━━━━━━━━━━━━━━━━━━━━━\u001b[0m \u001b[32m76.4/76.4 kB\u001b[0m \u001b[31m4.8 MB/s\u001b[0m eta \u001b[36m0:00:00\u001b[0m\n",
            "\u001b[?25hDownloading httpcore-1.0.5-py3-none-any.whl (77 kB)\n",
            "\u001b[2K   \u001b[90m━━━━━━━━━━━━━━━━━━━━━━━━━━━━━━━━━━━━━━━━\u001b[0m \u001b[32m77.9/77.9 kB\u001b[0m \u001b[31m3.4 MB/s\u001b[0m eta \u001b[36m0:00:00\u001b[0m\n",
            "\u001b[?25hDownloading jiter-0.5.0-cp310-cp310-manylinux_2_17_x86_64.manylinux2014_x86_64.whl (318 kB)\n",
            "\u001b[2K   \u001b[90m━━━━━━━━━━━━━━━━━━━━━━━━━━━━━━━━━━━━━━━━\u001b[0m \u001b[32m318.9/318.9 kB\u001b[0m \u001b[31m13.9 MB/s\u001b[0m eta \u001b[36m0:00:00\u001b[0m\n",
            "\u001b[?25hDownloading langchain_core-0.2.35-py3-none-any.whl (394 kB)\n",
            "\u001b[2K   \u001b[90m━━━━━━━━━━━━━━━━━━━━━━━━━━━━━━━━━━━━━━━━\u001b[0m \u001b[32m394.9/394.9 kB\u001b[0m \u001b[31m15.0 MB/s\u001b[0m eta \u001b[36m0:00:00\u001b[0m\n",
            "\u001b[?25hDownloading langchain_text_splitters-0.2.2-py3-none-any.whl (25 kB)\n",
            "Downloading langsmith-0.1.106-py3-none-any.whl (150 kB)\n",
            "\u001b[2K   \u001b[90m━━━━━━━━━━━━━━━━━━━━━━━━━━━━━━━━━━━━━━━━\u001b[0m \u001b[32m150.6/150.6 kB\u001b[0m \u001b[31m6.9 MB/s\u001b[0m eta \u001b[36m0:00:00\u001b[0m\n",
            "\u001b[?25hDownloading tenacity-8.5.0-py3-none-any.whl (28 kB)\n",
            "Downloading jsonpatch-1.33-py2.py3-none-any.whl (12 kB)\n",
            "Downloading marshmallow-3.22.0-py3-none-any.whl (49 kB)\n",
            "\u001b[2K   \u001b[90m━━━━━━━━━━━━━━━━━━━━━━━━━━━━━━━━━━━━━━━━\u001b[0m \u001b[32m49.3/49.3 kB\u001b[0m \u001b[31m3.2 MB/s\u001b[0m eta \u001b[36m0:00:00\u001b[0m\n",
            "\u001b[?25hDownloading orjson-3.10.7-cp310-cp310-manylinux_2_17_x86_64.manylinux2014_x86_64.whl (141 kB)\n",
            "\u001b[2K   \u001b[90m━━━━━━━━━━━━━━━━━━━━━━━━━━━━━━━━━━━━━━━━\u001b[0m \u001b[32m141.9/141.9 kB\u001b[0m \u001b[31m8.2 MB/s\u001b[0m eta \u001b[36m0:00:00\u001b[0m\n",
            "\u001b[?25hDownloading typing_inspect-0.9.0-py3-none-any.whl (8.8 kB)\n",
            "Downloading h11-0.14.0-py3-none-any.whl (58 kB)\n",
            "\u001b[2K   \u001b[90m━━━━━━━━━━━━━━━━━━━━━━━━━━━━━━━━━━━━━━━━\u001b[0m \u001b[32m58.3/58.3 kB\u001b[0m \u001b[31m4.6 MB/s\u001b[0m eta \u001b[36m0:00:00\u001b[0m\n",
            "\u001b[?25hDownloading jsonpointer-3.0.0-py2.py3-none-any.whl (7.6 kB)\n",
            "Downloading mypy_extensions-1.0.0-py3-none-any.whl (4.7 kB)\n",
            "Installing collected packages: tenacity, orjson, mypy-extensions, marshmallow, jsonpointer, jiter, h11, typing-inspect, jsonpatch, httpcore, httpx, dataclasses-json, openai, langsmith, langchain-core, langchain-text-splitters, langchain, langchain-community, langchain_experimental\n",
            "  Attempting uninstall: tenacity\n",
            "    Found existing installation: tenacity 9.0.0\n",
            "    Uninstalling tenacity-9.0.0:\n",
            "      Successfully uninstalled tenacity-9.0.0\n",
            "Successfully installed dataclasses-json-0.6.7 h11-0.14.0 httpcore-1.0.5 httpx-0.27.2 jiter-0.5.0 jsonpatch-1.33 jsonpointer-3.0.0 langchain-0.2.15 langchain-community-0.2.13 langchain-core-0.2.35 langchain-text-splitters-0.2.2 langchain_experimental-0.0.64 langsmith-0.1.106 marshmallow-3.22.0 mypy-extensions-1.0.0 openai-1.42.0 orjson-3.10.7 tenacity-8.5.0 typing-inspect-0.9.0\n"
          ]
        }
      ],
      "source": [
        "!pip install -U langchain langchain-community langchain_experimental openai"
      ]
    },
    {
      "cell_type": "code",
      "execution_count": null,
      "metadata": {
        "id": "Bagd7QWfrVjr"
      },
      "outputs": [],
      "source": [
        "from langchain.chat_models import ChatOpenAI"
      ]
    },
    {
      "cell_type": "code",
      "execution_count": null,
      "metadata": {
        "id": "2_jQpKIQrtRo"
      },
      "outputs": [],
      "source": [
        "import config"
      ]
    },
    {
      "cell_type": "code",
      "execution_count": null,
      "metadata": {
        "colab": {
          "base_uri": "https://localhost:8080/"
        },
        "id": "o0MQJ7cZrxWj",
        "outputId": "c23eda5c-6f88-4ff2-cbe0-5e801853517b"
      },
      "outputs": [
        {
          "data": {
            "text/plain": [
              "ChatOpenAI(client=<openai.resources.chat.completions.Completions object at 0x7ff1d09b7eb0>, async_client=<openai.resources.chat.completions.AsyncCompletions object at 0x7ff1d09d5ff0>, temperature=0.0, openai_api_key='sk-proj-4ddHgqIpePuG4PwKiU09T3BlbkFJSstRy8nGJDXrw9SBpvN8', openai_proxy='')"
            ]
          },
          "execution_count": 5,
          "metadata": {},
          "output_type": "execute_result"
        }
      ],
      "source": [
        "llm = ChatOpenAI(openai_api_key=config.API_KEY, temperature=0, model=\"gpt-3.5-turbo\")\n",
        "llm"
      ]
    },
    {
      "cell_type": "code",
      "execution_count": null,
      "metadata": {
        "colab": {
          "base_uri": "https://localhost:8080/"
        },
        "id": "698NfPkOsH4m",
        "outputId": "8245ec9c-e65c-40cc-f4e4-77ffb74070fd"
      },
      "outputs": [
        {
          "name": "stdout",
          "output_type": "stream",
          "text": [
            "Collecting duckduckgo-search\n",
            "  Downloading duckduckgo_search-6.2.11-py3-none-any.whl.metadata (24 kB)\n",
            "Requirement already satisfied: click>=8.1.7 in /usr/local/lib/python3.10/dist-packages (from duckduckgo-search) (8.1.7)\n",
            "Collecting primp>=0.6.1 (from duckduckgo-search)\n",
            "  Downloading primp-0.6.1-cp38-abi3-manylinux_2_17_x86_64.manylinux2014_x86_64.whl.metadata (10 kB)\n",
            "Downloading duckduckgo_search-6.2.11-py3-none-any.whl (27 kB)\n",
            "Downloading primp-0.6.1-cp38-abi3-manylinux_2_17_x86_64.manylinux2014_x86_64.whl (2.8 MB)\n",
            "\u001b[2K   \u001b[90m━━━━━━━━━━━━━━━━━━━━━━━━━━━━━━━━━━━━━━━━\u001b[0m \u001b[32m2.8/2.8 MB\u001b[0m \u001b[31m64.8 MB/s\u001b[0m eta \u001b[36m0:00:00\u001b[0m\n",
            "\u001b[?25hInstalling collected packages: primp, duckduckgo-search\n",
            "Successfully installed duckduckgo-search-6.2.11 primp-0.6.1\n"
          ]
        }
      ],
      "source": [
        "#Search\n",
        "\n",
        "!pip install -U duckduckgo-search"
      ]
    },
    {
      "cell_type": "code",
      "execution_count": null,
      "metadata": {
        "colab": {
          "base_uri": "https://localhost:8080/",
          "height": 122
        },
        "id": "OkQE-aI8sbAq",
        "outputId": "c20f6102-2da3-4ffd-a43e-549be56ad7de"
      },
      "outputs": [
        {
          "data": {
            "application/vnd.google.colaboratory.intrinsic+json": {
              "type": "string"
            },
            "text/plain": [
              "\"In a match that came as close as it gets, Netherlands men's hockey defeated Germany 1(3)-1(1) in an overtime shootout on Thursday, 8 August at the Olympic Games Paris 2024 to clinch their first Olympic gold medal in the men's competition since Sydney 2000.. It was almost as if they had a home-team advantage, as a sea of orange flooded the stadium with support for the Dutch, making for an ... The Netherlands won their first men's hockey Olympic gold medal in 24 years by beating Germany in a shootout in a thrilling final at Paris 2024. After a 1-1 draw across 60 minutes, Dutch keeper ... The Indian men's hockey team bowed down to the retiring PR Sreejesh after India defeated Spain 2-1 to win bronze at the 2024 Paris Olympics. The primal roars at the end of the bronze medal match ... India defeated Spain 2-1 in the men's hockey bronze medal match at Paris 2024 on Thursday (8 August) thanks to a brace by Harmanpreet Singh. The victory marks India's 13th Olympic medal in hockey, their fourth bronze and a second consecutive bronze after winning one at Tokyo 2020. It is also the first time since 1972 that the nation has won ... The Indian men's hockey team won the bronze medal at the Paris 2024 Olympics.. India, who won a bronze medal at Tokyo 2020 to end a 41-year-long medal drought in hockey, secured their second successive medal in the sport at the Summer Games and 13th overall.Heading into Paris 2024, India were the most successful hockey team in Olympic history with eight gold, one silver and three bronze medals.\""
            ]
          },
          "execution_count": 7,
          "metadata": {},
          "output_type": "execute_result"
        }
      ],
      "source": [
        "from langchain_community.tools import DuckDuckGoSearchRun\n",
        "\n",
        "search = DuckDuckGoSearchRun()\n",
        "\n",
        "search.invoke(\"Who won the medal for mens hockey in olympics 2024?\")"
      ]
    },
    {
      "cell_type": "code",
      "execution_count": null,
      "metadata": {
        "colab": {
          "base_uri": "https://localhost:8080/"
        },
        "id": "vAMyTCTespHv",
        "outputId": "0f44e357-515f-4d60-9d5e-c03f7e8bd621"
      },
      "outputs": [
        {
          "data": {
            "text/plain": [
              "AIMessage(content=\"I'm sorry, but I am unable to provide real-time information as I do not have access to the internet. I recommend checking the latest news or the official Olympics website for the most up-to-date information on the men's hockey medal winners at the 2024 Olympics.\", response_metadata={'token_usage': {'completion_tokens': 55, 'prompt_tokens': 32, 'total_tokens': 87}, 'model_name': 'gpt-3.5-turbo', 'system_fingerprint': None, 'finish_reason': 'stop', 'logprobs': None}, id='run-63721596-7a48-40da-873e-61d856f19efd-0')"
            ]
          },
          "execution_count": 10,
          "metadata": {},
          "output_type": "execute_result"
        }
      ],
      "source": [
        "messages=[(\"system\", \"You are a helpful assistant.\"),\n",
        "           (\"human\", \"Who won the medal for mens hockey in olympics 2024?\")]\n",
        "\n",
        "ai_msg= llm.invoke(messages)\n",
        "\n",
        "ai_msg\n",
        "\n"
      ]
    },
    {
      "cell_type": "code",
      "execution_count": null,
      "metadata": {
        "id": "WZbTaaDEtWg1"
      },
      "outputs": [],
      "source": [
        "from langchain.memory  import ConversationBufferMemory"
      ]
    },
    {
      "cell_type": "code",
      "execution_count": null,
      "metadata": {
        "id": "RJGnZdQruexo"
      },
      "outputs": [],
      "source": [
        "from langchain.agents.agent_types import AgentType\n",
        "from langchain.agents.initialize import initialize_agent\n",
        "from langchain.tools import Tool\n",
        "from langchain.prompts import PromptTemplate\n",
        "from langchain.chains import LLMChain"
      ]
    },
    {
      "cell_type": "code",
      "execution_count": null,
      "metadata": {
        "id": "dyOdKyp1vJOy"
      },
      "outputs": [],
      "source": [
        "search = DuckDuckGoSearchRun()\n",
        "\n",
        "search_tools = Tool(\n",
        "    name= \"DuckDuckGoSearch\",\n",
        "    func= search.run,\n",
        "    description=\"Conducts a web search usong DuckDuckGo and provides Up-to-date information.\"\n",
        ")"
      ]
    },
    {
      "cell_type": "code",
      "execution_count": null,
      "metadata": {
        "id": "dsqB7d_nvzwx"
      },
      "outputs": [],
      "source": [
        "memory = ConversationBufferMemory(memory_key=\"chat_history\", return_messages=True)"
      ]
    },
    {
      "cell_type": "code",
      "execution_count": null,
      "metadata": {
        "id": "xUV-pQdlv-0d"
      },
      "outputs": [],
      "source": [
        "agent = initialize_agent(\n",
        "    tools = [search_tools],\n",
        "    llm= llm,\n",
        "    memory = memory,\n",
        "    verbose=True,\n",
        "    agent_type= AgentType.CONVERSATIONAL_REACT_DESCRIPTION,\n",
        "\n",
        ")"
      ]
    },
    {
      "cell_type": "code",
      "execution_count": null,
      "metadata": {
        "colab": {
          "base_uri": "https://localhost:8080/"
        },
        "id": "lh_Srwgkwnud",
        "outputId": "f7c4c33a-5369-4501-8698-39cbe29025d8"
      },
      "outputs": [
        {
          "name": "stdout",
          "output_type": "stream",
          "text": [
            "\n",
            "\n",
            "\u001b[1m> Entering new AgentExecutor chain...\u001b[0m\n",
            "\u001b[32;1m\u001b[1;3mI should use DuckDuckGoSearch to find up-to-date information on India's performance in the Paris Olympics.\n",
            "Action: DuckDuckGoSearch\n",
            "Action Input: 'India's performance in Paris Olympics'\u001b[0m\n",
            "Observation: \u001b[36;1m\u001b[1;3mA total of 117 Indian athletes made up the contingent that went on the hunt for medals and sporting immortality at the Paris 2024 Olympics, which ran from July 26 to August 11.. In all, India won six medals - a silver and five bronze - at the Paris 2024 Olympics. Manu Bhaker won the first medal for India at the Paris 2024 Olympics. She bagged a bronze and became the first Indian woman to win ... Paris Olympics 2024 News: India won six medals at the 33rd Summer Games, including five bronze and one silver. Highlights included Manu Bhaker's two bronzes in shooting, Swapni India's campaign at the Paris 2024 Olympics ended with six medals, a tally one short of the record total from Tokyo 2020. It is, however, India's third best outing at the Summer Games after Tokyo 2020 and London 2012. Archery, athletics, badminton, boxing, equestrian, golf, hockey, judo, rowing, sailing, shooting, swimming, wrestling, table tennis and tennis are the 16 sports Indian athletes ... India competed at the 2024 Summer Olympics in Paris, France, held from 26 July to 11 August 2024.The country made its debut at the 1900 Summer Olympics.Indian athletes have appeared at every edition of the Summer Olympic Games since 1920 and the Paris Games edition marked India's 26th appearance at the Summer Olympics.. The Indian contingent consisted of 110 athletes who competed in 16 sports. In Greek mythology, Paris, after whom the French City of Love is named, was a skilled archer. India's archery team didn't hit the bull's eye, but the Indian Olympic squad's performance was commendable. For India, Paris Olympics was better than the 2016 Rio Olympics, when the country won just two medals.\u001b[0m\n",
            "Thought:\u001b[32;1m\u001b[1;3mIndia won a total of six medals at the Paris Olympics 2024.\n",
            "Final Answer: India won six medals at the Paris Olympics 2024.\u001b[0m\n",
            "\n",
            "\u001b[1m> Finished chain.\u001b[0m\n"
          ]
        }
      ],
      "source": [
        "q1= \"India's performance in Paris Olympics?\"\n",
        "response_1= agent.run(q1)"
      ]
    },
    {
      "cell_type": "code",
      "execution_count": null,
      "metadata": {
        "colab": {
          "base_uri": "https://localhost:8080/",
          "height": 35
        },
        "id": "mYApaerSxuiV",
        "outputId": "f26cc741-3be8-41ae-d807-441273ba6b89"
      },
      "outputs": [
        {
          "data": {
            "application/vnd.google.colaboratory.intrinsic+json": {
              "type": "string"
            },
            "text/plain": [
              "'India won six medals at the Paris Olympics 2024.'"
            ]
          },
          "execution_count": 26,
          "metadata": {},
          "output_type": "execute_result"
        }
      ],
      "source": [
        "response_1"
      ]
    },
    {
      "cell_type": "code",
      "execution_count": null,
      "metadata": {
        "colab": {
          "base_uri": "https://localhost:8080/"
        },
        "id": "q-L36hG-w1LC",
        "outputId": "9fbf892e-a8c2-4c8e-c86b-423081e4d883"
      },
      "outputs": [
        {
          "name": "stdout",
          "output_type": "stream",
          "text": [
            "\n",
            "\n",
            "\u001b[1m> Entering new AgentExecutor chain...\u001b[0m\n",
            "\u001b[32;1m\u001b[1;3mI should use DuckDuckGoSearch to gather up-to-date information on India's performance in the Paris Olympics.\n",
            "Action: DuckDuckGoSearch\n",
            "Action Input: 'India performance in Paris Olympics'\u001b[0m\n",
            "Observation: \u001b[36;1m\u001b[1;3mHere's a look at India's schedule for August 29, Thursday: 12 PM: Para badminton - Nitesh Kumar-Thulasimathi Murugesan vs Suhas Yathiraj-Palak Kohli in mixed doubles SL3-SU5 group stage match. The Paris 2024 Paralympics schedule for India starts on August 28 and will conclude on September 9. India's largest-ever Paralympic contingent of 84 members is set to compete across 12 sports in France. A 38-member para athletics team, headlined by Tokyo 2020 para javelin champion Sumit Antil, is almost half the Indian Paralympic team at Paris 2024. . They will be competing in 12 medal ev It's an action-packed opening day for Indian para-athletes at the Paris Paralympics 2024. India can get into the medal table with a couple of opportunities on Thursday. A total of 84 Indian para athletes will compete at the Paris 2024 Paralympics, scheduled from August 28 to September 9 in France.It is India's largest contingent in Paralympic history. Live streaming for all the 549 events from the Paris 2024 Paralympics will be available for free in India. Here's a breakdown of the various classifications in the 12 sporting disciplines Indian athletes will compete in at the 2024 Paralympics in Paris. Editor's Picks Paralympics 2024: 84, 39, 4 ...\u001b[0m\n",
            "Thought:\u001b[32;1m\u001b[1;3mI need to focus on India's performance specifically in the Paris Olympics for the article.\n",
            "Action: DuckDuckGoSearch\n",
            "Action Input: 'India performance in Paris Olympics'\u001b[0m\n",
            "Observation: \u001b[36;1m\u001b[1;3mA total of 117 Indian athletes made up the contingent that went on the hunt for medals and sporting immortality at the Paris 2024 Olympics, which ran from July 26 to August 11.. In all, India won six medals - a silver and five bronze - at the Paris 2024 Olympics. Manu Bhaker won the first medal for India at the Paris 2024 Olympics. She bagged a bronze and became the first Indian woman to win ... Paris Olympics 2024 News: India won six medals at the 33rd Summer Games, including five bronze and one silver. Highlights included Manu Bhaker's two bronzes in shooting, Swapni India competed at the 2024 Summer Olympics in Paris, France, held from 26 July to 11 August 2024.The country made its debut at the 1900 Summer Olympics.Indian athletes have appeared at every edition of the Summer Olympic Games since 1920 and the Paris Games edition marked India's 26th appearance at the Summer Olympics.. The Indian contingent consisted of 110 athletes who competed in 16 sports. In Greek mythology, Paris, after whom the French City of Love is named, was a skilled archer. India's archery team didn't hit the bull's eye, but the Indian Olympic squad's performance was commendable. For India, Paris Olympics was better than the 2016 Rio Olympics, when the country won just two medals. A 29-member Indian athletics team, headlined by Neeraj Chopra, competed at the Paris 2024 Olympics from August 1 to 9. Athletics kicked off on August 1 with race walking, the track and field events began on August 2.. Athletics at the Olympics included 48 medal events in all. They were held across four venues: Pont d'Iéna for race walking, Hôtel de Ville and Les Invalides for the start and ...\u001b[0m\n",
            "Thought:\u001b[32;1m\u001b[1;3mI have gathered enough information to write an article on India's performance in the Paris Olympics.\n",
            "Final Answer: India won a total of six medals - one silver and five bronze - at the Paris 2024 Olympics, with standout performances from athletes like Manu Bhaker and Neeraj Chopra.\u001b[0m\n",
            "\n",
            "\u001b[1m> Finished chain.\u001b[0m\n"
          ]
        }
      ],
      "source": [
        "q2= \"Write an article based on performance of India in paris olympics based on the above info \"\n",
        "response_2= agent.run(q2)"
      ]
    },
    {
      "cell_type": "code",
      "execution_count": null,
      "metadata": {
        "colab": {
          "base_uri": "https://localhost:8080/",
          "height": 35
        },
        "id": "L9pqMQKjxZEY",
        "outputId": "1e5cf14b-f485-4020-e4d5-09392ed72255"
      },
      "outputs": [
        {
          "data": {
            "application/vnd.google.colaboratory.intrinsic+json": {
              "type": "string"
            },
            "text/plain": [
              "'India won a total of six medals - one silver and five bronze - at the Paris 2024 Olympics, with standout performances from athletes like Manu Bhaker and Neeraj Chopra.'"
            ]
          },
          "execution_count": 28,
          "metadata": {},
          "output_type": "execute_result"
        }
      ],
      "source": [
        "response_2"
      ]
    },
    {
      "cell_type": "code",
      "execution_count": null,
      "metadata": {
        "id": "zz_hW2N1xdA6"
      },
      "outputs": [],
      "source": [
        "decision_prompt= PromptTemplate(\n",
        "    input_variables=[\"query\"],\n",
        "    template= \"\"\"\n",
        "    Query: {query}\n",
        "    Determine if you know the answer to the shared query or it requires searching for it over the\n",
        "    internet. Return \"search\", indicating the need to search the internet for an answer. If not required the answer the query yourself without taking internet's help\"\"\"\n",
        "\n",
        ")\n",
        "decision_chain = LLMChain(llm = llm, prompt = decision_prompt)"
      ]
    },
    {
      "cell_type": "code",
      "execution_count": null,
      "metadata": {
        "id": "YxFobIw4xjAe"
      },
      "outputs": [],
      "source": [
        "def should_use_tool(query):\n",
        "    resp = decision_chain.run(query).strip().lower()\n",
        "    print(resp)\n",
        "    return resp.lower().strip()\n"
      ]
    },
    {
      "cell_type": "code",
      "execution_count": null,
      "metadata": {
        "id": "cpSJZmVpzMhi"
      },
      "outputs": [],
      "source": [
        "def added_search(query):\n",
        "  response_llm = should_use_tool(query)\n",
        "\n",
        "  if (response_llm== \"search\"):\n",
        "    search_results = search.run(query)\n",
        "    print(\"Search Results: \", search_results)\n",
        "\n",
        "    augmented_prompt = f\"Based on the following search, answer the query: {query} \\n\\n {search_results}\\n Answer: \"\n",
        "    final_answer= llm.invoke(augmented_prompt)\n",
        "    return final_answer\n",
        "\n",
        "  else:\n",
        "    response = response_llm\n",
        "    return response"
      ]
    },
    {
      "cell_type": "code",
      "execution_count": null,
      "metadata": {
        "colab": {
          "base_uri": "https://localhost:8080/"
        },
        "id": "4WL9j_aF0n0o",
        "outputId": "52e28399-cfeb-459f-b01e-26892c511d33"
      },
      "outputs": [
        {
          "name": "stdout",
          "output_type": "stream",
          "text": [
            "search\n",
            "Search Results:  The Indian duo of Satwiksairaj Rankireddy and Chirag Shetty started their Paris Olympics voyage with a win over France's Lucas Corvee and Ronan Labar 21-17, 21-14 in the men's doubles Group C ... 1 - Manu Bhaker became the first Indian since independence to win multiple medals at the same edition. Norman Pritchard had also achieved this feat at Paris 1900. 10 - Harmanpreet Singh was crucial to India winning a bronze medal at the Paris Olympics. Of the 15 goals that India scored, 10 of them came from the skipper's stick - eight penalty corners and two penalty strokes. Indian fans had mixed feelings after the Paris Olympics, where the nation won one silver and five bronze medals. This performance, though not surpassing Tokyo 2020, was better than Rio 2016. Despite improvements, India still needs grassroots support. The six fourth-place finishes point to potential future success, but challenges remain. After a record-breaking performance at the Tokyo Olympics, India aimed for a double-digit medal tally at the Paris Olympics 2024. With 117 athletes, the country ended up with six medals—one silver and five bronze—matching its London 2012 haul but falling short of Tokyo's seven medals. A nation woke up to words that many knew were coming and yet they crushed hearts, highlighting how sports is as brutal as it is beautiful and inspiring. With just four days remaining for the 2024 Olympics to conclude, India's sporting fans would concur on one thing: in Paris, the City of Love, India has had a heartbreaking campaign.\n"
          ]
        }
      ],
      "source": [
        "query_1=\"summarise India's performance in paris olympics in 100 words\"\n",
        "response = added_search(query_1)"
      ]
    },
    {
      "cell_type": "code",
      "execution_count": null,
      "metadata": {
        "colab": {
          "base_uri": "https://localhost:8080/"
        },
        "id": "TDsdhuyv02n-",
        "outputId": "494f89f8-497e-4a32-ece6-f7df681452fa"
      },
      "outputs": [
        {
          "name": "stdout",
          "output_type": "stream",
          "text": [
            "content=\"India's performance at the Paris Olympics was a mix of highs and lows. The duo of Satwiksairaj Rankireddy and Chirag Shetty started strong in the men's doubles, while Manu Bhaker made history by winning multiple medals. Harmanpreet Singh's contribution was crucial in securing a bronze medal for India. The nation won one silver and five bronze medals, showing improvement from Rio 2016 but falling short of Tokyo 2020. Despite six fourth-place finishes, India still needs grassroots support for future success. With a goal of double-digit medals in 2024, India's performance in Paris was a mix of disappointment and hope for the future.\" response_metadata={'token_usage': {'completion_tokens': 138, 'prompt_tokens': 372, 'total_tokens': 510}, 'model_name': 'gpt-3.5-turbo', 'system_fingerprint': None, 'finish_reason': 'stop', 'logprobs': None} id='run-7919c557-841d-4155-85f1-f73277d5f568-0'\n"
          ]
        }
      ],
      "source": [
        "print(response)"
      ]
    },
    {
      "cell_type": "code",
      "execution_count": null,
      "metadata": {
        "colab": {
          "base_uri": "https://localhost:8080/"
        },
        "id": "3VvKi6ui08DY",
        "outputId": "9ec13de3-9b5b-43ba-b6f4-36f56e9f10c8"
      },
      "outputs": [
        {
          "name": "stdout",
          "output_type": "stream",
          "text": [
            "Requirement already satisfied: google-cloud_bigquery in /usr/local/lib/python3.10/dist-packages (3.25.0)\n",
            "Requirement already satisfied: google-api-core!=2.0.*,!=2.1.*,!=2.10.*,!=2.2.*,!=2.3.*,!=2.4.*,!=2.5.*,!=2.6.*,!=2.7.*,!=2.8.*,!=2.9.*,<3.0.0dev,>=1.34.1 in /usr/local/lib/python3.10/dist-packages (from google-api-core[grpc]!=2.0.*,!=2.1.*,!=2.10.*,!=2.2.*,!=2.3.*,!=2.4.*,!=2.5.*,!=2.6.*,!=2.7.*,!=2.8.*,!=2.9.*,<3.0.0dev,>=1.34.1->google-cloud_bigquery) (2.19.1)\n",
            "Requirement already satisfied: google-auth<3.0.0dev,>=2.14.1 in /usr/local/lib/python3.10/dist-packages (from google-cloud_bigquery) (2.27.0)\n",
            "Requirement already satisfied: google-cloud-core<3.0.0dev,>=1.6.0 in /usr/local/lib/python3.10/dist-packages (from google-cloud_bigquery) (2.4.1)\n",
            "Requirement already satisfied: google-resumable-media<3.0dev,>=0.6.0 in /usr/local/lib/python3.10/dist-packages (from google-cloud_bigquery) (2.7.2)\n",
            "Requirement already satisfied: packaging>=20.0.0 in /usr/local/lib/python3.10/dist-packages (from google-cloud_bigquery) (24.1)\n",
            "Requirement already satisfied: python-dateutil<3.0dev,>=2.7.2 in /usr/local/lib/python3.10/dist-packages (from google-cloud_bigquery) (2.8.2)\n",
            "Requirement already satisfied: requests<3.0.0dev,>=2.21.0 in /usr/local/lib/python3.10/dist-packages (from google-cloud_bigquery) (2.32.3)\n",
            "Requirement already satisfied: googleapis-common-protos<2.0.dev0,>=1.56.2 in /usr/local/lib/python3.10/dist-packages (from google-api-core!=2.0.*,!=2.1.*,!=2.10.*,!=2.2.*,!=2.3.*,!=2.4.*,!=2.5.*,!=2.6.*,!=2.7.*,!=2.8.*,!=2.9.*,<3.0.0dev,>=1.34.1->google-api-core[grpc]!=2.0.*,!=2.1.*,!=2.10.*,!=2.2.*,!=2.3.*,!=2.4.*,!=2.5.*,!=2.6.*,!=2.7.*,!=2.8.*,!=2.9.*,<3.0.0dev,>=1.34.1->google-cloud_bigquery) (1.63.2)\n",
            "Requirement already satisfied: protobuf!=3.20.0,!=3.20.1,!=4.21.0,!=4.21.1,!=4.21.2,!=4.21.3,!=4.21.4,!=4.21.5,<6.0.0.dev0,>=3.19.5 in /usr/local/lib/python3.10/dist-packages (from google-api-core!=2.0.*,!=2.1.*,!=2.10.*,!=2.2.*,!=2.3.*,!=2.4.*,!=2.5.*,!=2.6.*,!=2.7.*,!=2.8.*,!=2.9.*,<3.0.0dev,>=1.34.1->google-api-core[grpc]!=2.0.*,!=2.1.*,!=2.10.*,!=2.2.*,!=2.3.*,!=2.4.*,!=2.5.*,!=2.6.*,!=2.7.*,!=2.8.*,!=2.9.*,<3.0.0dev,>=1.34.1->google-cloud_bigquery) (3.20.3)\n",
            "Requirement already satisfied: proto-plus<2.0.0dev,>=1.22.3 in /usr/local/lib/python3.10/dist-packages (from google-api-core!=2.0.*,!=2.1.*,!=2.10.*,!=2.2.*,!=2.3.*,!=2.4.*,!=2.5.*,!=2.6.*,!=2.7.*,!=2.8.*,!=2.9.*,<3.0.0dev,>=1.34.1->google-api-core[grpc]!=2.0.*,!=2.1.*,!=2.10.*,!=2.2.*,!=2.3.*,!=2.4.*,!=2.5.*,!=2.6.*,!=2.7.*,!=2.8.*,!=2.9.*,<3.0.0dev,>=1.34.1->google-cloud_bigquery) (1.24.0)\n",
            "Requirement already satisfied: grpcio<2.0dev,>=1.33.2 in /usr/local/lib/python3.10/dist-packages (from google-api-core[grpc]!=2.0.*,!=2.1.*,!=2.10.*,!=2.2.*,!=2.3.*,!=2.4.*,!=2.5.*,!=2.6.*,!=2.7.*,!=2.8.*,!=2.9.*,<3.0.0dev,>=1.34.1->google-cloud_bigquery) (1.64.1)\n",
            "Requirement already satisfied: grpcio-status<2.0.dev0,>=1.33.2 in /usr/local/lib/python3.10/dist-packages (from google-api-core[grpc]!=2.0.*,!=2.1.*,!=2.10.*,!=2.2.*,!=2.3.*,!=2.4.*,!=2.5.*,!=2.6.*,!=2.7.*,!=2.8.*,!=2.9.*,<3.0.0dev,>=1.34.1->google-cloud_bigquery) (1.48.2)\n",
            "Requirement already satisfied: cachetools<6.0,>=2.0.0 in /usr/local/lib/python3.10/dist-packages (from google-auth<3.0.0dev,>=2.14.1->google-cloud_bigquery) (5.5.0)\n",
            "Requirement already satisfied: pyasn1-modules>=0.2.1 in /usr/local/lib/python3.10/dist-packages (from google-auth<3.0.0dev,>=2.14.1->google-cloud_bigquery) (0.4.0)\n",
            "Requirement already satisfied: rsa<5,>=3.1.4 in /usr/local/lib/python3.10/dist-packages (from google-auth<3.0.0dev,>=2.14.1->google-cloud_bigquery) (4.9)\n",
            "Requirement already satisfied: google-crc32c<2.0dev,>=1.0 in /usr/local/lib/python3.10/dist-packages (from google-resumable-media<3.0dev,>=0.6.0->google-cloud_bigquery) (1.5.0)\n",
            "Requirement already satisfied: six>=1.5 in /usr/local/lib/python3.10/dist-packages (from python-dateutil<3.0dev,>=2.7.2->google-cloud_bigquery) (1.16.0)\n",
            "Requirement already satisfied: charset-normalizer<4,>=2 in /usr/local/lib/python3.10/dist-packages (from requests<3.0.0dev,>=2.21.0->google-cloud_bigquery) (3.3.2)\n",
            "Requirement already satisfied: idna<4,>=2.5 in /usr/local/lib/python3.10/dist-packages (from requests<3.0.0dev,>=2.21.0->google-cloud_bigquery) (3.7)\n",
            "Requirement already satisfied: urllib3<3,>=1.21.1 in /usr/local/lib/python3.10/dist-packages (from requests<3.0.0dev,>=2.21.0->google-cloud_bigquery) (2.0.7)\n",
            "Requirement already satisfied: certifi>=2017.4.17 in /usr/local/lib/python3.10/dist-packages (from requests<3.0.0dev,>=2.21.0->google-cloud_bigquery) (2024.7.4)\n",
            "Requirement already satisfied: pyasn1<0.7.0,>=0.4.6 in /usr/local/lib/python3.10/dist-packages (from pyasn1-modules>=0.2.1->google-auth<3.0.0dev,>=2.14.1->google-cloud_bigquery) (0.6.0)\n"
          ]
        }
      ],
      "source": [
        "!pip install google-cloud_bigquery"
      ]
    },
    {
      "cell_type": "code",
      "execution_count": null,
      "metadata": {
        "id": "qTAXN5Lp4KOA"
      },
      "outputs": [],
      "source": [
        "!pip install --upgrade --quiet langchain-google-community[bigquery]\n",
        "\n"
      ]
    },
    {
      "cell_type": "code",
      "execution_count": null,
      "metadata": {
        "colab": {
          "base_uri": "https://localhost:8080/"
        },
        "id": "nbc8E2E74i1A",
        "outputId": "18325363-b376-4443-e16a-36c1a6dd8fb8"
      },
      "outputs": [
        {
          "name": "stdout",
          "output_type": "stream",
          "text": [
            "Downloading...\n",
            "From: https://drive.google.com/uc?id=18eLwWy0rmK4BQJxL1bJkxcItKrl1jL6v\n",
            "To: /content/Bank-Records.csv\n",
            "\r  0% 0.00/837k [00:00<?, ?B/s]\r100% 837k/837k [00:00<00:00, 43.1MB/s]\n"
          ]
        }
      ],
      "source": [
        "!gdown 18eLwWy0rmK4BQJxL1bJkxcItKrl1jL6v"
      ]
    },
    {
      "cell_type": "code",
      "execution_count": null,
      "metadata": {
        "colab": {
          "base_uri": "https://localhost:8080/"
        },
        "id": "TTnC85YA5nJg",
        "outputId": "e1de07f2-71af-47c0-811c-c0e9d33a80e2"
      },
      "outputs": [
        {
          "name": "stdout",
          "output_type": "stream",
          "text": [
            "Collecting SQLAlchemy-bigquery\n",
            "  Downloading sqlalchemy_bigquery-1.11.0-py2.py3-none-any.whl.metadata (15 kB)\n",
            "Requirement already satisfied: google-api-core!=2.0.*,!=2.1.*,!=2.2.*,!=2.3.0,<3.0.0dev,>=1.31.5 in /usr/local/lib/python3.10/dist-packages (from SQLAlchemy-bigquery) (2.19.1)\n",
            "Requirement already satisfied: google-auth<3.0.0dev,>=1.25.0 in /usr/local/lib/python3.10/dist-packages (from SQLAlchemy-bigquery) (2.27.0)\n",
            "Requirement already satisfied: google-cloud-bigquery<4.0.0dev,>=3.3.6 in /usr/local/lib/python3.10/dist-packages (from SQLAlchemy-bigquery) (3.25.0)\n",
            "Requirement already satisfied: packaging in /usr/local/lib/python3.10/dist-packages (from SQLAlchemy-bigquery) (24.1)\n",
            "Requirement already satisfied: sqlalchemy<3.0.0dev,>=1.4.16 in /usr/local/lib/python3.10/dist-packages (from SQLAlchemy-bigquery) (2.0.32)\n",
            "Requirement already satisfied: googleapis-common-protos<2.0.dev0,>=1.56.2 in /usr/local/lib/python3.10/dist-packages (from google-api-core!=2.0.*,!=2.1.*,!=2.2.*,!=2.3.0,<3.0.0dev,>=1.31.5->SQLAlchemy-bigquery) (1.63.2)\n",
            "Requirement already satisfied: protobuf!=3.20.0,!=3.20.1,!=4.21.0,!=4.21.1,!=4.21.2,!=4.21.3,!=4.21.4,!=4.21.5,<6.0.0.dev0,>=3.19.5 in /usr/local/lib/python3.10/dist-packages (from google-api-core!=2.0.*,!=2.1.*,!=2.2.*,!=2.3.0,<3.0.0dev,>=1.31.5->SQLAlchemy-bigquery) (3.20.3)\n",
            "Requirement already satisfied: proto-plus<2.0.0dev,>=1.22.3 in /usr/local/lib/python3.10/dist-packages (from google-api-core!=2.0.*,!=2.1.*,!=2.2.*,!=2.3.0,<3.0.0dev,>=1.31.5->SQLAlchemy-bigquery) (1.24.0)\n",
            "Requirement already satisfied: requests<3.0.0.dev0,>=2.18.0 in /usr/local/lib/python3.10/dist-packages (from google-api-core!=2.0.*,!=2.1.*,!=2.2.*,!=2.3.0,<3.0.0dev,>=1.31.5->SQLAlchemy-bigquery) (2.32.3)\n",
            "Requirement already satisfied: cachetools<6.0,>=2.0.0 in /usr/local/lib/python3.10/dist-packages (from google-auth<3.0.0dev,>=1.25.0->SQLAlchemy-bigquery) (5.5.0)\n",
            "Requirement already satisfied: pyasn1-modules>=0.2.1 in /usr/local/lib/python3.10/dist-packages (from google-auth<3.0.0dev,>=1.25.0->SQLAlchemy-bigquery) (0.4.0)\n",
            "Requirement already satisfied: rsa<5,>=3.1.4 in /usr/local/lib/python3.10/dist-packages (from google-auth<3.0.0dev,>=1.25.0->SQLAlchemy-bigquery) (4.9)\n",
            "Requirement already satisfied: google-cloud-core<3.0.0dev,>=1.6.0 in /usr/local/lib/python3.10/dist-packages (from google-cloud-bigquery<4.0.0dev,>=3.3.6->SQLAlchemy-bigquery) (2.4.1)\n",
            "Requirement already satisfied: google-resumable-media<3.0dev,>=0.6.0 in /usr/local/lib/python3.10/dist-packages (from google-cloud-bigquery<4.0.0dev,>=3.3.6->SQLAlchemy-bigquery) (2.7.2)\n",
            "Requirement already satisfied: python-dateutil<3.0dev,>=2.7.2 in /usr/local/lib/python3.10/dist-packages (from google-cloud-bigquery<4.0.0dev,>=3.3.6->SQLAlchemy-bigquery) (2.8.2)\n",
            "Requirement already satisfied: typing-extensions>=4.6.0 in /usr/local/lib/python3.10/dist-packages (from sqlalchemy<3.0.0dev,>=1.4.16->SQLAlchemy-bigquery) (4.12.2)\n",
            "Requirement already satisfied: greenlet!=0.4.17 in /usr/local/lib/python3.10/dist-packages (from sqlalchemy<3.0.0dev,>=1.4.16->SQLAlchemy-bigquery) (3.0.3)\n",
            "Requirement already satisfied: grpcio<2.0dev,>=1.33.2 in /usr/local/lib/python3.10/dist-packages (from google-api-core[grpc]!=2.0.*,!=2.1.*,!=2.10.*,!=2.2.*,!=2.3.*,!=2.4.*,!=2.5.*,!=2.6.*,!=2.7.*,!=2.8.*,!=2.9.*,<3.0.0dev,>=1.34.1->google-cloud-bigquery<4.0.0dev,>=3.3.6->SQLAlchemy-bigquery) (1.64.1)\n",
            "Requirement already satisfied: grpcio-status<2.0.dev0,>=1.33.2 in /usr/local/lib/python3.10/dist-packages (from google-api-core[grpc]!=2.0.*,!=2.1.*,!=2.10.*,!=2.2.*,!=2.3.*,!=2.4.*,!=2.5.*,!=2.6.*,!=2.7.*,!=2.8.*,!=2.9.*,<3.0.0dev,>=1.34.1->google-cloud-bigquery<4.0.0dev,>=3.3.6->SQLAlchemy-bigquery) (1.48.2)\n",
            "Requirement already satisfied: google-crc32c<2.0dev,>=1.0 in /usr/local/lib/python3.10/dist-packages (from google-resumable-media<3.0dev,>=0.6.0->google-cloud-bigquery<4.0.0dev,>=3.3.6->SQLAlchemy-bigquery) (1.5.0)\n",
            "Requirement already satisfied: pyasn1<0.7.0,>=0.4.6 in /usr/local/lib/python3.10/dist-packages (from pyasn1-modules>=0.2.1->google-auth<3.0.0dev,>=1.25.0->SQLAlchemy-bigquery) (0.6.0)\n",
            "Requirement already satisfied: six>=1.5 in /usr/local/lib/python3.10/dist-packages (from python-dateutil<3.0dev,>=2.7.2->google-cloud-bigquery<4.0.0dev,>=3.3.6->SQLAlchemy-bigquery) (1.16.0)\n",
            "Requirement already satisfied: charset-normalizer<4,>=2 in /usr/local/lib/python3.10/dist-packages (from requests<3.0.0.dev0,>=2.18.0->google-api-core!=2.0.*,!=2.1.*,!=2.2.*,!=2.3.0,<3.0.0dev,>=1.31.5->SQLAlchemy-bigquery) (3.3.2)\n",
            "Requirement already satisfied: idna<4,>=2.5 in /usr/local/lib/python3.10/dist-packages (from requests<3.0.0.dev0,>=2.18.0->google-api-core!=2.0.*,!=2.1.*,!=2.2.*,!=2.3.0,<3.0.0dev,>=1.31.5->SQLAlchemy-bigquery) (3.7)\n",
            "Requirement already satisfied: urllib3<3,>=1.21.1 in /usr/local/lib/python3.10/dist-packages (from requests<3.0.0.dev0,>=2.18.0->google-api-core!=2.0.*,!=2.1.*,!=2.2.*,!=2.3.0,<3.0.0dev,>=1.31.5->SQLAlchemy-bigquery) (2.0.7)\n",
            "Requirement already satisfied: certifi>=2017.4.17 in /usr/local/lib/python3.10/dist-packages (from requests<3.0.0.dev0,>=2.18.0->google-api-core!=2.0.*,!=2.1.*,!=2.2.*,!=2.3.0,<3.0.0dev,>=1.31.5->SQLAlchemy-bigquery) (2024.7.4)\n",
            "Downloading sqlalchemy_bigquery-1.11.0-py2.py3-none-any.whl (36 kB)\n",
            "Installing collected packages: SQLAlchemy-bigquery\n",
            "Successfully installed SQLAlchemy-bigquery-1.11.0\n"
          ]
        }
      ],
      "source": [
        "! pip install SQLAlchemy-bigquery"
      ]
    },
    {
      "cell_type": "code",
      "execution_count": null,
      "metadata": {
        "id": "atq7B-5D6WD3"
      },
      "outputs": [],
      "source": [
        "from langchain.agents import create_sql_agent\n",
        "from langchain.agents.agent_toolkits import SQLDatabaseToolkit\n",
        "from langchain.sql_database import SQLDatabase\n",
        "from langchain_experimental.sql import SQLDatabaseChain"
      ]
    },
    {
      "cell_type": "code",
      "execution_count": null,
      "metadata": {
        "id": "wG31L9_362Ve"
      },
      "outputs": [],
      "source": [
        "dataset= 'bank_records_genai'\n",
        "project = 'scaler-ds-ml-de'\n",
        "creds_file = '/content/scaler-ds-ml-de-2ec572d469f2.json'\n",
        "\n",
        "# SQLAlchemy connection\n",
        "sqlalchemy_url = f\"bigquery://{project}/{dataset}?credentials_path={creds_file}\"\n",
        "\n",
        "\n",
        "db = SQLDatabase.from_uri(sqlalchemy_url)"
      ]
    },
    {
      "cell_type": "code",
      "execution_count": null,
      "metadata": {
        "id": "f_euVxRV9J9G"
      },
      "outputs": [],
      "source": []
    },
    {
      "cell_type": "code",
      "execution_count": null,
      "metadata": {
        "id": "bg3e80RT75sT"
      },
      "outputs": [],
      "source": []
    },
    {
      "cell_type": "code",
      "execution_count": null,
      "metadata": {
        "colab": {
          "base_uri": "https://localhost:8080/",
          "height": 749
        },
        "id": "BTYtnbgI9BGT",
        "outputId": "ebeacefc-6756-495b-f1d4-3ebced5dbd9b"
      },
      "outputs": [
        {
          "name": "stdout",
          "output_type": "stream",
          "text": [
            "\n",
            "\n",
            "\u001b[1m> Entering new SQL Agent Executor chain...\u001b[0m\n",
            "\u001b[32;1m\u001b[1;3mAction: sql_db_list_tables\n",
            "Action Input: \u001b[0m\u001b[38;5;200m\u001b[1;3mbank_records\u001b[0m\u001b[32;1m\u001b[1;3mI should query the schema of the bank_records table to see if there is a column for credit score.\n",
            "Action: sql_db_schema\n",
            "Action Input: bank_records\u001b[0m\u001b[33;1m\u001b[1;3m\n",
            "CREATE TABLE `bank_records` (\n",
            "\t`RowNumber` INT64, \n",
            "\t`CustomerId` INT64, \n",
            "\t`Surname` STRING, \n",
            "\t`CreditScore` INT64, \n",
            "\t`Geography` STRING, \n",
            "\t`Gender` STRING, \n",
            "\t`Age` INT64, \n",
            "\t`Tenure` INT64, \n",
            "\t`Balance` FLOAT64, \n",
            "\t`NumOfProducts` INT64, \n",
            "\t`HasCrCard` INT64, \n",
            "\t`IsActiveMember` INT64, \n",
            "\t`EstimatedSalary` FLOAT64, \n",
            "\t`Exited` INT64, \n",
            "\t`Complain` INT64, \n",
            "\t`Satisfaction_Score` INT64, \n",
            "\t`Card_Type` STRING, \n",
            "\t`Point_Earned` INT64\n",
            ")\n",
            "\n",
            "/*\n",
            "3 rows from bank_records table:\n",
            "RowNumber\tCustomerId\tSurname\tCreditScore\tGeography\tGender\tAge\tTenure\tBalance\tNumOfProducts\tHasCrCard\tIsActiveMember\tEstimatedSalary\tExited\tComplain\tSatisfaction_Score\tCard_Type\tPoint_Earned\n",
            "58\t15647091\tEndrizzi\t725\tGermany\tMale\t19\t0\t75888.2\t1\t0\t0\t45613.75\t0\t0\t2\tPLATINUM\t406\n",
            "1686\t15713826\tFerguson\t613\tGermany\tFemale\t20\t0\t117356.19\t1\t0\t0\t113557.7\t1\t1\t4\tDIAMOND\t637\n",
            "6547\t15633840\tHenderson\t781\tFrance\tMale\t20\t0\t125023.1\t2\t1\t1\t108301.45\t0\t0\t3\tPLATINUM\t295\n",
            "*/\u001b[0m\u001b[32;1m\u001b[1;3mI can now construct a query to count the number of people with a credit score greater than 500 in the bank_records table.\n",
            "Action: sql_db_query\n",
            "Action Input: SELECT COUNT(*) FROM bank_records WHERE CreditScore > 500\u001b[0m\u001b[36;1m\u001b[1;3m[(9357,)]\u001b[0m\u001b[32;1m\u001b[1;3mI now know the final answer\n",
            "Final Answer: 9357 people have a credit score greater than 500.\u001b[0m\n",
            "\n",
            "\u001b[1m> Finished chain.\u001b[0m\n"
          ]
        },
        {
          "data": {
            "application/vnd.google.colaboratory.intrinsic+json": {
              "type": "string"
            },
            "text/plain": [
              "'9357 people have a credit score greater than 500.'"
            ]
          },
          "execution_count": 51,
          "metadata": {},
          "output_type": "execute_result"
        }
      ],
      "source": [
        "agent_executor= create_sql_agent(llm= llm,\n",
        "                 toolkit = SQLDatabaseToolkit(db=db, llm=llm),\n",
        "                 top_k =1000,\n",
        "                 verbose=True\n",
        "                 )\n",
        "query= \"how many people have credit score > 500\"\n",
        "\n",
        "agent_executor.run(query)"
      ]
    },
    {
      "cell_type": "code",
      "execution_count": null,
      "metadata": {
        "id": "pRmJvu249pz_"
      },
      "outputs": [],
      "source": [
        "query= \"what's the average number of points for every card type\""
      ]
    },
    {
      "cell_type": "code",
      "execution_count": null,
      "metadata": {
        "colab": {
          "base_uri": "https://localhost:8080/",
          "height": 819
        },
        "id": "m3OgonrV-DbY",
        "outputId": "98add30c-40ab-4be2-fd67-e8ecfaaa50b7"
      },
      "outputs": [
        {
          "name": "stdout",
          "output_type": "stream",
          "text": [
            "\n",
            "\n",
            "\u001b[1m> Entering new SQL Agent Executor chain...\u001b[0m\n",
            "\u001b[32;1m\u001b[1;3mAction: sql_db_list_tables\n",
            "Action Input: \u001b[0m\u001b[38;5;200m\u001b[1;3mbank_records\u001b[0m\u001b[32;1m\u001b[1;3mI should query the schema of the bank_records table to see if it contains information about card types and points.\n",
            "Action: sql_db_schema\n",
            "Action Input: bank_records\u001b[0m\u001b[33;1m\u001b[1;3m\n",
            "CREATE TABLE `bank_records` (\n",
            "\t`RowNumber` INT64, \n",
            "\t`CustomerId` INT64, \n",
            "\t`Surname` STRING, \n",
            "\t`CreditScore` INT64, \n",
            "\t`Geography` STRING, \n",
            "\t`Gender` STRING, \n",
            "\t`Age` INT64, \n",
            "\t`Tenure` INT64, \n",
            "\t`Balance` FLOAT64, \n",
            "\t`NumOfProducts` INT64, \n",
            "\t`HasCrCard` INT64, \n",
            "\t`IsActiveMember` INT64, \n",
            "\t`EstimatedSalary` FLOAT64, \n",
            "\t`Exited` INT64, \n",
            "\t`Complain` INT64, \n",
            "\t`Satisfaction_Score` INT64, \n",
            "\t`Card_Type` STRING, \n",
            "\t`Point_Earned` INT64\n",
            ")\n",
            "\n",
            "/*\n",
            "3 rows from bank_records table:\n",
            "RowNumber\tCustomerId\tSurname\tCreditScore\tGeography\tGender\tAge\tTenure\tBalance\tNumOfProducts\tHasCrCard\tIsActiveMember\tEstimatedSalary\tExited\tComplain\tSatisfaction_Score\tCard_Type\tPoint_Earned\n",
            "58\t15647091\tEndrizzi\t725\tGermany\tMale\t19\t0\t75888.2\t1\t0\t0\t45613.75\t0\t0\t2\tPLATINUM\t406\n",
            "1686\t15713826\tFerguson\t613\tGermany\tFemale\t20\t0\t117356.19\t1\t0\t0\t113557.7\t1\t1\t4\tDIAMOND\t637\n",
            "6547\t15633840\tHenderson\t781\tFrance\tMale\t20\t0\t125023.1\t2\t1\t1\t108301.45\t0\t0\t3\tPLATINUM\t295\n",
            "*/\u001b[0m\u001b[32;1m\u001b[1;3mI can use the `Card_Type` and `Point_Earned` columns from the `bank_records` table to calculate the average number of points for each card type.\n",
            "Action: sql_db_query\n",
            "Action Input: SELECT Card_Type, AVG(Point_Earned) AS Average_Points FROM bank_records GROUP BY Card_Type\u001b[0m\u001b[36;1m\u001b[1;3m[('PLATINUM', 608.839679358717), ('DIAMOND', 605.9836457917811), ('SILVER', 604.0028044871805), ('GOLD', 607.2358113509207)]\u001b[0m\u001b[32;1m\u001b[1;3mI now know the final answer. \n",
            "Final Answer: The average number of points for each card type are as follows:\n",
            "- PLATINUM: 608.84\n",
            "- DIAMOND: 605.98\n",
            "- SILVER: 604.00\n",
            "- GOLD: 607.24\u001b[0m\n",
            "\n",
            "\u001b[1m> Finished chain.\u001b[0m\n"
          ]
        },
        {
          "data": {
            "application/vnd.google.colaboratory.intrinsic+json": {
              "type": "string"
            },
            "text/plain": [
              "'The average number of points for each card type are as follows:\\n- PLATINUM: 608.84\\n- DIAMOND: 605.98\\n- SILVER: 604.00\\n- GOLD: 607.24'"
            ]
          },
          "execution_count": 53,
          "metadata": {},
          "output_type": "execute_result"
        }
      ],
      "source": [
        "agent_executor.run(query)"
      ]
    },
    {
      "cell_type": "code",
      "execution_count": null,
      "metadata": {
        "id": "x2HOfcPn-EuP"
      },
      "outputs": [],
      "source": []
    }
  ],
  "metadata": {
    "colab": {
      "provenance": []
    },
    "kernelspec": {
      "display_name": "Python 3",
      "name": "python3"
    },
    "language_info": {
      "name": "python"
    }
  },
  "nbformat": 4,
  "nbformat_minor": 0
}
