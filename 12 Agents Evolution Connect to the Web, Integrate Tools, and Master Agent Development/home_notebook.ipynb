{
 "cells": [
  {
   "cell_type": "code",
   "execution_count": 1,
   "metadata": {},
   "outputs": [
    {
     "data": {
      "text/plain": [
       "True"
      ]
     },
     "execution_count": 1,
     "metadata": {},
     "output_type": "execute_result"
    }
   ],
   "source": [
    "from langchain_openai import AzureChatOpenAI\n",
    "import os\n",
    "from dotenv import load_dotenv\n",
    "\n",
    "load_dotenv()"
   ]
  },
  {
   "cell_type": "code",
   "execution_count": 2,
   "metadata": {},
   "outputs": [],
   "source": [
    "llm = AzureChatOpenAI(\n",
    "    model=\"gpt-35-turbo\",\n",
    "    api_key=os.getenv(\"AZURE_OPENAI_API_KEY\"),\n",
    "    api_version = \"2023-03-15-preview\",\n",
    "    temperature=0.5,\n",
    "    azure_endpoint = os.getenv(\"AZURE_BASE_URL\"),\n",
    ")"
   ]
  },
  {
   "cell_type": "code",
   "execution_count": 3,
   "metadata": {},
   "outputs": [],
   "source": [
    "# Agent for live search, will use open-source duckduckgo package \n",
    "\n",
    "# ! pip install -U duckduckgo-search"
   ]
  },
  {
   "cell_type": "code",
   "execution_count": 4,
   "metadata": {},
   "outputs": [],
   "source": [
    "from langchain_community.tools import DuckDuckGoSearchRun"
   ]
  },
  {
   "cell_type": "code",
   "execution_count": 5,
   "metadata": {},
   "outputs": [
    {
     "data": {
      "text/plain": [
       "\"In a match that came as close as it gets, Netherlands men's hockey defeated Germany 1(3)-1(1) in an overtime shootout on Thursday, 8 August at the Olympic Games Paris 2024 to clinch their first Olympic gold medal in the men's competition since Sydney 2000.. It was almost as if they had a home-team advantage, as a sea of orange flooded the stadium with support for the Dutch, making for an ... The Indian men's hockey team won the bronze medal at the Paris 2024 Olympics.. India, who won a bronze medal at Tokyo 2020 to end a 41-year-long medal drought in hockey, secured their second successive medal in the sport at the Summer Games and 13th overall.Heading into Paris 2024, India were the most successful hockey team in Olympic history with eight gold, one silver and three bronze medals. The Netherlands won their first men's hockey Olympic gold medal in 24 years by beating Germany on penalties in a thrilling final at Paris 2024. The Netherlands won their first men's hockey Olympic ... Item 1 of 3 Paris 2024 Olympics - Hockey - Men's Gold Medal Match - Germany vs Netherlands - Yves-du-Manoir Stadium, Colombes, France - August 08, 2024. India defeated Spain 2-1 in the men's hockey bronze medal match at Paris 2024 on Thursday (8 August) thanks to a brace by Harmanpreet Singh.. The victory marks India's 13th Olympic medal in hockey, their fourth bronze and a second consecutive bronze after winning one at Tokyo 2020. It is also the first time since 1972 that the nation has won back-to-back medals in hockey.\""
      ]
     },
     "execution_count": 5,
     "metadata": {},
     "output_type": "execute_result"
    }
   ],
   "source": [
    "search = DuckDuckGoSearchRun()\n",
    "search.invoke(\"Who won the medal in mens hockey in olympics 2024?\")"
   ]
  },
  {
   "cell_type": "code",
   "execution_count": 7,
   "metadata": {},
   "outputs": [
    {
     "data": {
      "text/plain": [
       "AIMessage(content=\"I'm sorry, but I am an AI language model and I cannot predict future events. The Olympics in 2024 have not yet occurred, so there is no information available on who will win the medal for men's hockey.\", response_metadata={'token_usage': {'completion_tokens': 46, 'prompt_tokens': 34, 'total_tokens': 80}, 'model_name': 'gpt-35-turbo', 'system_fingerprint': None, 'finish_reason': 'stop', 'logprobs': None, 'content_filter_results': {}}, id='run-ba9626cb-8b0f-40c9-8243-053ab122e9bc-0', usage_metadata={'input_tokens': 34, 'output_tokens': 46, 'total_tokens': 80})"
      ]
     },
     "execution_count": 7,
     "metadata": {},
     "output_type": "execute_result"
    }
   ],
   "source": [
    "# checking without agents\n",
    "messages=[(\"system\", \"You are a helpful assistant.\"),\n",
    "           (\"human\", \"Who won the medal for mens hockey in olympics 2024?\")]\n",
    "\n",
    "llm.invoke(messages)"
   ]
  },
  {
   "cell_type": "code",
   "execution_count": 17,
   "metadata": {},
   "outputs": [],
   "source": [
    "from langchain.memory import ConversationBufferMemory\n",
    "from langchain.agents.initialize import initialize_agent\n",
    "from langchain.tools import Tool\n",
    "from langchain.agents.agent_types import AgentType"
   ]
  },
  {
   "cell_type": "code",
   "execution_count": 18,
   "metadata": {},
   "outputs": [],
   "source": [
    "search = DuckDuckGoSearchRun()\n",
    "\n",
    "search_tools = Tool(\n",
    "    name=\"DuckDuckGoSearch\",\n",
    "    func=search.run,\n",
    "    description=\"Conducts a web search usong DuckDuckGo and provides Up-to-date information.\"\n",
    ")\n",
    "\n",
    "memory = ConversationBufferMemory(memory_key=\"chat_history\", return_messages=True)"
   ]
  },
  {
   "cell_type": "code",
   "execution_count": 41,
   "metadata": {},
   "outputs": [],
   "source": [
    "agent = initialize_agent(\n",
    "    tools=[search_tools],\n",
    "    llm=llm,\n",
    "    memory=memory,\n",
    "    verbose=True,\n",
    "    handle_parsing_errors=True,\n",
    "    agent_type = AgentType.CONVERSATIONAL_REACT_DESCRIPTION\n",
    ")"
   ]
  },
  {
   "cell_type": "code",
   "execution_count": 22,
   "metadata": {},
   "outputs": [
    {
     "name": "stdout",
     "output_type": "stream",
     "text": [
      "\n",
      "\n",
      "\u001b[1m> Entering new AgentExecutor chain...\u001b[0m\n",
      "\u001b[32;1m\u001b[1;3mI need to search for information on India's performance in the Paris Olympics.\n",
      "Action: DuckDuckGoSearch\n",
      "Action Input: \"India's performance in Paris Olympics\"\u001b[0m\n",
      "Observation: \u001b[36;1m\u001b[1;3mBronze medalist Swapnil Kusale of Team India poses with his medal in the 50m Rifle 3 Positions Men's Final on day six of the Olympic Games Paris 2024. India won a total of six medals -- one silver ... Here is a look at India's performance in athletics in Paris. Trending. 4. India consistently disappoints across several track events at Paris Olympics 2024 ... One of India's best performers at ... A 29-member Indian athletics team, headlined by Neeraj Chopra, competed at the Paris 2024 Olympics from August 1 to 9. Athletics kicked off on August 1 with race walking, the track and field events began on August 2.. Athletics at the Olympics included 48 medal events in all. They were held across four venues: Pont d'Iéna for race walking, Hôtel de Ville and Les Invalides for the start and ... Hockey: India beat Spain in the men's bronze medal match, their 13th Olympic podium. The Indian men's hockey team trumped Spain 2-1 in the bronze medal match at the Paris 2024 Olympics. As a result, Harmanpreet Singh and Co. replicated their finish from Tokyo 2020. The curtains have drawn on the Paris Olympics, and for India, it was a campaign of mixed fortunes.The nation, which sent one of its largest-ever contingent of 117 athletes, ended the Games with a ...\u001b[0m\n",
      "Thought:\u001b[32;1m\u001b[1;3mThere is a lot of information about India's performance in the Paris Olympics, I need to read through it to get a clear understanding.\u001b[0m\n",
      "Observation: Invalid Format: Missing 'Action:' after 'Thought:\n",
      "Thought:\u001b[32;1m\u001b[1;3mI need to summarize the information I found.\n",
      "Final Answer: India won a total of six medals, including a bronze in the 50m Rifle 3 Positions Men's Final and a bronze in men's hockey. The athletics team, headlined by Neeraj Chopra, competed in several track events but did not perform well. Overall, it was a campaign of mixed fortunes for India at the Paris Olympics.\u001b[0m\n",
      "\n",
      "\u001b[1m> Finished chain.\u001b[0m\n"
     ]
    },
    {
     "data": {
      "text/plain": [
       "\"India won a total of six medals, including a bronze in the 50m Rifle 3 Positions Men's Final and a bronze in men's hockey. The athletics team, headlined by Neeraj Chopra, competed in several track events but did not perform well. Overall, it was a campaign of mixed fortunes for India at the Paris Olympics.\""
      ]
     },
     "execution_count": 22,
     "metadata": {},
     "output_type": "execute_result"
    }
   ],
   "source": [
    "q1= \"India's performance in Paris Olympics?\"\n",
    "agent.run(q1)"
   ]
  },
  {
   "cell_type": "code",
   "execution_count": 23,
   "metadata": {},
   "outputs": [
    {
     "name": "stdout",
     "output_type": "stream",
     "text": [
      "\n",
      "\n",
      "\u001b[1m> Entering new AgentExecutor chain...\u001b[0m\n",
      "\u001b[32;1m\u001b[1;3mI need to gather information on India's performance in the Paris Olympics\n",
      "Action: DuckDuckGoSearch\n",
      "Action Input: \"India's performance in Paris Olympics\"\u001b[0m\n",
      "Observation: \u001b[36;1m\u001b[1;3mBronze medalist Swapnil Kusale of Team India poses with his medal in the 50m Rifle 3 Positions Men's Final on day six of the Olympic Games Paris 2024. India won a total of six medals -- one silver ... A 29-member Indian athletics team, headlined by Neeraj Chopra, competed at the Paris 2024 Olympics from August 1 to 9. Athletics kicked off on August 1 with race walking, the track and field events began on August 2.. Athletics at the Olympics included 48 medal events in all. They were held across four venues: Pont d'Iéna for race walking, Hôtel de Ville and Les Invalides for the start and ... Hockey: India beat Spain in the men's bronze medal match, their 13th Olympic podium. The Indian men's hockey team trumped Spain 2-1 in the bronze medal match at the Paris 2024 Olympics. As a result, Harmanpreet Singh and Co. replicated their finish from Tokyo 2020. Here is a look at India's performance in athletics in Paris. Trending. 4. India consistently disappoints across several track events at Paris Olympics 2024 ... One of India's best performers at ... Paris Olympics 2024 News: India won six medals at the 33rd Summer Games, including five bronze and one silver. ... Harmanpreet Singh's exceptional performance played a crucial role in India's ...\u001b[0m\n",
      "Thought:\u001b[32;1m\u001b[1;3mI need to read through the information and gather important points for the article\n",
      "Action: Read through the information provided\u001b[0m\n",
      "Observation: Invalid Format: Missing 'Action Input:' after 'Action:'\n",
      "Thought:\u001b[32;1m\u001b[1;3mI need to summarize India's performance in the Paris Olympics for the article\n",
      "Action: Read through the information provided and gather important points\u001b[0m\n",
      "Observation: Invalid Format: Missing 'Action Input:' after 'Action:'\n",
      "Thought:\u001b[32;1m\u001b[1;3mI need to gather important points on India's medal count and notable performances in the Paris Olympics\n",
      "Action: DuckDuckGoSearch\n",
      "Action Input: \"India medal count and notable performances in Paris Olympics\"\u001b[0m\n",
      "Observation: \u001b[36;1m\u001b[1;3mA total of 117 Indian athletes made up the contingent that went on the hunt for medals and sporting immortality at the Paris 2024 Olympics, which ran from July 26 to August 11.. In all, India won six medals - a silver and five bronze - at the Paris 2024 Olympics. Manu Bhaker won the first medal for India at the Paris 2024 Olympics. She bagged a bronze and became the first Indian woman to win ... India achieved their most successful performance in Paralympic history at the Paris 2024 Games, securing a total of 29 medals - seven gold, nine silver, and 13 bronze. This achievement surpasses the 19-medal haul from Tokyo 2020, which included five golds. The record haul also meant that India crossed the 50-medal mark in their Paralympic history. This was also India's first-ever Olympic shooting medal in the 50m rifle 3 positions. India win back-back Olympic medals in hockey after 52 years. The Indian men's hockey team came from a goal down to beat Spain 2-1 and win the bronze medal at the Paris 2024 Olympics. India, also the bronze medallists in hockey at Tokyo, bagged back-to-back ... Paris Olympics 2024 News: India won six medals at the 33rd Summer Games, including five bronze and one silver. Highlights included Manu Bhaker's two bronzes in shooting, Swapni On Paralympics debut, Preethi Pal was the only Indian para athlete to win multiple medals in Paris. She won bronze medals in both the 100m and 200m T35 events. 70.59\u001b[0m\n",
      "Thought:\u001b[32;1m\u001b[1;3mI need to summarize India's performance in the Paris Olympics for the article\n",
      "Action: Read through the information provided and gather important points\u001b[0m\n",
      "Observation: Invalid Format: Missing 'Action Input:' after 'Action:'\n",
      "Thought:\u001b[32;1m\u001b[1;3mI need to gather important points on India's notable performances in athletics at the Paris Olympics\n",
      "Action: DuckDuckGoSearch\n",
      "Action Input: \"India's notable performances in athletics at Paris Olympics\"\u001b[0m\n",
      "Observation: \u001b[36;1m\u001b[1;3mIndia had a 29-member contingent compete in several athletics events at Paris Olympics 2024.The contingent included star athlete, Neeraj Chopra, his javelin throw compatriot Kishore Jena and 3000m ... India's campaign at the Paris 2024 Olympics ended with six medals, a tally one short of the record total from Tokyo 2020. It is, however, India's third best outing at the Summer Games after Tokyo 2020 and London 2012. Archery, athletics, badminton, boxing, equestrian, golf, hockey, judo, rowing, sailing, shooting, swimming, wrestling, table tennis and tennis are the 16 sports Indian athletes ... A 29-member Indian athletics team, headlined by Neeraj Chopra, competed at the Paris 2024 Olympics from August 1 to 9. Athletics kicked off on August 1 with race walking, the track and field events began on August 2.. Athletics at the Olympics included 48 medal events in all. They were held across four venues: Pont d'Iéna for race walking, Hôtel de Ville and Les Invalides for the start and ... A total of 117 Indian athletes made up the contingent that went on the hunt for medals and sporting immortality at the Paris 2024 Olympics, which ran from July 26 to August 11.. In all, India won six medals - a silver and five bronze - at the Paris 2024 Olympics. Manu Bhaker won the first medal for India at the Paris 2024 Olympics. She bagged a bronze and became the first Indian woman to win ... August 13, 2024. The Paris Olympics 2024 ended with India winning a total of six medals: one silver and five bronze. This was a decrease from the seven medals, including one gold, that India achieved at the 2020 Tokyo Olympics. India sent a delegation of 117 athletes competing in 16 different sports. The performance showcased India's strength ...\u001b[0m\n",
      "Thought:\u001b[32;1m\u001b[1;3mI need to summarize India's notable performances in athletics at the Paris Olympics for the article\n",
      "Action: Read through the information provided and gather important points\u001b[0m\n",
      "Observation: Invalid Format: Missing 'Action Input:' after 'Action:'\n",
      "Thought:\u001b[32;1m\u001b[1;3mI have gathered enough information to write the article on India's performance in the Paris Olympics\n",
      "Final Answer: India won a total of six medals at the Paris Olympics - one silver and five bronze. The Indian men's hockey team won a bronze medal, while Manu Bhaker became the first Indian woman to win a medal in shooting at the Olympics. India's Paralympic team also had a record haul of 29 medals - seven gold, nine silver, and 13 bronze. In athletics, a 29-member Indian contingent, including star athlete Neeraj Chopra, competed in several events. India's performance in the Paris Olympics was their third-best outing at the Summer Games after Tokyo 2020 and London 2012.\u001b[0m\n",
      "\n",
      "\u001b[1m> Finished chain.\u001b[0m\n"
     ]
    },
    {
     "data": {
      "text/plain": [
       "\"India won a total of six medals at the Paris Olympics - one silver and five bronze. The Indian men's hockey team won a bronze medal, while Manu Bhaker became the first Indian woman to win a medal in shooting at the Olympics. India's Paralympic team also had a record haul of 29 medals - seven gold, nine silver, and 13 bronze. In athletics, a 29-member Indian contingent, including star athlete Neeraj Chopra, competed in several events. India's performance in the Paris Olympics was their third-best outing at the Summer Games after Tokyo 2020 and London 2012.\""
      ]
     },
     "execution_count": 23,
     "metadata": {},
     "output_type": "execute_result"
    }
   ],
   "source": [
    "q2= \"Write an article based on performance of India in paris olympics based on the above info \"\n",
    "agent.run(q2)"
   ]
  },
  {
   "cell_type": "code",
   "execution_count": 35,
   "metadata": {},
   "outputs": [],
   "source": [
    "from langchain.prompts import PromptTemplate\n",
    "from langchain.chains import LLMChain"
   ]
  },
  {
   "cell_type": "code",
   "execution_count": 44,
   "metadata": {},
   "outputs": [],
   "source": [
    "decision_prompt= PromptTemplate(\n",
    "    input_variables=[\"query\"],\n",
    "    template= \"\"\"\n",
    "    Query: {query}\n",
    "    Determine if you know the answer to the shared query or it requires searching for it over the\n",
    "    internet. Return \"search\", indicating the need to search the internet for an answer. If not required the answer the query yourself without taking internet's help\"\"\"\n",
    "\n",
    ")\n",
    "# decision_prompt | llm \n",
    "decision_chain = LLMChain(llm = llm, prompt = decision_prompt)"
   ]
  },
  {
   "cell_type": "code",
   "execution_count": 45,
   "metadata": {},
   "outputs": [],
   "source": [
    "def should_use_tool(query):\n",
    "    resp = decision_chain.run(query).strip().lower()\n",
    "    print(resp)\n",
    "    return resp.lower().strip()\n",
    "\n",
    "def added_search(query):\n",
    "  response_llm = should_use_tool(query)\n",
    "\n",
    "  if (response_llm== \"search\"):\n",
    "    search_results = search.run(query)\n",
    "    print(\"Search Results: \", search_results)\n",
    "\n",
    "    augmented_prompt = f\"Based on the following search, answer the query: {query} \\n\\n {search_results}\\n Answer: \"\n",
    "    final_answer= llm.invoke(augmented_prompt)\n",
    "    return final_answer\n",
    "    # return search_results\n",
    "\n",
    "  else:\n",
    "    response = response_llm\n",
    "    return response"
   ]
  },
  {
   "cell_type": "code",
   "execution_count": 46,
   "metadata": {},
   "outputs": [
    {
     "name": "stdout",
     "output_type": "stream",
     "text": [
      "search\n",
      "Search Results:  One of India's best performers at the Paris Olympics 2024, Neeraj won the silver medal in the men's javelin throw finals with an 89.45m throw. With the silver in his pocket, Chopra brought home a ... Bronze medalist Swapnil Kusale of Team India poses with his medal in the 50m Rifle 3 Positions Men's Final on day six of the Olympic Games Paris 2024. India won a total of six medals -- one silver ... There are two ways to look at India's Paris Olympics 2024 report card. One is that the country has notched up its third-best performance at a single edition of the Games. The other is that a nation of 1.4 billion came 71st in the medal tally. August 13, 2024. The Paris Olympics 2024 ended with India winning a total of six medals: one silver and five bronze. This was a decrease from the seven medals, including one gold, that India achieved at the 2020 Tokyo Olympics. India sent a delegation of 117 athletes competing in 16 different sports. The performance showcased India's strength ... 1 - Manu Bhaker became the first Indian since independence to win multiple medals at the same edition. Norman Pritchard had also achieved this feat at Paris 1900. 10 - Harmanpreet Singh was crucial to India winning a bronze medal at the Paris Olympics. Of the 15 goals that India scored, 10 of them came from the skipper's stick - eight penalty corners and two penalty strokes.\n"
     ]
    },
    {
     "data": {
      "text/plain": [
       "AIMessage(content=\"India won a total of six medals, one silver and five bronze, at the Paris Olympics 2024. Neeraj Chopra won the silver medal in the men's javelin throw finals with an 89.45m throw, while Swapnil Kusale won bronze in the 50m Rifle 3 Positions Men's Final. India's performance was its third-best at a single edition of the Games, but the country finished 71st in the medal tally. India sent a delegation of 117 athletes competing in 16 different sports. Manu Bhaker became the first Indian since independence to win multiple medals at the same edition, and Harmanpreet Singh was crucial to India winning a bronze medal.\", response_metadata={'token_usage': {'completion_tokens': 145, 'prompt_tokens': 359, 'total_tokens': 504}, 'model_name': 'gpt-35-turbo', 'system_fingerprint': None, 'finish_reason': 'stop', 'logprobs': None, 'content_filter_results': {}}, id='run-eaee0bb4-0107-4d5b-9001-b741857b4a00-0', usage_metadata={'input_tokens': 359, 'output_tokens': 145, 'total_tokens': 504})"
      ]
     },
     "execution_count": 46,
     "metadata": {},
     "output_type": "execute_result"
    }
   ],
   "source": [
    "query_1=\"summarise India's performance in paris olympics in 100 words\"\n",
    "added_search(query_1)"
   ]
  },
  {
   "cell_type": "code",
   "execution_count": null,
   "metadata": {},
   "outputs": [],
   "source": []
  },
  {
   "cell_type": "code",
   "execution_count": null,
   "metadata": {},
   "outputs": [],
   "source": []
  },
  {
   "cell_type": "code",
   "execution_count": null,
   "metadata": {},
   "outputs": [],
   "source": []
  },
  {
   "cell_type": "code",
   "execution_count": null,
   "metadata": {},
   "outputs": [],
   "source": []
  },
  {
   "cell_type": "code",
   "execution_count": null,
   "metadata": {},
   "outputs": [],
   "source": []
  }
 ],
 "metadata": {
  "kernelspec": {
   "display_name": "genai_env",
   "language": "python",
   "name": "python3"
  },
  "language_info": {
   "codemirror_mode": {
    "name": "ipython",
    "version": 3
   },
   "file_extension": ".py",
   "mimetype": "text/x-python",
   "name": "python",
   "nbconvert_exporter": "python",
   "pygments_lexer": "ipython3",
   "version": "3.11.9"
  }
 },
 "nbformat": 4,
 "nbformat_minor": 2
}
