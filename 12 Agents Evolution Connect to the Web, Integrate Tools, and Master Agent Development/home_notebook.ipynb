{
 "cells": [
  {
   "cell_type": "code",
   "execution_count": 1,
   "metadata": {},
   "outputs": [
    {
     "data": {
      "text/plain": [
       "True"
      ]
     },
     "execution_count": 1,
     "metadata": {},
     "output_type": "execute_result"
    }
   ],
   "source": [
    "from langchain_openai import AzureChatOpenAI\n",
    "import os\n",
    "from dotenv import load_dotenv\n",
    "\n",
    "load_dotenv()"
   ]
  },
  {
   "cell_type": "code",
   "execution_count": 2,
   "metadata": {},
   "outputs": [],
   "source": [
    "llm = AzureChatOpenAI(\n",
    "    model=\"gpt-35-turbo\",\n",
    "    api_key=os.getenv(\"AZURE_OPENAI_API_KEY\"),\n",
    "    api_version = \"2023-03-15-preview\",\n",
    "    temperature=0.5,\n",
    "    azure_endpoint = os.getenv(\"AZURE_BASE_URL\"),\n",
    ")"
   ]
  },
  {
   "cell_type": "code",
   "execution_count": 6,
   "metadata": {},
   "outputs": [],
   "source": [
    "# Agent for live search, will use open-source duckduckgo package \n",
    "\n",
    "# ! pip install -U duckduckgo-search"
   ]
  },
  {
   "cell_type": "code",
   "execution_count": 9,
   "metadata": {},
   "outputs": [],
   "source": [
    "from langchain_community.tools import DuckDuckGoSearchRun"
   ]
  },
  {
   "cell_type": "code",
   "execution_count": 10,
   "metadata": {},
   "outputs": [
    {
     "data": {
      "text/plain": [
       "\"In a match that came as close as it gets, Netherlands men's hockey defeated Germany 1(3)-1(1) in an overtime shootout on Thursday, 8 August at the Olympic Games Paris 2024 to clinch their first Olympic gold medal in the men's competition since Sydney 2000.. It was almost as if they had a home-team advantage, as a sea of orange flooded the stadium with support for the Dutch, making for an ... The Netherlands won their first men's hockey Olympic gold medal in 24 years by beating Germany in a shootout in a thrilling final at Paris 2024. After a 1-1 draw across 60 minutes, Dutch keeper ... Item 1 of 3 Paris 2024 Olympics - Hockey - Men's Gold Medal Match - Germany vs Netherlands - Yves-du-Manoir Stadium, Colombes, France - August 08, 2024. The Indian men's hockey team won the bronze medal at the Paris 2024 Olympics.. India, who won a bronze medal at Tokyo 2020 to end a 41-year-long medal drought in hockey, secured their second successive medal in the sport at the Summer Games and 13th overall.Heading into Paris 2024, India were the most successful hockey team in Olympic history with eight gold, one silver and three bronze medals. India defeated Spain 2-1 in the men's hockey bronze medal match at Paris 2024 on Thursday (8 August) thanks to a brace by Harmanpreet Singh.. The victory marks India's 13th Olympic medal in hockey, their fourth bronze and a second consecutive bronze after winning one at Tokyo 2020. It is also the first time since 1972 that the nation has won back-to-back medals in hockey.\""
      ]
     },
     "execution_count": 10,
     "metadata": {},
     "output_type": "execute_result"
    }
   ],
   "source": [
    "search = DuckDuckGoSearchRun()\n",
    "search.invoke(\"Who won the medal in mens hockey in olympics 2024?\")"
   ]
  },
  {
   "cell_type": "code",
   "execution_count": null,
   "metadata": {},
   "outputs": [],
   "source": []
  }
 ],
 "metadata": {
  "kernelspec": {
   "display_name": "genai_env",
   "language": "python",
   "name": "python3"
  },
  "language_info": {
   "codemirror_mode": {
    "name": "ipython",
    "version": 3
   },
   "file_extension": ".py",
   "mimetype": "text/x-python",
   "name": "python",
   "nbconvert_exporter": "python",
   "pygments_lexer": "ipython3",
   "version": "3.11.9"
  }
 },
 "nbformat": 4,
 "nbformat_minor": 2
}
