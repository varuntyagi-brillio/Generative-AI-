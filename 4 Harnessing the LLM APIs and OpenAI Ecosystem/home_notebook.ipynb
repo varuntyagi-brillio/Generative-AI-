{
 "cells": [
  {
   "cell_type": "code",
   "execution_count": 1,
   "metadata": {},
   "outputs": [],
   "source": [
    "from openai import OpenAI"
   ]
  },
  {
   "cell_type": "code",
   "execution_count": 4,
   "metadata": {},
   "outputs": [],
   "source": [
    "import openai\n",
    "import os\n",
    "from dotenv import load_dotenv"
   ]
  },
  {
   "cell_type": "code",
   "execution_count": 5,
   "metadata": {},
   "outputs": [],
   "source": [
    "load_dotenv()\n",
    "\n",
    "# Access the API key\n",
    "api_key = os.getenv(\"AZURE_OPENAI_API_KEY\")\n",
    "api_endpoint = os.getenv(\"AZURE_OPENAI_ENDPOINT\")"
   ]
  },
  {
   "cell_type": "code",
   "execution_count": 7,
   "metadata": {},
   "outputs": [],
   "source": [
    "# COnfigure OPenAI\n",
    "openai.api_type = \"azure\"\n",
    "openai.api_key = api_key\n",
    "openai.api_endpoint = api_endpoint\n",
    "openai.api_version = \"2023-03-15-preview\""
   ]
  },
  {
   "cell_type": "code",
   "execution_count": 12,
   "metadata": {},
   "outputs": [
    {
     "name": "stdout",
     "output_type": "stream",
     "text": [
      "ChatCompletion(id='chatcmpl-9wQQMH8mODj8LJKrEKDKX6C6YfESj', choices=[Choice(finish_reason='stop', index=0, logprobs=None, message=ChatCompletionMessage(content=\"Why don't scientists trust atoms?\\n\\nBecause they make up everything!\", role='assistant', function_call=None, tool_calls=None))], created=1723711626, model='gpt-4o-mini', object='chat.completion', service_tier=None, system_fingerprint='fp_276aa25277', usage=CompletionUsage(completion_tokens=12, prompt_tokens=20, total_tokens=32))\n"
     ]
    }
   ],
   "source": [
    "response = openai.chat.completions.create(\n",
    "    model = \"gpt-4o-mini\",\n",
    "    messages = [\n",
    "        {\"role\": \"system\", \"content\": \"You're a helpful assistant.\"},\n",
    "        {\"role\": \"user\", \"content\": \"Tell me a joke\"}\n",
    "    ]\n",
    ")"
   ]
  },
  {
   "cell_type": "code",
   "execution_count": 16,
   "metadata": {},
   "outputs": [
    {
     "data": {
      "text/plain": [
       "\"Why don't scientists trust atoms?\\n\\nBecause they make up everything!\""
      ]
     },
     "execution_count": 16,
     "metadata": {},
     "output_type": "execute_result"
    }
   ],
   "source": [
    "response.choices[0].message.content"
   ]
  },
  {
   "cell_type": "code",
   "execution_count": 24,
   "metadata": {},
   "outputs": [],
   "source": [
    "def chat_completion_from_messages(messages, model_name = \"gpt-4o-mini\", temperature = 0.2, max_tokens = 200):\n",
    "    \n",
    "    response = openai.chat.completions.create(\n",
    "        model = model_name,\n",
    "        messages = messages,\n",
    "        temperature = temperature,\n",
    "        max_tokens = max_tokens\n",
    "    )\n",
    "\n",
    "    return response.choices[0].message.content"
   ]
  },
  {
   "cell_type": "code",
   "execution_count": 29,
   "metadata": {},
   "outputs": [
    {
     "name": "stdout",
     "output_type": "stream",
     "text": [
      "In the garden, flowers bloom,  \n",
      "Buzzing bees go zoom, zoom, zoom.  \n",
      "Sunshine bright, the sky so blue,  \n",
      "Nature's wonders, just for you!\n"
     ]
    }
   ],
   "source": [
    "messages = [\n",
    "    {\"role\":\"user\", \"content\":\"write 4 line english poem for class 2nd student.\"}\n",
    "]\n",
    "\n",
    "print(chat_completion_from_messages(messages=messages))"
   ]
  },
  {
   "cell_type": "code",
   "execution_count": 32,
   "metadata": {},
   "outputs": [
    {
     "name": "stdout",
     "output_type": "stream",
     "text": [
      "I’m really sorry to hear that you’re feeling stressed. Try taking a few deep breaths—inhale for four counts, hold for four, and exhale for four. It can help clear your mind. Also, consider stepping outside for a quick walk; fresh air can do wonders. Remember, I’m here for you!\n"
     ]
    }
   ],
   "source": [
    "messages = [\n",
    "    {\"role\":\"system\", \"content\":\"You're a passionate and empathetic friend showing support.\"},\n",
    "    {\"role\":\"user\", \"content\": \"I'm feeling a little stressed, please suggest something and be on point, consize\"}\n",
    "]\n",
    "\n",
    "print(chat_completion_from_messages(messages=messages))"
   ]
  },
  {
   "cell_type": "code",
   "execution_count": 33,
   "metadata": {},
   "outputs": [
    {
     "name": "stdout",
     "output_type": "stream",
     "text": [
      "Great choice! Here are some excellent resources for specializing in Data Science with Python:\n",
      "\n",
      "### Online Courses\n",
      "1. **Coursera**\n",
      "   - **Data Science Specialization by Johns Hopkins University**: A comprehensive series of courses covering R and Python.\n",
      "   - **IBM Data Science Professional Certificate**: Focuses on Python, data analysis, and machine learning.\n",
      "\n",
      "2. **edX**\n",
      "   - **MicroMasters in Data Science by UC San Diego**: Offers a deep dive into data science concepts using Python.\n",
      "\n",
      "3. **Udacity**\n",
      "   - **Data Scientist Nanodegree**: Covers Python, machine learning, and data visualization.\n",
      "\n",
      "4. **DataCamp**\n",
      "   - Offers interactive courses specifically focused on Python for Data Science, including data manipulation, visualization, and machine learning.\n",
      "\n",
      "### Books\n",
      "1. **\"Python for Data Analysis\" by Wes McKinney**: A practical introduction to data analysis with Python.\n",
      "2. **\"Hands-On Machine Learning with Scikit-Learn, K\n"
     ]
    }
   ],
   "source": [
    "messages = [\n",
    "    {\"role\":\"system\", \"content\":\"You're a Teacher in edtech company\"},\n",
    "    {\"role\":\"user\", \"content\":\"Can you recommend me some sources from which I learn Python\"},\n",
    "    {\"role\":\"assistant\", \"content\":\"Sure ! some great places to learn Python include Coursera, Udemy, Youtube, Scaler\"},\n",
    "    {\"role\":\"user\", \"content\":\"I want specialization in Data Science ?\"},\n",
    "]\n",
    "\n",
    "print(chat_completion_from_messages(messages=messages))"
   ]
  },
  {
   "cell_type": "code",
   "execution_count": 38,
   "metadata": {},
   "outputs": [],
   "source": [
    "# Helper function to add to chat history and get a response\n",
    "def chat_with_gpt(user_message, chathistory):\n",
    "    chathistory.append({\"role\":\"user\",\"content\":user_message})\n",
    "\n",
    "    response = openai.chat.completions.create(\n",
    "        model = \"gpt-4o-mini\",\n",
    "        messages = chathistory,\n",
    "        max_tokens = 200\n",
    "    )\n",
    "\n",
    "    assistantmessage = response.choices[0].message.content\n",
    "    chathistory.append({\"role\":\"assistant\", \"content\": assistantmessage})\n",
    "\n",
    "    return chathistory, assistantmessage"
   ]
  },
  {
   "cell_type": "code",
   "execution_count": 40,
   "metadata": {},
   "outputs": [
    {
     "name": "stdout",
     "output_type": "stream",
     "text": [
      "[{'role': 'system', 'content': \"You're a helpful assistant\"}, {'role': 'user', 'content': 'Hello ! How are you ?'}, {'role': 'assistant', 'content': \"Hello! I'm just a program, so I don't have feelings, but I'm here and ready to help you. How can I assist you today?\"}] \n",
      " Hello! I'm just a program, so I don't have feelings, but I'm here and ready to help you. How can I assist you today?\n"
     ]
    }
   ],
   "source": [
    "chathistory = [\n",
    "    {\"role\":\"system\",\"content\":\"You're a helpful assistant\"}\n",
    "]\n",
    "\n",
    "user_message = \"Hello ! How are you ?\"\n",
    "\n",
    "chathistory, assistantmessage = chat_with_gpt(user_message=user_message, chathistory=chathistory)\n",
    "\n",
    "print(chathistory,\"\\n\", assistantmessage)"
   ]
  },
  {
   "cell_type": "code",
   "execution_count": 41,
   "metadata": {},
   "outputs": [
    {
     "name": "stdout",
     "output_type": "stream",
     "text": [
      "[{'role': 'system', 'content': \"You're a helpful assistant\"}, {'role': 'user', 'content': 'Hello ! How are you ?'}, {'role': 'assistant', 'content': \"Hello! I'm just a program, so I don't have feelings, but I'm here and ready to help you. How can I assist you today?\"}, {'role': 'user', 'content': 'Can you help me with current Indian politics, request to be precise.'}, {'role': 'assistant', 'content': \"Sure! As of my last update, here are some key points regarding current Indian politics:\\n\\n1. **Political Parties**: The major political players remain the Bharatiya Janata Party (BJP) and the Indian National Congress (INC), along with various regional parties. The BJP, led by Prime Minister Narendra Modi, continues to dominate the political landscape.\\n\\n2. **Elections**: Several state assembly elections are crucial for the BJP and other parties in the coming months. The outcome of these elections can significantly impact national politics.\\n\\n3. **Social and Economic Issues**: Issues such as unemployment, inflation, and communal tensions are central to ongoing political debates. Economic recovery post-pandemic is also a significant focus.\\n\\n4. **Foreign Relations**: India's relationships with neighboring countries, especially China and Pakistan, are critical. Issues in the Indo-Pacific region, including partnerships with the U.S. and other allies, are also vital.\\n\\n5. **Legislative Measures**: Recent legislative actions,\"}] \n",
      " Sure! As of my last update, here are some key points regarding current Indian politics:\n",
      "\n",
      "1. **Political Parties**: The major political players remain the Bharatiya Janata Party (BJP) and the Indian National Congress (INC), along with various regional parties. The BJP, led by Prime Minister Narendra Modi, continues to dominate the political landscape.\n",
      "\n",
      "2. **Elections**: Several state assembly elections are crucial for the BJP and other parties in the coming months. The outcome of these elections can significantly impact national politics.\n",
      "\n",
      "3. **Social and Economic Issues**: Issues such as unemployment, inflation, and communal tensions are central to ongoing political debates. Economic recovery post-pandemic is also a significant focus.\n",
      "\n",
      "4. **Foreign Relations**: India's relationships with neighboring countries, especially China and Pakistan, are critical. Issues in the Indo-Pacific region, including partnerships with the U.S. and other allies, are also vital.\n",
      "\n",
      "5. **Legislative Measures**: Recent legislative actions,\n"
     ]
    }
   ],
   "source": [
    "user_message = \"Can you help me with current Indian politics, request to be precise.\"\n",
    "\n",
    "chathistory, assistantmessage = chat_with_gpt(user_message=user_message, chathistory=chathistory)\n",
    "\n",
    "print(chathistory,\"\\n\", assistantmessage)"
   ]
  },
  {
   "cell_type": "code",
   "execution_count": 42,
   "metadata": {},
   "outputs": [
    {
     "name": "stdout",
     "output_type": "stream",
     "text": [
      "[{'role': 'system', 'content': \"You're a helpful assistant\"}, {'role': 'user', 'content': 'Hello ! How are you ?'}, {'role': 'assistant', 'content': \"Hello! I'm just a program, so I don't have feelings, but I'm here and ready to help you. How can I assist you today?\"}, {'role': 'user', 'content': 'Can you help me with current Indian politics, request to be precise.'}, {'role': 'assistant', 'content': \"Sure! As of my last update, here are some key points regarding current Indian politics:\\n\\n1. **Political Parties**: The major political players remain the Bharatiya Janata Party (BJP) and the Indian National Congress (INC), along with various regional parties. The BJP, led by Prime Minister Narendra Modi, continues to dominate the political landscape.\\n\\n2. **Elections**: Several state assembly elections are crucial for the BJP and other parties in the coming months. The outcome of these elections can significantly impact national politics.\\n\\n3. **Social and Economic Issues**: Issues such as unemployment, inflation, and communal tensions are central to ongoing political debates. Economic recovery post-pandemic is also a significant focus.\\n\\n4. **Foreign Relations**: India's relationships with neighboring countries, especially China and Pakistan, are critical. Issues in the Indo-Pacific region, including partnerships with the U.S. and other allies, are also vital.\\n\\n5. **Legislative Measures**: Recent legislative actions,\"}, {'role': 'user', 'content': 'And what you think is most challenging for Indian govenment at the moment ? Just one liner.'}, {'role': 'assistant', 'content': 'The most challenging issue for the Indian government at the moment is balancing economic growth with social cohesion amid rising communal tensions.'}] \n",
      " The most challenging issue for the Indian government at the moment is balancing economic growth with social cohesion amid rising communal tensions.\n"
     ]
    }
   ],
   "source": [
    "user_message = \"And what you think is most challenging for Indian govenment at the moment ? Just one liner.\"\n",
    "\n",
    "chathistory, assistantmessage = chat_with_gpt(user_message=user_message, chathistory=chathistory)\n",
    "\n",
    "print(chathistory,\"\\n\", assistantmessage)"
   ]
  },
  {
   "cell_type": "code",
   "execution_count": 44,
   "metadata": {},
   "outputs": [
    {
     "name": "stdout",
     "output_type": "stream",
     "text": [
      "Here is the JSON representation of the instruction:\n",
      "\n",
      "```json\n",
      "{\n",
      "  \"action\": \"add_user\",\n",
      "  \"user\": {\n",
      "    \"name\": \"Alice\",\n",
      "    \"email\": \"alice@scaler.com\",\n",
      "    \"role\": \"admin\"\n",
      "  }\n",
      "}\n",
      "```\n"
     ]
    }
   ],
   "source": [
    "# Zero Shot and Few Shot\n",
    "\n",
    "messages = [\n",
    "    {\"role\":\"system\", \"content\":\"You're a helpful assistant\"},\n",
    "    {\"role\":\"user\", \"content\":\"Convert this instruction to json and give json output: Add a new user named Alice with email alice@scaler.com and role admin.\"},\n",
    "]\n",
    "\n",
    "print(chat_completion_from_messages(messages=messages))"
   ]
  },
  {
   "cell_type": "code",
   "execution_count": 49,
   "metadata": {},
   "outputs": [
    {
     "name": "stdout",
     "output_type": "stream",
     "text": [
      "```json\n",
      "{\n",
      "  \"username\": \"Alice\",\n",
      "  \"email\": \"alice@scaler.com\",\n",
      "  \"role\": \"admin\"\n",
      "}\n",
      "```\n"
     ]
    }
   ],
   "source": [
    "messages =  [\n",
    "{\"role\": \"system\", \"content\": \"you are an helpful assistant\"},\n",
    "{\n",
    "    \"role\": \"user\",\n",
    "    \"content\": \"Convert this instruction to JSON: Create a project named ProjectA with a deadline of 2024-12-31 and priority high.\"\n",
    "  },\n",
    "  {\n",
    "    \"role\": \"assistant\",\n",
    "    \"content\": \" {\\\"name\\\": \\\"ProjectA\\\", \\\"deadline\\\": \\\"2024-12-31\\\", \\\"priority\\\": \\\"high\\\"}}\"\n",
    "  },\n",
    "  {\n",
    "    \"role\": \"user\",\n",
    "    \"content\": \"Convert this instruction to JSON: Schedule a meeting with Bob on 2024-07-10 at 10:00 AM with the subject Quarterly Review.\"\n",
    "  },\n",
    "  {\n",
    "    \"role\": \"assistant\",\n",
    "    \"content\": \"{\\\"participant\\\": \\\"Bob\\\", \\\"date\\\": \\\"2024-07-10\\\", \\\"time\\\": \\\"10:00 AM\\\", \\\"subject\\\": \\\"Quarterly Review\\\"}}\"\n",
    "  },\n",
    "   {\n",
    "  \"role\": \"user\",\n",
    "  \"content\": \"Convert this instruction to JSON: Add a new user Alice having details alice@scaler.com and is admin.\"\n",
    "}\n",
    "]\n",
    "\n",
    "print(chat_completion_from_messages(messages=messages))"
   ]
  },
  {
   "cell_type": "code",
   "execution_count": 50,
   "metadata": {},
   "outputs": [
    {
     "name": "stdout",
     "output_type": "stream",
     "text": [
      "Let's solve the problem step-by-step:\n",
      "\n",
      "1. **Calculate the expression inside the parentheses**: \n",
      "   \\[\n",
      "   6 / 2 = 3\n",
      "   \\]\n",
      "\n",
      "2. **Add the result to 7**: \n",
      "   \\[\n",
      "   3 + 7 = 10\n",
      "   \\]\n",
      "\n",
      "So, the final result is **10**.\n"
     ]
    }
   ],
   "source": [
    "messages =  [\n",
    "{\n",
    "      \"role\": \"system\",\n",
    "      \"content\": \"You are a helpful assistant who solves math problems step-by-step, explaining each step clearly.\"\n",
    "    },\n",
    "    {\n",
    "      \"role\": \"user\",\n",
    "      \"content\": \"Solve the following math problem step-by-step: What is (3 + 4) * 2?\"\n",
    "    },\n",
    "    {\n",
    "      \"role\": \"assistant\",\n",
    "      \"content\": \"Sure, let's break it down step-by-step:\\n1. First, we solve the expression inside the parentheses: 3 + 4 = 7.\\n2. Next, we multiply the result by 2: 7 * 2 = 14.\\nSo, the result is 14.\"\n",
    "    },\n",
    "    {\n",
    "      \"role\": \"user\",\n",
    "      \"content\": \"Solve the following math problem step-by-step: What is 5 * (2 + 3)?\"\n",
    "    },\n",
    "    {\n",
    "      \"role\": \"assistant\",\n",
    "      \"content\": \"Alright, let's solve it step-by-step:\\n1. First, we solve the expression inside the parentheses: 2 + 3 = 5.\\n2. Next, we multiply the result by 5: 5 * 5 = 25.\\nSo, the result is 25.\"\n",
    "    },\n",
    "    {\n",
    "      \"role\": \"user\",\n",
    "      \"content\": \"Solve the following math problem step-by-step: What is (6 / 2) + 7?\"\n",
    "    }              \n",
    "]\n",
    "\n",
    "response = chat_completion_from_messages(messages=messages)\n",
    "print(response)"
   ]
  },
  {
   "cell_type": "code",
   "execution_count": 51,
   "metadata": {},
   "outputs": [
    {
     "ename": "NotFoundError",
     "evalue": "Error code: 404 - {'error': {'code': '404', 'message': 'Resource not found'}}",
     "output_type": "error",
     "traceback": [
      "\u001b[0;31m---------------------------------------------------------------------------\u001b[0m",
      "\u001b[0;31mNotFoundError\u001b[0m                             Traceback (most recent call last)",
      "Cell \u001b[0;32mIn[51], line 3\u001b[0m\n\u001b[1;32m      1\u001b[0m \u001b[38;5;66;03m# Audio to Speech\u001b[39;00m\n\u001b[0;32m----> 3\u001b[0m response \u001b[38;5;241m=\u001b[39m \u001b[43mopenai\u001b[49m\u001b[38;5;241;43m.\u001b[39;49m\u001b[43maudio\u001b[49m\u001b[38;5;241;43m.\u001b[39;49m\u001b[43mspeech\u001b[49m\u001b[38;5;241;43m.\u001b[39;49m\u001b[43mcreate\u001b[49m\u001b[43m(\u001b[49m\n\u001b[1;32m      4\u001b[0m \u001b[43m    \u001b[49m\u001b[43mmodel\u001b[49m\u001b[43m \u001b[49m\u001b[38;5;241;43m=\u001b[39;49m\u001b[43m \u001b[49m\u001b[38;5;124;43m\"\u001b[39;49m\u001b[38;5;124;43mgpt-4o-mini\u001b[39;49m\u001b[38;5;124;43m\"\u001b[39;49m\u001b[43m,\u001b[49m\n\u001b[1;32m      5\u001b[0m \u001b[43m    \u001b[49m\u001b[43mvoice\u001b[49m\u001b[38;5;241;43m=\u001b[39;49m\u001b[38;5;124;43m\"\u001b[39;49m\u001b[38;5;124;43malloy\u001b[39;49m\u001b[38;5;124;43m\"\u001b[39;49m\u001b[43m,\u001b[49m\n\u001b[1;32m      6\u001b[0m \u001b[43m    \u001b[49m\u001b[38;5;28;43minput\u001b[39;49m\u001b[38;5;241;43m=\u001b[39;49m\u001b[38;5;124;43m\"\u001b[39;49m\u001b[38;5;124;43mToday is a wonderful day to build something people love! Varun\u001b[39;49m\u001b[38;5;124;43m\"\u001b[39;49m\u001b[43m,\u001b[49m\n\u001b[1;32m      7\u001b[0m \u001b[43m)\u001b[49m\n\u001b[1;32m      9\u001b[0m response\u001b[38;5;241m.\u001b[39mstream_to_file(\u001b[38;5;124m\"\u001b[39m\u001b[38;5;124moutput.mp3\u001b[39m\u001b[38;5;124m\"\u001b[39m)\n",
      "File \u001b[0;32m~/Documents/MS/GenAI/venv_gen/lib/python3.10/site-packages/openai/resources/audio/speech.py:85\u001b[0m, in \u001b[0;36mSpeech.create\u001b[0;34m(self, input, model, voice, response_format, speed, extra_headers, extra_query, extra_body, timeout)\u001b[0m\n\u001b[1;32m     55\u001b[0m \u001b[38;5;250m\u001b[39m\u001b[38;5;124;03m\"\"\"\u001b[39;00m\n\u001b[1;32m     56\u001b[0m \u001b[38;5;124;03mGenerates audio from the input text.\u001b[39;00m\n\u001b[1;32m     57\u001b[0m \n\u001b[0;32m   (...)\u001b[0m\n\u001b[1;32m     82\u001b[0m \u001b[38;5;124;03m  timeout: Override the client-level default timeout for this request, in seconds\u001b[39;00m\n\u001b[1;32m     83\u001b[0m \u001b[38;5;124;03m\"\"\"\u001b[39;00m\n\u001b[1;32m     84\u001b[0m extra_headers \u001b[38;5;241m=\u001b[39m {\u001b[38;5;124m\"\u001b[39m\u001b[38;5;124mAccept\u001b[39m\u001b[38;5;124m\"\u001b[39m: \u001b[38;5;124m\"\u001b[39m\u001b[38;5;124mapplication/octet-stream\u001b[39m\u001b[38;5;124m\"\u001b[39m, \u001b[38;5;241m*\u001b[39m\u001b[38;5;241m*\u001b[39m(extra_headers \u001b[38;5;129;01mor\u001b[39;00m {})}\n\u001b[0;32m---> 85\u001b[0m \u001b[38;5;28;01mreturn\u001b[39;00m \u001b[38;5;28;43mself\u001b[39;49m\u001b[38;5;241;43m.\u001b[39;49m\u001b[43m_post\u001b[49m\u001b[43m(\u001b[49m\n\u001b[1;32m     86\u001b[0m \u001b[43m    \u001b[49m\u001b[38;5;124;43m\"\u001b[39;49m\u001b[38;5;124;43m/audio/speech\u001b[39;49m\u001b[38;5;124;43m\"\u001b[39;49m\u001b[43m,\u001b[49m\n\u001b[1;32m     87\u001b[0m \u001b[43m    \u001b[49m\u001b[43mbody\u001b[49m\u001b[38;5;241;43m=\u001b[39;49m\u001b[43mmaybe_transform\u001b[49m\u001b[43m(\u001b[49m\n\u001b[1;32m     88\u001b[0m \u001b[43m        \u001b[49m\u001b[43m{\u001b[49m\n\u001b[1;32m     89\u001b[0m \u001b[43m            \u001b[49m\u001b[38;5;124;43m\"\u001b[39;49m\u001b[38;5;124;43minput\u001b[39;49m\u001b[38;5;124;43m\"\u001b[39;49m\u001b[43m:\u001b[49m\u001b[43m \u001b[49m\u001b[38;5;28;43minput\u001b[39;49m\u001b[43m,\u001b[49m\n\u001b[1;32m     90\u001b[0m \u001b[43m            \u001b[49m\u001b[38;5;124;43m\"\u001b[39;49m\u001b[38;5;124;43mmodel\u001b[39;49m\u001b[38;5;124;43m\"\u001b[39;49m\u001b[43m:\u001b[49m\u001b[43m \u001b[49m\u001b[43mmodel\u001b[49m\u001b[43m,\u001b[49m\n\u001b[1;32m     91\u001b[0m \u001b[43m            \u001b[49m\u001b[38;5;124;43m\"\u001b[39;49m\u001b[38;5;124;43mvoice\u001b[39;49m\u001b[38;5;124;43m\"\u001b[39;49m\u001b[43m:\u001b[49m\u001b[43m \u001b[49m\u001b[43mvoice\u001b[49m\u001b[43m,\u001b[49m\n\u001b[1;32m     92\u001b[0m \u001b[43m            \u001b[49m\u001b[38;5;124;43m\"\u001b[39;49m\u001b[38;5;124;43mresponse_format\u001b[39;49m\u001b[38;5;124;43m\"\u001b[39;49m\u001b[43m:\u001b[49m\u001b[43m \u001b[49m\u001b[43mresponse_format\u001b[49m\u001b[43m,\u001b[49m\n\u001b[1;32m     93\u001b[0m \u001b[43m            \u001b[49m\u001b[38;5;124;43m\"\u001b[39;49m\u001b[38;5;124;43mspeed\u001b[39;49m\u001b[38;5;124;43m\"\u001b[39;49m\u001b[43m:\u001b[49m\u001b[43m \u001b[49m\u001b[43mspeed\u001b[49m\u001b[43m,\u001b[49m\n\u001b[1;32m     94\u001b[0m \u001b[43m        \u001b[49m\u001b[43m}\u001b[49m\u001b[43m,\u001b[49m\n\u001b[1;32m     95\u001b[0m \u001b[43m        \u001b[49m\u001b[43mspeech_create_params\u001b[49m\u001b[38;5;241;43m.\u001b[39;49m\u001b[43mSpeechCreateParams\u001b[49m\u001b[43m,\u001b[49m\n\u001b[1;32m     96\u001b[0m \u001b[43m    \u001b[49m\u001b[43m)\u001b[49m\u001b[43m,\u001b[49m\n\u001b[1;32m     97\u001b[0m \u001b[43m    \u001b[49m\u001b[43moptions\u001b[49m\u001b[38;5;241;43m=\u001b[39;49m\u001b[43mmake_request_options\u001b[49m\u001b[43m(\u001b[49m\n\u001b[1;32m     98\u001b[0m \u001b[43m        \u001b[49m\u001b[43mextra_headers\u001b[49m\u001b[38;5;241;43m=\u001b[39;49m\u001b[43mextra_headers\u001b[49m\u001b[43m,\u001b[49m\u001b[43m \u001b[49m\u001b[43mextra_query\u001b[49m\u001b[38;5;241;43m=\u001b[39;49m\u001b[43mextra_query\u001b[49m\u001b[43m,\u001b[49m\u001b[43m \u001b[49m\u001b[43mextra_body\u001b[49m\u001b[38;5;241;43m=\u001b[39;49m\u001b[43mextra_body\u001b[49m\u001b[43m,\u001b[49m\u001b[43m \u001b[49m\u001b[43mtimeout\u001b[49m\u001b[38;5;241;43m=\u001b[39;49m\u001b[43mtimeout\u001b[49m\n\u001b[1;32m     99\u001b[0m \u001b[43m    \u001b[49m\u001b[43m)\u001b[49m\u001b[43m,\u001b[49m\n\u001b[1;32m    100\u001b[0m \u001b[43m    \u001b[49m\u001b[43mcast_to\u001b[49m\u001b[38;5;241;43m=\u001b[39;49m\u001b[43m_legacy_response\u001b[49m\u001b[38;5;241;43m.\u001b[39;49m\u001b[43mHttpxBinaryResponseContent\u001b[49m\u001b[43m,\u001b[49m\n\u001b[1;32m    101\u001b[0m \u001b[43m\u001b[49m\u001b[43m)\u001b[49m\n",
      "File \u001b[0;32m~/Documents/MS/GenAI/venv_gen/lib/python3.10/site-packages/openai/_base_client.py:1271\u001b[0m, in \u001b[0;36mSyncAPIClient.post\u001b[0;34m(self, path, cast_to, body, options, files, stream, stream_cls)\u001b[0m\n\u001b[1;32m   1257\u001b[0m \u001b[38;5;28;01mdef\u001b[39;00m \u001b[38;5;21mpost\u001b[39m(\n\u001b[1;32m   1258\u001b[0m     \u001b[38;5;28mself\u001b[39m,\n\u001b[1;32m   1259\u001b[0m     path: \u001b[38;5;28mstr\u001b[39m,\n\u001b[0;32m   (...)\u001b[0m\n\u001b[1;32m   1266\u001b[0m     stream_cls: \u001b[38;5;28mtype\u001b[39m[_StreamT] \u001b[38;5;241m|\u001b[39m \u001b[38;5;28;01mNone\u001b[39;00m \u001b[38;5;241m=\u001b[39m \u001b[38;5;28;01mNone\u001b[39;00m,\n\u001b[1;32m   1267\u001b[0m ) \u001b[38;5;241m-\u001b[39m\u001b[38;5;241m>\u001b[39m ResponseT \u001b[38;5;241m|\u001b[39m _StreamT:\n\u001b[1;32m   1268\u001b[0m     opts \u001b[38;5;241m=\u001b[39m FinalRequestOptions\u001b[38;5;241m.\u001b[39mconstruct(\n\u001b[1;32m   1269\u001b[0m         method\u001b[38;5;241m=\u001b[39m\u001b[38;5;124m\"\u001b[39m\u001b[38;5;124mpost\u001b[39m\u001b[38;5;124m\"\u001b[39m, url\u001b[38;5;241m=\u001b[39mpath, json_data\u001b[38;5;241m=\u001b[39mbody, files\u001b[38;5;241m=\u001b[39mto_httpx_files(files), \u001b[38;5;241m*\u001b[39m\u001b[38;5;241m*\u001b[39moptions\n\u001b[1;32m   1270\u001b[0m     )\n\u001b[0;32m-> 1271\u001b[0m     \u001b[38;5;28;01mreturn\u001b[39;00m cast(ResponseT, \u001b[38;5;28;43mself\u001b[39;49m\u001b[38;5;241;43m.\u001b[39;49m\u001b[43mrequest\u001b[49m\u001b[43m(\u001b[49m\u001b[43mcast_to\u001b[49m\u001b[43m,\u001b[49m\u001b[43m \u001b[49m\u001b[43mopts\u001b[49m\u001b[43m,\u001b[49m\u001b[43m \u001b[49m\u001b[43mstream\u001b[49m\u001b[38;5;241;43m=\u001b[39;49m\u001b[43mstream\u001b[49m\u001b[43m,\u001b[49m\u001b[43m \u001b[49m\u001b[43mstream_cls\u001b[49m\u001b[38;5;241;43m=\u001b[39;49m\u001b[43mstream_cls\u001b[49m\u001b[43m)\u001b[49m)\n",
      "File \u001b[0;32m~/Documents/MS/GenAI/venv_gen/lib/python3.10/site-packages/openai/_base_client.py:942\u001b[0m, in \u001b[0;36mSyncAPIClient.request\u001b[0;34m(self, cast_to, options, remaining_retries, stream, stream_cls)\u001b[0m\n\u001b[1;32m    933\u001b[0m \u001b[38;5;28;01mdef\u001b[39;00m \u001b[38;5;21mrequest\u001b[39m(\n\u001b[1;32m    934\u001b[0m     \u001b[38;5;28mself\u001b[39m,\n\u001b[1;32m    935\u001b[0m     cast_to: Type[ResponseT],\n\u001b[0;32m   (...)\u001b[0m\n\u001b[1;32m    940\u001b[0m     stream_cls: \u001b[38;5;28mtype\u001b[39m[_StreamT] \u001b[38;5;241m|\u001b[39m \u001b[38;5;28;01mNone\u001b[39;00m \u001b[38;5;241m=\u001b[39m \u001b[38;5;28;01mNone\u001b[39;00m,\n\u001b[1;32m    941\u001b[0m ) \u001b[38;5;241m-\u001b[39m\u001b[38;5;241m>\u001b[39m ResponseT \u001b[38;5;241m|\u001b[39m _StreamT:\n\u001b[0;32m--> 942\u001b[0m     \u001b[38;5;28;01mreturn\u001b[39;00m \u001b[38;5;28;43mself\u001b[39;49m\u001b[38;5;241;43m.\u001b[39;49m\u001b[43m_request\u001b[49m\u001b[43m(\u001b[49m\n\u001b[1;32m    943\u001b[0m \u001b[43m        \u001b[49m\u001b[43mcast_to\u001b[49m\u001b[38;5;241;43m=\u001b[39;49m\u001b[43mcast_to\u001b[49m\u001b[43m,\u001b[49m\n\u001b[1;32m    944\u001b[0m \u001b[43m        \u001b[49m\u001b[43moptions\u001b[49m\u001b[38;5;241;43m=\u001b[39;49m\u001b[43moptions\u001b[49m\u001b[43m,\u001b[49m\n\u001b[1;32m    945\u001b[0m \u001b[43m        \u001b[49m\u001b[43mstream\u001b[49m\u001b[38;5;241;43m=\u001b[39;49m\u001b[43mstream\u001b[49m\u001b[43m,\u001b[49m\n\u001b[1;32m    946\u001b[0m \u001b[43m        \u001b[49m\u001b[43mstream_cls\u001b[49m\u001b[38;5;241;43m=\u001b[39;49m\u001b[43mstream_cls\u001b[49m\u001b[43m,\u001b[49m\n\u001b[1;32m    947\u001b[0m \u001b[43m        \u001b[49m\u001b[43mremaining_retries\u001b[49m\u001b[38;5;241;43m=\u001b[39;49m\u001b[43mremaining_retries\u001b[49m\u001b[43m,\u001b[49m\n\u001b[1;32m    948\u001b[0m \u001b[43m    \u001b[49m\u001b[43m)\u001b[49m\n",
      "File \u001b[0;32m~/Documents/MS/GenAI/venv_gen/lib/python3.10/site-packages/openai/_base_client.py:1046\u001b[0m, in \u001b[0;36mSyncAPIClient._request\u001b[0;34m(self, cast_to, options, remaining_retries, stream, stream_cls)\u001b[0m\n\u001b[1;32m   1043\u001b[0m         err\u001b[38;5;241m.\u001b[39mresponse\u001b[38;5;241m.\u001b[39mread()\n\u001b[1;32m   1045\u001b[0m     log\u001b[38;5;241m.\u001b[39mdebug(\u001b[38;5;124m\"\u001b[39m\u001b[38;5;124mRe-raising status error\u001b[39m\u001b[38;5;124m\"\u001b[39m)\n\u001b[0;32m-> 1046\u001b[0m     \u001b[38;5;28;01mraise\u001b[39;00m \u001b[38;5;28mself\u001b[39m\u001b[38;5;241m.\u001b[39m_make_status_error_from_response(err\u001b[38;5;241m.\u001b[39mresponse) \u001b[38;5;28;01mfrom\u001b[39;00m \u001b[38;5;28;01mNone\u001b[39;00m\n\u001b[1;32m   1048\u001b[0m \u001b[38;5;28;01mreturn\u001b[39;00m \u001b[38;5;28mself\u001b[39m\u001b[38;5;241m.\u001b[39m_process_response(\n\u001b[1;32m   1049\u001b[0m     cast_to\u001b[38;5;241m=\u001b[39mcast_to,\n\u001b[1;32m   1050\u001b[0m     options\u001b[38;5;241m=\u001b[39moptions,\n\u001b[0;32m   (...)\u001b[0m\n\u001b[1;32m   1054\u001b[0m     retries_taken\u001b[38;5;241m=\u001b[39moptions\u001b[38;5;241m.\u001b[39mget_max_retries(\u001b[38;5;28mself\u001b[39m\u001b[38;5;241m.\u001b[39mmax_retries) \u001b[38;5;241m-\u001b[39m retries,\n\u001b[1;32m   1055\u001b[0m )\n",
      "\u001b[0;31mNotFoundError\u001b[0m: Error code: 404 - {'error': {'code': '404', 'message': 'Resource not found'}}"
     ]
    }
   ],
   "source": [
    "# Audio to Speech\n",
    "\n",
    "response = openai.audio.speech.create(\n",
    "    model = \"gpt-4o-mini\",\n",
    "    voice=\"alloy\",\n",
    "    input=\"Today is a wonderful day to build something people love! Varun\",\n",
    ")\n",
    "\n",
    "response.stream_to_file(\"output.mp3\")"
   ]
  },
  {
   "cell_type": "code",
   "execution_count": null,
   "metadata": {},
   "outputs": [],
   "source": [
    "audio_file = open(\"/content/output.mp3\", \"rb\")\n",
    "\n",
    "response = openai.audio.transcriptions.create(\n",
    "  model=\"whisper-1\",\n",
    "  file = audio_file\n",
    "  )\n",
    "\n",
    "print(response.text)"
   ]
  },
  {
   "cell_type": "code",
   "execution_count": null,
   "metadata": {},
   "outputs": [],
   "source": []
  },
  {
   "cell_type": "code",
   "execution_count": null,
   "metadata": {},
   "outputs": [],
   "source": []
  },
  {
   "cell_type": "code",
   "execution_count": null,
   "metadata": {},
   "outputs": [],
   "source": []
  }
 ],
 "metadata": {
  "kernelspec": {
   "display_name": "venv_gen",
   "language": "python",
   "name": "python3"
  },
  "language_info": {
   "codemirror_mode": {
    "name": "ipython",
    "version": 3
   },
   "file_extension": ".py",
   "mimetype": "text/x-python",
   "name": "python",
   "nbconvert_exporter": "python",
   "pygments_lexer": "ipython3",
   "version": "3.10.12"
  }
 },
 "nbformat": 4,
 "nbformat_minor": 2
}
