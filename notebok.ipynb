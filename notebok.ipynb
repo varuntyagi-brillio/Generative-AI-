{
 "cells": [
  {
   "cell_type": "code",
   "execution_count": 2,
   "metadata": {},
   "outputs": [
    {
     "data": {
      "text/plain": [
       "0"
      ]
     },
     "execution_count": 2,
     "metadata": {},
     "output_type": "execute_result"
    }
   ],
   "source": [
    "6%2"
   ]
  },
  {
   "cell_type": "code",
   "execution_count": 6,
   "metadata": {},
   "outputs": [
    {
     "data": {
      "text/plain": [
       "{' ', 'W', 'c', 'd', 'e', 'h', 'i', 'o', 'r', 't', 'u', 'y'}"
      ]
     },
     "execution_count": 6,
     "metadata": {},
     "output_type": "execute_result"
    }
   ],
   "source": [
    "set(list(\"Write your code here\"))"
   ]
  },
  {
   "cell_type": "code",
   "execution_count": 9,
   "metadata": {},
   "outputs": [
    {
     "data": {
      "text/plain": [
       "11"
      ]
     },
     "execution_count": 9,
     "metadata": {},
     "output_type": "execute_result"
    }
   ],
   "source": [
    "n = \"Write your code here\"\n",
    "len(set([ch for ch in n if ch!=\" \"]))"
   ]
  },
  {
   "cell_type": "code",
   "execution_count": 20,
   "metadata": {},
   "outputs": [
    {
     "name": "stdout",
     "output_type": "stream",
     "text": [
      "[2, 5]\n"
     ]
    }
   ],
   "source": [
    "collection = [1,3,4]\n",
    "d = 7\n",
    "output = []\n",
    "output_sum = 0\n",
    "card_num = 1\n",
    "for ele in sorted(collection):\n",
    "    while card_num != ele and (output_sum+card_num) <= d:\n",
    "        output.append(card_num)\n",
    "        output_sum += card_num\n",
    "        card_num += 1\n",
    "    card_num += 1\n",
    "\n",
    "while (output_sum+card_num) <= d:\n",
    "    output.append(card_num)\n",
    "    output_sum += card_num\n",
    "    card_num += 1\n",
    "\n",
    "print(output)"
   ]
  },
  {
   "cell_type": "code",
   "execution_count": 32,
   "metadata": {},
   "outputs": [
    {
     "name": "stdout",
     "output_type": "stream",
     "text": [
      "49\n"
     ]
    }
   ],
   "source": [
    "import numpy as np\n",
    "\n",
    "score = [17,12,10,2,7,2,11,20,8]\n",
    "team_size = 3\n",
    "k = 4\n",
    "output = 0\n",
    "    \n",
    "while team_size:\n",
    "    lower_values = score[:k]\n",
    "    higher_values = score[-(k):]\n",
    "    \n",
    "    # print(lower_values, higher_values)\n",
    "\n",
    "    l_max_ind = np.argmax(lower_values)\n",
    "    h_max_ind = np.argmax(higher_values)\n",
    "    \n",
    "    # print(l_max_ind, h_max_ind)\n",
    "\n",
    "    l_max_value = lower_values[l_max_ind]\n",
    "    h_max_value = higher_values[h_max_ind]\n",
    "    \n",
    "        \n",
    "    if l_max_value<h_max_value:\n",
    "        output += h_max_value\n",
    "        # output.append(h_max_value)\n",
    "        pop_ind = -(k-h_max_ind)\n",
    "    \n",
    "    else:\n",
    "        output += l_max_value\n",
    "        # output.append(l_max_value)\n",
    "        pop_ind = l_max_ind\n",
    "    \n",
    "    score.pop(pop_ind)\n",
    "    team_size -= 1\n",
    "\n",
    "print(output)"
   ]
  },
  {
   "cell_type": "code",
   "execution_count": 33,
   "metadata": {},
   "outputs": [
    {
     "name": "stdout",
     "output_type": "stream",
     "text": [
      "49\n"
     ]
    }
   ],
   "source": [
    "import numpy as np\n",
    "\n",
    "score = [17, 12, 10, 2, 7, 2, 11, 20, 8]\n",
    "team_size = 3\n",
    "k = 4\n",
    "output = 0\n",
    "\n",
    "while team_size:\n",
    "\n",
    "    l_max_ind = np.argmax(score[:k])\n",
    "    l_max_value = score[l_max_ind]\n",
    "    \n",
    "    h_max_ind = np.argmax(score[-k:])\n",
    "    h_max_value = score[-k:][h_max_ind]\n",
    "\n",
    "    if l_max_value < h_max_value:\n",
    "        output += h_max_value\n",
    "        pop_ind = -(k - h_max_ind)  \n",
    "    else:\n",
    "        output += l_max_value\n",
    "        pop_ind = l_max_ind\n",
    "\n",
    "    score = score[:pop_ind] + score[pop_ind + 1:]\n",
    "    team_size -= 1\n",
    "\n",
    "print(output)"
   ]
  },
  {
   "cell_type": "code",
   "execution_count": 37,
   "metadata": {},
   "outputs": [
    {
     "name": "stdout",
     "output_type": "stream",
     "text": [
      "89\n",
      "49\n"
     ]
    }
   ],
   "source": [
    "score = [17, 12, 10, 2, 7, 2, 11, 20, 8]\n",
    "team_size = 3\n",
    "k = 99\n",
    "output = 0\n",
    "\n",
    "if len(score)<=k:\n",
    "    print(sum(sorted(score)[:k]))\n",
    "\n",
    "while team_size > 0:\n",
    "    # Find the maximum value and its index in the first `k` elements\n",
    "    l_max_ind, l_max_value = max(enumerate(score[:k]), key=lambda x: x[1])\n",
    "    \n",
    "    # Find the maximum value and its index in the last `k` elements\n",
    "    h_max_ind, h_max_value = max(enumerate(score[-k:]), key=lambda x: x[1])\n",
    "\n",
    "    # Compare and pop the larger value between the two sides\n",
    "    if l_max_value < h_max_value:\n",
    "        output += h_max_value\n",
    "        # Adjust the pop index for the right side (negative indexing)\n",
    "        pop_ind = len(score) - k + h_max_ind\n",
    "    else:\n",
    "        output += l_max_value\n",
    "        pop_ind = l_max_ind\n",
    "\n",
    "    # Remove the selected value from the score list\n",
    "    score.pop(pop_ind)\n",
    "    team_size -= 1\n",
    "\n",
    "print(output)"
   ]
  },
  {
   "cell_type": "code",
   "execution_count": null,
   "metadata": {},
   "outputs": [],
   "source": []
  }
 ],
 "metadata": {
  "kernelspec": {
   "display_name": "venv_gen",
   "language": "python",
   "name": "python3"
  },
  "language_info": {
   "codemirror_mode": {
    "name": "ipython",
    "version": 3
   },
   "file_extension": ".py",
   "mimetype": "text/x-python",
   "name": "python",
   "nbconvert_exporter": "python",
   "pygments_lexer": "ipython3",
   "version": "3.10.12"
  }
 },
 "nbformat": 4,
 "nbformat_minor": 2
}
