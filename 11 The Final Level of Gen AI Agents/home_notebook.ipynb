{
 "cells": [
  {
   "cell_type": "code",
   "execution_count": 1,
   "metadata": {},
   "outputs": [
    {
     "data": {
      "text/plain": [
       "True"
      ]
     },
     "execution_count": 1,
     "metadata": {},
     "output_type": "execute_result"
    }
   ],
   "source": [
    "import os\n",
    "from dotenv import load_dotenv\n",
    "\n",
    "load_dotenv()"
   ]
  },
  {
   "cell_type": "code",
   "execution_count": 2,
   "metadata": {},
   "outputs": [],
   "source": [
    "from langchain_openai import AzureChatOpenAI\n",
    "\n",
    "llm = AzureChatOpenAI(\n",
    "    api_key = os.getenv(\"AZURE_OPENAI_API_KEY\"),\n",
    "    api_version = \"2023-03-15-preview\",\n",
    "    azure_endpoint = os.getenv(\"AZURE_BASE_URL\"),\n",
    "    temperature = 0.2, \n",
    "    model = \"gpt-4o-mini\"\n",
    ")"
   ]
  },
  {
   "cell_type": "code",
   "execution_count": 8,
   "metadata": {},
   "outputs": [],
   "source": [
    "from langchain.tools import tool\n",
    "\n",
    "# @tool\n",
    "# def multiplynumbers(input: str) -> int:\n",
    "#     ''' \n",
    "#     multiplies two number a and b. input should be space-separated integers.\n",
    "#     '''\n",
    "#     #parse the input to extract number\n",
    "#     a = int(input.split()[0])\n",
    "#     b = int(input.split()[1])\n",
    "#     return a*b\n",
    "\n",
    "\n",
    "# You can also customize the tool name and JSON args by passing them into the tool decorator.\n",
    "from langchain.pydantic_v1 import BaseModel, Field\n",
    "\n",
    "class MultiplyInput(BaseModel):\n",
    "    input: str = Field(description=\"search query\")\n",
    "\n",
    "\n",
    "@tool(\"multiply-tool\", args_schema=MultiplyInput, return_direct=True)\n",
    "def multiplynumbers(input: str) -> str:\n",
    "    ''' \n",
    "    multiplies two number a and b. input should be space-separated integers.\n",
    "    '''\n",
    "\n",
    "    #parse the input to extract number\n",
    "    a = int(input.split()[0])\n",
    "    b = int(input.split()[1])\n",
    "    return a*b\n"
   ]
  },
  {
   "cell_type": "code",
   "execution_count": 12,
   "metadata": {},
   "outputs": [],
   "source": [
    "from langchain.agents import initialize, AgentType\n",
    "\n",
    "agent = initialize.initialize_agent(\n",
    "    tools = [multiplynumbers],\n",
    "    llm = llm,\n",
    "    agent_type = AgentType.CONVERSATIONAL_REACT_DESCRIPTION,\n",
    "    verbose=True\n",
    ")"
   ]
  },
  {
   "cell_type": "code",
   "execution_count": 14,
   "metadata": {},
   "outputs": [
    {
     "name": "stdout",
     "output_type": "stream",
     "text": [
      "\n",
      "\n",
      "\u001b[1m> Entering new AgentExecutor chain...\u001b[0m\n",
      "\u001b[32;1m\u001b[1;3mTo find the result of multiplying 6 and 7, I need to use the multiply-tool to perform the multiplication. \n",
      "\n",
      "Action: multiply-tool  \n",
      "Action Input: \"6 7\"  \u001b[0m\n",
      "Observation: \u001b[36;1m\u001b[1;3m42\u001b[0m\n",
      "\u001b[32;1m\u001b[1;3m\u001b[0m\n",
      "\n",
      "\u001b[1m> Finished chain.\u001b[0m\n",
      "{'input': 'What is the result of multiplying 6 and 7?', 'output': 42}\n"
     ]
    }
   ],
   "source": [
    "# Query the agent\n",
    "query = \"What is the result of multiplying 6 and 7?\"\n",
    "response = agent.invoke(query)\n",
    "print(response)"
   ]
  },
  {
   "cell_type": "code",
   "execution_count": 16,
   "metadata": {},
   "outputs": [],
   "source": [
    "@tool\n",
    "def addnumbers(input:str) -> int:\n",
    "    ''' \n",
    "    Adds two number a and b.  input should be space-separated integers.\n",
    "    '''\n",
    "\n",
    "    #parse the input to extract number\n",
    "    a = int(input.split()[0])\n",
    "    b = int(input.split()[1])\n",
    "    return a+b \n"
   ]
  },
  {
   "cell_type": "code",
   "execution_count": 18,
   "metadata": {},
   "outputs": [],
   "source": [
    "agent = initialize.initialize_agent(\n",
    "    tools = [multiplynumbers, addnumbers],\n",
    "    llm = llm,\n",
    "    agent_type = AgentType.CONVERSATIONAL_REACT_DESCRIPTION,\n",
    "    verbose = True\n",
    ")"
   ]
  },
  {
   "cell_type": "code",
   "execution_count": 19,
   "metadata": {},
   "outputs": [
    {
     "name": "stdout",
     "output_type": "stream",
     "text": [
      "\n",
      "\n",
      "\u001b[1m> Entering new AgentExecutor chain...\u001b[0m\n",
      "\u001b[32;1m\u001b[1;3mTo find the result of multiplying 6 and 7, I will use the multiply-tool function. \n",
      "\n",
      "Action: multiply-tool  \n",
      "Action Input: \"6 7\"  \u001b[0m\n",
      "Observation: \u001b[36;1m\u001b[1;3m42\u001b[0m\n",
      "\u001b[32;1m\u001b[1;3m\u001b[0m\n",
      "\n",
      "\u001b[1m> Finished chain.\u001b[0m\n"
     ]
    },
    {
     "data": {
      "text/plain": [
       "{'input': 'What is the result of multiplying 6 and 7?', 'output': 42}"
      ]
     },
     "execution_count": 19,
     "metadata": {},
     "output_type": "execute_result"
    }
   ],
   "source": [
    "query_multiply = \"What is the result of multiplying 6 and 7?\"\n",
    "agent.invoke(query_multiply)"
   ]
  },
  {
   "cell_type": "code",
   "execution_count": 22,
   "metadata": {},
   "outputs": [
    {
     "name": "stdout",
     "output_type": "stream",
     "text": [
      "\n",
      "\n",
      "\u001b[1m> Entering new AgentExecutor chain...\u001b[0m\n",
      "\u001b[32;1m\u001b[1;3mTo find the result of multiplying 6 and 7, I need to use the multiply-tool function. \n",
      "\n",
      "Action: multiply-tool  \n",
      "Action Input: \"6 7\"  \u001b[0m\n",
      "Observation: \u001b[36;1m\u001b[1;3m42\u001b[0m\n",
      "\u001b[32;1m\u001b[1;3m\u001b[0m\n",
      "\n",
      "\u001b[1m> Finished chain.\u001b[0m\n"
     ]
    },
    {
     "data": {
      "text/plain": [
       "{'input': 'What is the result of multiplying 6 and 7?', 'output': 42}"
      ]
     },
     "execution_count": 22,
     "metadata": {},
     "output_type": "execute_result"
    }
   ],
   "source": [
    "response = agent.invoke(query_multiply)\n",
    "response"
   ]
  },
  {
   "cell_type": "code",
   "execution_count": 23,
   "metadata": {},
   "outputs": [
    {
     "name": "stdout",
     "output_type": "stream",
     "text": [
      "\n",
      "\n",
      "\u001b[1m> Entering new AgentExecutor chain...\u001b[0m\n",
      "\u001b[32;1m\u001b[1;3mTo find the sum of 6 and 7, I need to use the addition tool.  \n",
      "Action: addnumbers  \n",
      "Action Input: \"6 7\"  \u001b[0m\n",
      "Observation: \u001b[33;1m\u001b[1;3m13\u001b[0m\n",
      "Thought:\u001b[32;1m\u001b[1;3mI now know the final answer.  \n",
      "Final Answer: 13\u001b[0m\n",
      "\n",
      "\u001b[1m> Finished chain.\u001b[0m\n"
     ]
    },
    {
     "data": {
      "text/plain": [
       "{'input': 'add 6 and 7?', 'output': '13'}"
      ]
     },
     "execution_count": 23,
     "metadata": {},
     "output_type": "execute_result"
    }
   ],
   "source": [
    "query_addition = \"add 6 and 7?\"\n",
    "agent.invoke(query_addition)"
   ]
  },
  {
   "cell_type": "code",
   "execution_count": 24,
   "metadata": {},
   "outputs": [],
   "source": [
    "# Agent Example 2\n",
    "\n",
    "@tool\n",
    "def get_weather(location:str)->str:\n",
    "    ''' \n",
    "    Provides the weather information for a given location. Input should be name of a location. Return the weather information directly without performing any further actions.\n",
    "    '''\n",
    "\n",
    "    return f'The weather in {location} is sunny with temperature of 25°C.'"
   ]
  },
  {
   "cell_type": "code",
   "execution_count": 25,
   "metadata": {},
   "outputs": [],
   "source": [
    "from langchain.prompts import PromptTemplate\n",
    "\n",
    "prompt = PromptTemplate(\n",
    "    input_variables = [\"input\", \"agent_scratchpad\"],\n",
    "    template = ''' \n",
    "        You are an assistant that can answer questions directly or use tools when necessary.\n",
    "        If a question requires specific information, like weather details, extract the necessary\n",
    "        information (such as location) and use the appropriate tool. Otherwise, answer directly.\n",
    "        {agent_scratchpad}\n",
    "        Question: {input}\n",
    "        Answer:\n",
    "    '''\n",
    ")"
   ]
  },
  {
   "cell_type": "code",
   "execution_count": 26,
   "metadata": {},
   "outputs": [],
   "source": [
    "agent = initialize.initialize_agent(\n",
    "    tools = [get_weather],\n",
    "    llm = llm,\n",
    "    agent_type = AgentType.CONVERSATIONAL_REACT_DESCRIPTION,\n",
    "    verbose = True,\n",
    "    prompt_template = prompt,\n",
    "    handling_parsing_errors = True\n",
    ")"
   ]
  },
  {
   "cell_type": "code",
   "execution_count": 28,
   "metadata": {},
   "outputs": [
    {
     "name": "stdout",
     "output_type": "stream",
     "text": [
      "\n",
      "\n",
      "\u001b[1m> Entering new AgentExecutor chain...\u001b[0m\n",
      "\u001b[32;1m\u001b[1;3mI need to provide information about the basics of math. This doesn't require a weather check, so I can summarize key concepts instead. \n",
      "\n",
      "Final Answer: The basics of math include addition, subtraction, multiplication, and division. Other fundamental concepts are fractions, decimals, percentages, and basic geometry. Understanding these concepts forms the foundation for more advanced topics in mathematics.\u001b[0m\n",
      "\n",
      "\u001b[1m> Finished chain.\u001b[0m\n"
     ]
    },
    {
     "data": {
      "text/plain": [
       "{'input': 'help me with bsics of maths.',\n",
       " 'output': 'The basics of math include addition, subtraction, multiplication, and division. Other fundamental concepts are fractions, decimals, percentages, and basic geometry. Understanding these concepts forms the foundation for more advanced topics in mathematics.'}"
      ]
     },
     "execution_count": 28,
     "metadata": {},
     "output_type": "execute_result"
    }
   ],
   "source": [
    "query_general = \"help me with bsics of maths.\"\n",
    "agent.invoke(query_general)"
   ]
  },
  {
   "cell_type": "code",
   "execution_count": 29,
   "metadata": {},
   "outputs": [
    {
     "name": "stdout",
     "output_type": "stream",
     "text": [
      "\n",
      "\n",
      "\u001b[1m> Entering new AgentExecutor chain...\u001b[0m\n",
      "\u001b[32;1m\u001b[1;3mI need to find the current weather information for New Delhi.  \n",
      "Action: get_weather  \n",
      "Action Input: \"New Delhi\"  \u001b[0m\n",
      "Observation: \u001b[36;1m\u001b[1;3mThe weather in New Delhi is sunny with temperature of 25°C.\u001b[0m\n",
      "Thought:\u001b[32;1m\u001b[1;3mI now know the final answer  \n",
      "Final Answer: The weather in New Delhi is sunny with a temperature of 25°C.\u001b[0m\n",
      "\n",
      "\u001b[1m> Finished chain.\u001b[0m\n"
     ]
    },
    {
     "data": {
      "text/plain": [
       "{'input': 'how is the weather in new delhi.',\n",
       " 'output': 'The weather in New Delhi is sunny with a temperature of 25°C.'}"
      ]
     },
     "execution_count": 29,
     "metadata": {},
     "output_type": "execute_result"
    }
   ],
   "source": [
    "query_general = \"how is the weather in new delhi.\"\n",
    "agent.invoke(query_general)"
   ]
  },
  {
   "cell_type": "code",
   "execution_count": 30,
   "metadata": {},
   "outputs": [
    {
     "name": "stdout",
     "output_type": "stream",
     "text": [
      "\n",
      "\n",
      "\u001b[1m> Entering new AgentExecutor chain...\u001b[0m\n",
      "\u001b[32;1m\u001b[1;3mI need to find out the current weather in Bengaluru.  \n",
      "Action: get_weather  \n",
      "Action Input: \"Bengaluru\"  \u001b[0m\n",
      "Observation: \u001b[36;1m\u001b[1;3mThe weather in Bengaluru is sunny with temperature of 25°C.\u001b[0m\n",
      "Thought:\u001b[32;1m\u001b[1;3mI now know the final answer  \n",
      "Final Answer: The weather in Bengaluru is sunny with a temperature of 25°C.\u001b[0m\n",
      "\n",
      "\u001b[1m> Finished chain.\u001b[0m\n",
      "Agent: The weather in Bengaluru is sunny with a temperature of 25°C.\n",
      "Goodbye!\n"
     ]
    }
   ],
   "source": [
    "while True:\n",
    "    user_input = input(\"You: \")\n",
    "    if user_input.lower() in [\"exit\", \"quit\"]:\n",
    "        print(\"Goodbye!\")\n",
    "        break\n",
    "\n",
    "    response_general = agent.run(user_input)\n",
    "    print(\"Agent:\", response_general)"
   ]
  },
  {
   "cell_type": "code",
   "execution_count": 64,
   "metadata": {},
   "outputs": [],
   "source": [
    "# Agent Example 3\n",
    "from langchain_core.output_parsers import StrOutputParser\n",
    "\n",
    "decision_prompt = PromptTemplate(\n",
    "    input_variable = [\"query\"],\n",
    "    template=(\n",
    "    ''' \n",
    "        If the query requires specific information about weather, return 'True'. Otherwise, return the answer based on what is asked in the question.\n",
    "        Do not return anything else other than True if the query is asking about the weather\n",
    "        Query: {query}\n",
    "        Answer:\n",
    "    '''\n",
    "    )\n",
    ")\n",
    "\n",
    "# decision_chain = LLMChain(\n",
    "#   prompt = decision_prompt  \n",
    "#   llm=llm,\n",
    "# )\n",
    "\n",
    "decision_chain = decision_prompt | llm | StrOutputParser()"
   ]
  },
  {
   "cell_type": "code",
   "execution_count": 74,
   "metadata": {},
   "outputs": [],
   "source": [
    "def should_use_tool(query:str)->str:\n",
    "    decision = decision_chain.invoke({\n",
    "        \"query\": query\n",
    "        })\n",
    "    return decision.lower().strip()\n",
    "\n",
    "def custom_agent(query:str)->str:\n",
    "    response_llm = should_use_tool(query)\n",
    "    if response_llm == \"true\":\n",
    "        agent = initialize.initialize_agent(\n",
    "                    tools = [get_weather],\n",
    "                    llm = llm,\n",
    "                    agent_type = AgentType.CONVERSATIONAL_REACT_DESCRIPTION,\n",
    "                    verbose = True,\n",
    "                    prompt_template = prompt,\n",
    "                    handling_parsing_errors = True\n",
    "                )\n",
    "        response = agent.invoke(query)\n",
    "\n",
    "    else:\n",
    "        response = response_llm\n",
    "\n",
    "    return response"
   ]
  },
  {
   "cell_type": "code",
   "execution_count": 75,
   "metadata": {},
   "outputs": [
    {
     "name": "stdout",
     "output_type": "stream",
     "text": [
      "Agent:  the current president of the united states is joe biden.\n"
     ]
    }
   ],
   "source": [
    "query = \"Who is the president of United States ?\"\n",
    "response_general = custom_agent(query)\n",
    "print(\"Agent: \", response_general)"
   ]
  },
  {
   "cell_type": "code",
   "execution_count": 76,
   "metadata": {},
   "outputs": [
    {
     "name": "stdout",
     "output_type": "stream",
     "text": [
      "\n",
      "\n",
      "\u001b[1m> Entering new AgentExecutor chain...\u001b[0m\n",
      "\u001b[32;1m\u001b[1;3mI need to find out the current weather in Delhi.  \n",
      "Action: get_weather  \n",
      "Action Input: \"Delhi\"  \u001b[0m\n",
      "Observation: \u001b[36;1m\u001b[1;3mThe weather in Delhi is sunny with temperature of 25°C.\u001b[0m\n",
      "Thought:\u001b[32;1m\u001b[1;3mI now know the final answer  \n",
      "Final Answer: The weather in Delhi is sunny with a temperature of 25°C.\u001b[0m\n",
      "\n",
      "\u001b[1m> Finished chain.\u001b[0m\n",
      "Agent: {'input': 'What is the weather in Delhi?', 'output': 'The weather in Delhi is sunny with a temperature of 25°C.'}\n"
     ]
    }
   ],
   "source": [
    "# Example where the LLM should decide to use a tool\n",
    "query_weather = \"What is the weather in Delhi?\"\n",
    "response_weather = custom_agent(query_weather)\n",
    "print(\"Agent:\", response_weather)"
   ]
  },
  {
   "cell_type": "code",
   "execution_count": 83,
   "metadata": {},
   "outputs": [],
   "source": [
    "from langchain.memory import ConversationBufferMemory\n",
    "\n",
    "memory = ConversationBufferMemory(\n",
    "    memory_key = \"chat_history\"\n",
    ")\n",
    "\n",
    "agent = initialize.initialize_agent(\n",
    "    tools = [get_weather],\n",
    "    llm = llm,\n",
    "    agent_type = AgentType.CONVERSATIONAL_REACT_DESCRIPTION,\n",
    "    verbose = True,\n",
    "    prompt_template = prompt,\n",
    "    handling_parsing_errors = True,\n",
    "    memory = memory\n",
    ")"
   ]
  },
  {
   "cell_type": "code",
   "execution_count": 84,
   "metadata": {},
   "outputs": [
    {
     "name": "stdout",
     "output_type": "stream",
     "text": [
      "\n",
      "\n",
      "\u001b[1m> Entering new AgentExecutor chain...\u001b[0m\n",
      "\u001b[32;1m\u001b[1;3mI need to find out the current weather in Delhi.  \n",
      "Action: get_weather  \n",
      "Action Input: \"Delhi\"  \u001b[0m\n",
      "Observation: \u001b[36;1m\u001b[1;3mThe weather in Delhi is sunny with temperature of 25°C.\u001b[0m\n",
      "Thought:\u001b[32;1m\u001b[1;3mI now know the final answer  \n",
      "Final Answer: The weather in Delhi is sunny with a temperature of 25°C.\u001b[0m\n",
      "\n",
      "\u001b[1m> Finished chain.\u001b[0m\n"
     ]
    },
    {
     "data": {
      "text/plain": [
       "{'input': 'What is the weather in Delhi?',\n",
       " 'chat_history': '',\n",
       " 'output': 'The weather in Delhi is sunny with a temperature of 25°C.'}"
      ]
     },
     "execution_count": 84,
     "metadata": {},
     "output_type": "execute_result"
    }
   ],
   "source": [
    "# Example interactions with the agent\n",
    "query1 = \"What is the weather in Delhi?\"\n",
    "agent.invoke({\n",
    "    \"input\": query1\n",
    "})"
   ]
  },
  {
   "cell_type": "code",
   "execution_count": 85,
   "metadata": {},
   "outputs": [
    {
     "name": "stdout",
     "output_type": "stream",
     "text": [
      "\n",
      "\n",
      "\u001b[1m> Entering new AgentExecutor chain...\u001b[0m\n",
      "\u001b[32;1m\u001b[1;3mI need to find out the weather information for New York.  \n",
      "Action: get_weather  \n",
      "Action Input: \"New York\"  \u001b[0m\n",
      "Observation: \u001b[36;1m\u001b[1;3mThe weather in New York is sunny with temperature of 25°C.\u001b[0m\n",
      "Thought:\u001b[32;1m\u001b[1;3mI now know the final answer  \n",
      "Final Answer: The weather in New York is sunny with a temperature of 25°C.\u001b[0m\n",
      "\n",
      "\u001b[1m> Finished chain.\u001b[0m\n"
     ]
    },
    {
     "data": {
      "text/plain": [
       "{'input': 'And what about New York?',\n",
       " 'chat_history': 'Human: What is the weather in Delhi?\\nAI: The weather in Delhi is sunny with a temperature of 25°C.',\n",
       " 'output': 'The weather in New York is sunny with a temperature of 25°C.'}"
      ]
     },
     "execution_count": 85,
     "metadata": {},
     "output_type": "execute_result"
    }
   ],
   "source": [
    "query2 = \"And what about New York?\"\n",
    "agent.invoke({\n",
    "    \"input\":query2\n",
    "    })"
   ]
  },
  {
   "cell_type": "code",
   "execution_count": 86,
   "metadata": {},
   "outputs": [
    {
     "name": "stdout",
     "output_type": "stream",
     "text": [
      "Human: What is the weather in Delhi?\n",
      "AI: The weather in Delhi is sunny with a temperature of 25°C.\n",
      "Human: And what about New York?\n",
      "AI: The weather in New York is sunny with a temperature of 25°C.\n"
     ]
    }
   ],
   "source": [
    "print(memory.buffer)"
   ]
  },
  {
   "cell_type": "code",
   "execution_count": null,
   "metadata": {},
   "outputs": [],
   "source": []
  }
 ],
 "metadata": {
  "kernelspec": {
   "display_name": "genai_env",
   "language": "python",
   "name": "python3"
  },
  "language_info": {
   "codemirror_mode": {
    "name": "ipython",
    "version": 3
   },
   "file_extension": ".py",
   "mimetype": "text/x-python",
   "name": "python",
   "nbconvert_exporter": "python",
   "pygments_lexer": "ipython3",
   "version": "3.11.9"
  }
 },
 "nbformat": 4,
 "nbformat_minor": 2
}
